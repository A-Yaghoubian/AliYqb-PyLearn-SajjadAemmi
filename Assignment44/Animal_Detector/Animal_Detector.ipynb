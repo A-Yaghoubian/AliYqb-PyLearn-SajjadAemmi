{
  "nbformat": 4,
  "nbformat_minor": 0,
  "metadata": {
    "colab": {
      "name": "Animal_Detector.ipynb",
      "provenance": []
    },
    "kernelspec": {
      "name": "python3",
      "display_name": "Python 3"
    },
    "language_info": {
      "name": "python"
    },
    "accelerator": "GPU",
    "widgets": {
      "application/vnd.jupyter.widget-state+json": {
        "b2c84d3a85804391a387642613b6c40d": {
          "model_module": "@jupyter-widgets/controls",
          "model_name": "VBoxModel",
          "model_module_version": "1.5.0",
          "state": {
            "_dom_classes": [],
            "_model_module": "@jupyter-widgets/controls",
            "_model_module_version": "1.5.0",
            "_model_name": "VBoxModel",
            "_view_count": null,
            "_view_module": "@jupyter-widgets/controls",
            "_view_module_version": "1.5.0",
            "_view_name": "VBoxView",
            "box_style": "",
            "children": [
              "IPY_MODEL_bfe73fe945d44456922ca2974f49b5c1",
              "IPY_MODEL_522454a5e174428aad458b8589cac757"
            ],
            "layout": "IPY_MODEL_7f76ac84b50d4ef1bbd7606ac3a60619"
          }
        },
        "bfe73fe945d44456922ca2974f49b5c1": {
          "model_module": "@jupyter-widgets/controls",
          "model_name": "LabelModel",
          "model_module_version": "1.5.0",
          "state": {
            "_dom_classes": [],
            "_model_module": "@jupyter-widgets/controls",
            "_model_module_version": "1.5.0",
            "_model_name": "LabelModel",
            "_view_count": null,
            "_view_module": "@jupyter-widgets/controls",
            "_view_module_version": "1.5.0",
            "_view_name": "LabelView",
            "description": "",
            "description_tooltip": null,
            "layout": "IPY_MODEL_7c2fe9178b8a4a199125cde3da16962b",
            "placeholder": "​",
            "style": "IPY_MODEL_76588b961067410dae83eea3d993e895",
            "value": "218.588 MB of 218.588 MB uploaded (0.000 MB deduped)\r"
          }
        },
        "522454a5e174428aad458b8589cac757": {
          "model_module": "@jupyter-widgets/controls",
          "model_name": "FloatProgressModel",
          "model_module_version": "1.5.0",
          "state": {
            "_dom_classes": [],
            "_model_module": "@jupyter-widgets/controls",
            "_model_module_version": "1.5.0",
            "_model_name": "FloatProgressModel",
            "_view_count": null,
            "_view_module": "@jupyter-widgets/controls",
            "_view_module_version": "1.5.0",
            "_view_name": "ProgressView",
            "bar_style": "",
            "description": "",
            "description_tooltip": null,
            "layout": "IPY_MODEL_15f3c5f452954d7b8ef4922a4075c6e8",
            "max": 1,
            "min": 0,
            "orientation": "horizontal",
            "style": "IPY_MODEL_4039c151aad241e9b410d32596031de4",
            "value": 1
          }
        },
        "7f76ac84b50d4ef1bbd7606ac3a60619": {
          "model_module": "@jupyter-widgets/base",
          "model_name": "LayoutModel",
          "model_module_version": "1.2.0",
          "state": {
            "_model_module": "@jupyter-widgets/base",
            "_model_module_version": "1.2.0",
            "_model_name": "LayoutModel",
            "_view_count": null,
            "_view_module": "@jupyter-widgets/base",
            "_view_module_version": "1.2.0",
            "_view_name": "LayoutView",
            "align_content": null,
            "align_items": null,
            "align_self": null,
            "border": null,
            "bottom": null,
            "display": null,
            "flex": null,
            "flex_flow": null,
            "grid_area": null,
            "grid_auto_columns": null,
            "grid_auto_flow": null,
            "grid_auto_rows": null,
            "grid_column": null,
            "grid_gap": null,
            "grid_row": null,
            "grid_template_areas": null,
            "grid_template_columns": null,
            "grid_template_rows": null,
            "height": null,
            "justify_content": null,
            "justify_items": null,
            "left": null,
            "margin": null,
            "max_height": null,
            "max_width": null,
            "min_height": null,
            "min_width": null,
            "object_fit": null,
            "object_position": null,
            "order": null,
            "overflow": null,
            "overflow_x": null,
            "overflow_y": null,
            "padding": null,
            "right": null,
            "top": null,
            "visibility": null,
            "width": null
          }
        },
        "7c2fe9178b8a4a199125cde3da16962b": {
          "model_module": "@jupyter-widgets/base",
          "model_name": "LayoutModel",
          "model_module_version": "1.2.0",
          "state": {
            "_model_module": "@jupyter-widgets/base",
            "_model_module_version": "1.2.0",
            "_model_name": "LayoutModel",
            "_view_count": null,
            "_view_module": "@jupyter-widgets/base",
            "_view_module_version": "1.2.0",
            "_view_name": "LayoutView",
            "align_content": null,
            "align_items": null,
            "align_self": null,
            "border": null,
            "bottom": null,
            "display": null,
            "flex": null,
            "flex_flow": null,
            "grid_area": null,
            "grid_auto_columns": null,
            "grid_auto_flow": null,
            "grid_auto_rows": null,
            "grid_column": null,
            "grid_gap": null,
            "grid_row": null,
            "grid_template_areas": null,
            "grid_template_columns": null,
            "grid_template_rows": null,
            "height": null,
            "justify_content": null,
            "justify_items": null,
            "left": null,
            "margin": null,
            "max_height": null,
            "max_width": null,
            "min_height": null,
            "min_width": null,
            "object_fit": null,
            "object_position": null,
            "order": null,
            "overflow": null,
            "overflow_x": null,
            "overflow_y": null,
            "padding": null,
            "right": null,
            "top": null,
            "visibility": null,
            "width": null
          }
        },
        "76588b961067410dae83eea3d993e895": {
          "model_module": "@jupyter-widgets/controls",
          "model_name": "DescriptionStyleModel",
          "model_module_version": "1.5.0",
          "state": {
            "_model_module": "@jupyter-widgets/controls",
            "_model_module_version": "1.5.0",
            "_model_name": "DescriptionStyleModel",
            "_view_count": null,
            "_view_module": "@jupyter-widgets/base",
            "_view_module_version": "1.2.0",
            "_view_name": "StyleView",
            "description_width": ""
          }
        },
        "15f3c5f452954d7b8ef4922a4075c6e8": {
          "model_module": "@jupyter-widgets/base",
          "model_name": "LayoutModel",
          "model_module_version": "1.2.0",
          "state": {
            "_model_module": "@jupyter-widgets/base",
            "_model_module_version": "1.2.0",
            "_model_name": "LayoutModel",
            "_view_count": null,
            "_view_module": "@jupyter-widgets/base",
            "_view_module_version": "1.2.0",
            "_view_name": "LayoutView",
            "align_content": null,
            "align_items": null,
            "align_self": null,
            "border": null,
            "bottom": null,
            "display": null,
            "flex": null,
            "flex_flow": null,
            "grid_area": null,
            "grid_auto_columns": null,
            "grid_auto_flow": null,
            "grid_auto_rows": null,
            "grid_column": null,
            "grid_gap": null,
            "grid_row": null,
            "grid_template_areas": null,
            "grid_template_columns": null,
            "grid_template_rows": null,
            "height": null,
            "justify_content": null,
            "justify_items": null,
            "left": null,
            "margin": null,
            "max_height": null,
            "max_width": null,
            "min_height": null,
            "min_width": null,
            "object_fit": null,
            "object_position": null,
            "order": null,
            "overflow": null,
            "overflow_x": null,
            "overflow_y": null,
            "padding": null,
            "right": null,
            "top": null,
            "visibility": null,
            "width": null
          }
        },
        "4039c151aad241e9b410d32596031de4": {
          "model_module": "@jupyter-widgets/controls",
          "model_name": "ProgressStyleModel",
          "model_module_version": "1.5.0",
          "state": {
            "_model_module": "@jupyter-widgets/controls",
            "_model_module_version": "1.5.0",
            "_model_name": "ProgressStyleModel",
            "_view_count": null,
            "_view_module": "@jupyter-widgets/base",
            "_view_module_version": "1.2.0",
            "_view_name": "StyleView",
            "bar_color": null,
            "description_width": ""
          }
        }
      }
    }
  },
  "cells": [
    {
      "cell_type": "markdown",
      "source": [
        "Install Package"
      ],
      "metadata": {
        "id": "lCg_STQPRwuX"
      }
    },
    {
      "cell_type": "code",
      "source": [
        "!pip install wandb"
      ],
      "metadata": {
        "id": "pAZ-u_B_RwFQ"
      },
      "execution_count": null,
      "outputs": []
    },
    {
      "cell_type": "markdown",
      "source": [
        "Libraries"
      ],
      "metadata": {
        "id": "rVbYXrJzMumF"
      }
    },
    {
      "cell_type": "code",
      "source": [
        "import tensorflow as tf\n",
        "from tensorflow.keras.preprocessing.image import ImageDataGenerator\n",
        "from tensorflow.keras.layers import Conv2D, Flatten, MaxPool2D, Dense\n",
        "import numpy as np\n",
        "import cv2\n",
        "import wandb\n",
        "from wandb.keras import WandbCallback\n",
        "from sklearn.metrics import confusion_matrix\n",
        "import matplotlib.pyplot as plt"
      ],
      "metadata": {
        "id": "iAwjXw0AMxrC"
      },
      "execution_count": 21,
      "outputs": []
    },
    {
      "cell_type": "markdown",
      "source": [
        "Init Wandb"
      ],
      "metadata": {
        "id": "glmbUonrR75I"
      }
    },
    {
      "cell_type": "code",
      "source": [
        "wandb.init(project=\"Animal-Detector\")"
      ],
      "metadata": {
        "colab": {
          "base_uri": "https://localhost:8080/",
          "height": 456,
          "referenced_widgets": [
            "b2c84d3a85804391a387642613b6c40d",
            "bfe73fe945d44456922ca2974f49b5c1",
            "522454a5e174428aad458b8589cac757",
            "7f76ac84b50d4ef1bbd7606ac3a60619",
            "7c2fe9178b8a4a199125cde3da16962b",
            "76588b961067410dae83eea3d993e895",
            "15f3c5f452954d7b8ef4922a4075c6e8",
            "4039c151aad241e9b410d32596031de4"
          ]
        },
        "id": "Ms1NCG0-R8rJ",
        "outputId": "96b18b65-9335-4066-a985-dd03fb23c024"
      },
      "execution_count": 14,
      "outputs": [
        {
          "output_type": "display_data",
          "data": {
            "text/plain": [
              "<IPython.core.display.HTML object>"
            ],
            "text/html": [
              "Finishing last run (ID:1l8ktl5t) before initializing another..."
            ]
          },
          "metadata": {}
        },
        {
          "output_type": "stream",
          "name": "stdout",
          "text": [
            "\n"
          ]
        },
        {
          "output_type": "display_data",
          "data": {
            "text/plain": [
              "<IPython.core.display.HTML object>"
            ],
            "text/html": [
              "Waiting for W&B process to finish... <strong style=\"color:green\">(success).</strong>"
            ]
          },
          "metadata": {}
        },
        {
          "output_type": "display_data",
          "data": {
            "text/plain": [
              "VBox(children=(Label(value='218.572 MB of 218.572 MB uploaded (0.000 MB deduped)\\r'), FloatProgress(value=1.0,…"
            ],
            "application/vnd.jupyter.widget-view+json": {
              "version_major": 2,
              "version_minor": 0,
              "model_id": "b2c84d3a85804391a387642613b6c40d"
            }
          },
          "metadata": {}
        },
        {
          "output_type": "display_data",
          "data": {
            "text/plain": [
              "<IPython.core.display.HTML object>"
            ],
            "text/html": [
              "<style>\n",
              "    table.wandb td:nth-child(1) { padding: 0 10px; text-align: right }\n",
              "    .wandb-row { display: flex; flex-direction: row; flex-wrap: wrap; width: 100% }\n",
              "    .wandb-col { display: flex; flex-direction: column; flex-basis: 100%; flex: 1; padding: 10px; }\n",
              "    </style>\n",
              "<div class=\"wandb-row\"><div class=\"wandb-col\"><h3>Run history:</h3><br/><table class=\"wandb\"><tr><td>accuracy</td><td>▁▂▃▃▄▅▅▅▆▆▆▆▆▇▇▇▇▆▇▇▇▇▇▇▇▇██▇▇██████████</td></tr><tr><td>epoch</td><td>▁▁▁▂▂▂▂▂▂▃▃▃▃▃▄▄▄▄▄▄▅▅▅▅▅▅▆▆▆▆▆▇▇▇▇▇▇███</td></tr><tr><td>loss</td><td>█▇▇▆▅▅▄▄▄▄▃▃▃▃▃▃▂▃▂▂▂▂▂▂▂▂▁▁▂▂▁▁▁▁▁▁▁▁▁▁</td></tr><tr><td>val_accuracy</td><td>▁▂▄▄▄▇▇▅▇▆▇█▅▇▇▇█▆▇▇▅▇▇▇█▇█▇▆▇▇▇▇▇▇▆▇▇▇▇</td></tr><tr><td>val_loss</td><td>▆▅▄▃▃▂▂▂▁▂▂▁▂▂▂▂▃▃▃▃▄▃▂▃▂▄▄▇▄▄▄▅▅▅▄▆▇▃█▅</td></tr></table><br/></div><div class=\"wandb-col\"><h3>Run summary:</h3><br/><table class=\"wandb\"><tr><td>accuracy</td><td>0.93129</td></tr><tr><td>best_epoch</td><td>8</td></tr><tr><td>best_val_loss</td><td>0.75946</td></tr><tr><td>epoch</td><td>39</td></tr><tr><td>loss</td><td>0.19122</td></tr><tr><td>val_accuracy</td><td>0.67857</td></tr><tr><td>val_loss</td><td>1.433</td></tr></table><br/></div></div>"
            ]
          },
          "metadata": {}
        },
        {
          "output_type": "display_data",
          "data": {
            "text/plain": [
              "<IPython.core.display.HTML object>"
            ],
            "text/html": [
              "Synced <strong style=\"color:#cdcd00\">splendid-deluge-1</strong>: <a href=\"https://wandb.ai/aliyaghoubian/Animal-Detector/runs/1l8ktl5t\" target=\"_blank\">https://wandb.ai/aliyaghoubian/Animal-Detector/runs/1l8ktl5t</a><br/>Synced 5 W&B file(s), 1 media file(s), 0 artifact file(s) and 1 other file(s)"
            ]
          },
          "metadata": {}
        },
        {
          "output_type": "display_data",
          "data": {
            "text/plain": [
              "<IPython.core.display.HTML object>"
            ],
            "text/html": [
              "Find logs at: <code>./wandb/run-20220315_155359-1l8ktl5t/logs</code>"
            ]
          },
          "metadata": {}
        },
        {
          "output_type": "display_data",
          "data": {
            "text/plain": [
              "<IPython.core.display.HTML object>"
            ],
            "text/html": [
              "Successfully finished last run (ID:1l8ktl5t). Initializing new run:<br/>"
            ]
          },
          "metadata": {}
        },
        {
          "output_type": "display_data",
          "data": {
            "text/plain": [
              "<IPython.core.display.HTML object>"
            ],
            "text/html": [
              "Tracking run with wandb version 0.12.11"
            ]
          },
          "metadata": {}
        },
        {
          "output_type": "display_data",
          "data": {
            "text/plain": [
              "<IPython.core.display.HTML object>"
            ],
            "text/html": [
              "Run data is saved locally in <code>/content/wandb/run-20220315_162124-ac1budr0</code>"
            ]
          },
          "metadata": {}
        },
        {
          "output_type": "display_data",
          "data": {
            "text/plain": [
              "<IPython.core.display.HTML object>"
            ],
            "text/html": [
              "Syncing run <strong><a href=\"https://wandb.ai/aliyaghoubian/Animal-Detector/runs/ac1budr0\" target=\"_blank\">flowing-aardvark-2</a></strong> to <a href=\"https://wandb.ai/aliyaghoubian/Animal-Detector\" target=\"_blank\">Weights & Biases</a> (<a href=\"https://wandb.me/run\" target=\"_blank\">docs</a>)<br/>"
            ]
          },
          "metadata": {}
        },
        {
          "output_type": "execute_result",
          "data": {
            "text/html": [
              "<button onClick=\"this.nextSibling.style.display='block';this.style.display='none';\">Display W&B run</button><iframe src=\"https://wandb.ai/aliyaghoubian/Animal-Detector/runs/ac1budr0?jupyter=true\" style=\"border:none;width:100%;height:420px;display:none;\"></iframe>"
            ],
            "text/plain": [
              "<wandb.sdk.wandb_run.Run at 0x7f4a90248150>"
            ]
          },
          "metadata": {},
          "execution_count": 14
        }
      ]
    },
    {
      "cell_type": "code",
      "source": [
        "config = wandb.config\n",
        "config.learning_rate = 0.001"
      ],
      "metadata": {
        "id": "njvtpQGvSJm4"
      },
      "execution_count": 4,
      "outputs": []
    },
    {
      "cell_type": "code",
      "source": [
        "TRAIN_PATH = \"/content/drive/MyDrive/Dataset/Animal/dataset_train\"\n",
        "width = height = 224"
      ],
      "metadata": {
        "id": "RB1H64vsMzxJ"
      },
      "execution_count": 5,
      "outputs": []
    },
    {
      "cell_type": "markdown",
      "source": [
        "Pre-Processing"
      ],
      "metadata": {
        "id": "8uJUKN-NM48C"
      }
    },
    {
      "cell_type": "code",
      "source": [
        "idg = ImageDataGenerator(\n",
        "    rescale = 1./255,\n",
        "    \n",
        "    # Augmentation\n",
        "    horizontal_flip = True,\n",
        "    zoom_range = 0.15,\n",
        "    rotation_range = 20,\n",
        "    brightness_range = (0.8, 1.2),\n",
        "    \n",
        "    # Validation Split\n",
        "    validation_split = 0.15    \n",
        ")"
      ],
      "metadata": {
        "id": "NUWOsAmvM-u5"
      },
      "execution_count": 6,
      "outputs": []
    },
    {
      "cell_type": "code",
      "source": [
        "train_data = idg.flow_from_directory(\n",
        "    TRAIN_PATH,\n",
        "    target_size = (width, height),\n",
        "    class_mode = \"categorical\",\n",
        "    subset = \"training\"\n",
        ")\n",
        "\n",
        "val_data = idg.flow_from_directory(\n",
        "    TRAIN_PATH,\n",
        "    target_size = (width, height),\n",
        "    class_mode = \"categorical\",\n",
        "    subset = \"validation\"\n",
        ")"
      ],
      "metadata": {
        "colab": {
          "base_uri": "https://localhost:8080/"
        },
        "id": "MMDR75pEM_zg",
        "outputId": "e69fa462-a7de-4d13-eafa-c59bfc189a80"
      },
      "execution_count": 7,
      "outputs": [
        {
          "output_type": "stream",
          "name": "stdout",
          "text": [
            "Found 815 images belonging to 5 classes.\n",
            "Found 140 images belonging to 5 classes.\n"
          ]
        }
      ]
    },
    {
      "cell_type": "markdown",
      "source": [
        "Model"
      ],
      "metadata": {
        "id": "x7K12uTVNKLg"
      }
    },
    {
      "cell_type": "code",
      "source": [
        "model = tf.keras.models.Sequential([\n",
        "    Conv2D(32, (3, 3), activation='relu', input_shape=(width, height, 3)),\n",
        "    Conv2D(32, (3, 3), activation='relu'),\n",
        "    MaxPool2D(),\n",
        "    Conv2D(32, (3, 3), activation='relu'),\n",
        "    Conv2D(32, (3, 3), activation='relu'),\n",
        "    MaxPool2D(),\n",
        "    Conv2D(64, (3, 3), activation='relu'),\n",
        "    Conv2D(64, (3, 3), activation='relu'),\n",
        "    MaxPool2D(),\n",
        "\n",
        "    Flatten(),\n",
        "    Dense(512, activation='relu'),\n",
        "    Dense(256, activation='relu'),\n",
        "    Dense(5, activation='softmax')\n",
        "])"
      ],
      "metadata": {
        "id": "fAWpTP3YNNGO"
      },
      "execution_count": 8,
      "outputs": []
    },
    {
      "cell_type": "code",
      "source": [
        "model.compile(\n",
        "    optimizer=tf.keras.optimizers.Adam(learning_rate=config.learning_rate),\n",
        "    loss=tf.keras.losses.categorical_crossentropy,\n",
        "    metrics=['accuracy']\n",
        ")"
      ],
      "metadata": {
        "id": "FoQXH26iNPYx"
      },
      "execution_count": 9,
      "outputs": []
    },
    {
      "cell_type": "markdown",
      "source": [
        "Train"
      ],
      "metadata": {
        "id": "vByQp_PwNTkR"
      }
    },
    {
      "cell_type": "code",
      "source": [
        "model.fit(train_data, validation_data=val_data, epochs=40, callbacks=[WandbCallback()])"
      ],
      "metadata": {
        "colab": {
          "base_uri": "https://localhost:8080/"
        },
        "id": "6TITX2N0NWVq",
        "outputId": "e75bdb78-1542-48a9-fdae-29e29e5dda2e"
      },
      "execution_count": 10,
      "outputs": [
        {
          "output_type": "stream",
          "name": "stdout",
          "text": [
            "Epoch 1/40\n",
            "26/26 [==============================] - 223s 9s/step - loss: 1.6692 - accuracy: 0.2147 - val_loss: 1.5951 - val_accuracy: 0.3500 - _timestamp: 1647359936.0000 - _runtime: 297.0000\n",
            "Epoch 2/40\n",
            "26/26 [==============================] - 31s 1s/step - loss: 1.5032 - accuracy: 0.3607 - val_loss: 1.3325 - val_accuracy: 0.4000 - _timestamp: 1647359967.0000 - _runtime: 328.0000\n",
            "Epoch 3/40\n",
            "26/26 [==============================] - 30s 1s/step - loss: 1.3614 - accuracy: 0.4454 - val_loss: 1.2589 - val_accuracy: 0.5286 - _timestamp: 1647359997.0000 - _runtime: 358.0000\n",
            "Epoch 4/40\n",
            "26/26 [==============================] - 30s 1s/step - loss: 1.3100 - accuracy: 0.4552 - val_loss: 1.0966 - val_accuracy: 0.5500 - _timestamp: 1647360026.0000 - _runtime: 387.0000\n",
            "Epoch 5/40\n",
            "26/26 [==============================] - 30s 1s/step - loss: 1.1161 - accuracy: 0.5521 - val_loss: 1.0753 - val_accuracy: 0.5500 - _timestamp: 1647360056.0000 - _runtime: 417.0000\n",
            "Epoch 6/40\n",
            "26/26 [==============================] - 30s 1s/step - loss: 0.9482 - accuracy: 0.6380 - val_loss: 0.8869 - val_accuracy: 0.6929 - _timestamp: 1647360086.0000 - _runtime: 447.0000\n",
            "Epoch 7/40\n",
            "26/26 [==============================] - 30s 1s/step - loss: 0.8972 - accuracy: 0.6515 - val_loss: 0.8950 - val_accuracy: 0.6714 - _timestamp: 1647360116.0000 - _runtime: 477.0000\n",
            "Epoch 8/40\n",
            "26/26 [==============================] - 29s 1s/step - loss: 0.8949 - accuracy: 0.6491 - val_loss: 0.9914 - val_accuracy: 0.6071 - _timestamp: 1647360146.0000 - _runtime: 507.0000\n",
            "Epoch 9/40\n",
            "26/26 [==============================] - 30s 1s/step - loss: 0.7979 - accuracy: 0.6945 - val_loss: 0.7595 - val_accuracy: 0.6929 - _timestamp: 1647360187.0000 - _runtime: 548.0000\n",
            "Epoch 10/40\n",
            "26/26 [==============================] - 29s 1s/step - loss: 0.7410 - accuracy: 0.7067 - val_loss: 0.9344 - val_accuracy: 0.6214 - _timestamp: 1647360216.0000 - _runtime: 577.0000\n",
            "Epoch 11/40\n",
            "26/26 [==============================] - 29s 1s/step - loss: 0.6829 - accuracy: 0.7264 - val_loss: 0.8394 - val_accuracy: 0.7000 - _timestamp: 1647360246.0000 - _runtime: 607.0000\n",
            "Epoch 12/40\n",
            "26/26 [==============================] - 29s 1s/step - loss: 0.6904 - accuracy: 0.7080 - val_loss: 0.8072 - val_accuracy: 0.7286 - _timestamp: 1647360275.0000 - _runtime: 636.0000\n",
            "Epoch 13/40\n",
            "26/26 [==============================] - 29s 1s/step - loss: 0.6378 - accuracy: 0.7595 - val_loss: 0.8709 - val_accuracy: 0.6071 - _timestamp: 1647360304.0000 - _runtime: 665.0000\n",
            "Epoch 14/40\n",
            "26/26 [==============================] - 29s 1s/step - loss: 0.5606 - accuracy: 0.7877 - val_loss: 0.8574 - val_accuracy: 0.6714 - _timestamp: 1647360333.0000 - _runtime: 694.0000\n",
            "Epoch 15/40\n",
            "26/26 [==============================] - 29s 1s/step - loss: 0.5251 - accuracy: 0.7939 - val_loss: 0.9631 - val_accuracy: 0.6929 - _timestamp: 1647360362.0000 - _runtime: 723.0000\n",
            "Epoch 16/40\n",
            "26/26 [==============================] - 29s 1s/step - loss: 0.5193 - accuracy: 0.8012 - val_loss: 0.9171 - val_accuracy: 0.6929 - _timestamp: 1647360392.0000 - _runtime: 753.0000\n",
            "Epoch 17/40\n",
            "26/26 [==============================] - 29s 1s/step - loss: 0.4776 - accuracy: 0.8233 - val_loss: 1.0148 - val_accuracy: 0.7571 - _timestamp: 1647360421.0000 - _runtime: 782.0000\n",
            "Epoch 18/40\n",
            "26/26 [==============================] - 29s 1s/step - loss: 0.5749 - accuracy: 0.7767 - val_loss: 1.0029 - val_accuracy: 0.6571 - _timestamp: 1647360450.0000 - _runtime: 811.0000\n",
            "Epoch 19/40\n",
            "26/26 [==============================] - 29s 1s/step - loss: 0.4588 - accuracy: 0.8196 - val_loss: 1.0169 - val_accuracy: 0.6857 - _timestamp: 1647360479.0000 - _runtime: 840.0000\n",
            "Epoch 20/40\n",
            "26/26 [==============================] - 29s 1s/step - loss: 0.3959 - accuracy: 0.8577 - val_loss: 1.0718 - val_accuracy: 0.6714 - _timestamp: 1647360509.0000 - _runtime: 870.0000\n",
            "Epoch 21/40\n",
            "26/26 [==============================] - 29s 1s/step - loss: 0.4858 - accuracy: 0.8123 - val_loss: 1.1755 - val_accuracy: 0.6000 - _timestamp: 1647360538.0000 - _runtime: 899.0000\n",
            "Epoch 22/40\n",
            "26/26 [==============================] - 29s 1s/step - loss: 0.4329 - accuracy: 0.8405 - val_loss: 1.0031 - val_accuracy: 0.7000 - _timestamp: 1647360567.0000 - _runtime: 928.0000\n",
            "Epoch 23/40\n",
            "26/26 [==============================] - 29s 1s/step - loss: 0.4080 - accuracy: 0.8466 - val_loss: 0.8626 - val_accuracy: 0.7214 - _timestamp: 1647360596.0000 - _runtime: 957.0000\n",
            "Epoch 24/40\n",
            "26/26 [==============================] - 29s 1s/step - loss: 0.3799 - accuracy: 0.8699 - val_loss: 1.1276 - val_accuracy: 0.6929 - _timestamp: 1647360626.0000 - _runtime: 987.0000\n",
            "Epoch 25/40\n",
            "26/26 [==============================] - 29s 1s/step - loss: 0.3259 - accuracy: 0.8712 - val_loss: 0.9886 - val_accuracy: 0.7357 - _timestamp: 1647360655.0000 - _runtime: 1016.0000\n",
            "Epoch 26/40\n",
            "26/26 [==============================] - 29s 1s/step - loss: 0.3123 - accuracy: 0.8810 - val_loss: 1.2505 - val_accuracy: 0.7000 - _timestamp: 1647360684.0000 - _runtime: 1045.0000\n",
            "Epoch 27/40\n",
            "26/26 [==============================] - 29s 1s/step - loss: 0.2417 - accuracy: 0.9202 - val_loss: 1.2001 - val_accuracy: 0.7571 - _timestamp: 1647360713.0000 - _runtime: 1074.0000\n",
            "Epoch 28/40\n",
            "26/26 [==============================] - 29s 1s/step - loss: 0.2609 - accuracy: 0.9141 - val_loss: 1.6333 - val_accuracy: 0.6857 - _timestamp: 1647360743.0000 - _runtime: 1104.0000\n",
            "Epoch 29/40\n",
            "26/26 [==============================] - 30s 1s/step - loss: 0.3701 - accuracy: 0.8626 - val_loss: 1.2643 - val_accuracy: 0.6429 - _timestamp: 1647360772.0000 - _runtime: 1133.0000\n",
            "Epoch 30/40\n",
            "26/26 [==============================] - 29s 1s/step - loss: 0.3176 - accuracy: 0.8748 - val_loss: 1.2366 - val_accuracy: 0.7000 - _timestamp: 1647360801.0000 - _runtime: 1162.0000\n",
            "Epoch 31/40\n",
            "26/26 [==============================] - 29s 1s/step - loss: 0.2685 - accuracy: 0.9031 - val_loss: 1.2366 - val_accuracy: 0.6929 - _timestamp: 1647360830.0000 - _runtime: 1191.0000\n",
            "Epoch 32/40\n",
            "26/26 [==============================] - 29s 1s/step - loss: 0.2319 - accuracy: 0.9264 - val_loss: 1.3631 - val_accuracy: 0.6714 - _timestamp: 1647360859.0000 - _runtime: 1220.0000\n",
            "Epoch 33/40\n",
            "26/26 [==============================] - 29s 1s/step - loss: 0.2281 - accuracy: 0.9215 - val_loss: 1.3811 - val_accuracy: 0.7214 - _timestamp: 1647360889.0000 - _runtime: 1250.0000\n",
            "Epoch 34/40\n",
            "26/26 [==============================] - 29s 1s/step - loss: 0.1815 - accuracy: 0.9313 - val_loss: 1.3172 - val_accuracy: 0.7214 - _timestamp: 1647360918.0000 - _runtime: 1279.0000\n",
            "Epoch 35/40\n",
            "26/26 [==============================] - 29s 1s/step - loss: 0.2214 - accuracy: 0.9264 - val_loss: 1.3044 - val_accuracy: 0.6714 - _timestamp: 1647360947.0000 - _runtime: 1308.0000\n",
            "Epoch 36/40\n",
            "26/26 [==============================] - 29s 1s/step - loss: 0.1676 - accuracy: 0.9423 - val_loss: 1.5554 - val_accuracy: 0.6571 - _timestamp: 1647360976.0000 - _runtime: 1337.0000\n",
            "Epoch 37/40\n",
            "26/26 [==============================] - 29s 1s/step - loss: 0.2106 - accuracy: 0.9190 - val_loss: 1.6348 - val_accuracy: 0.6786 - _timestamp: 1647361006.0000 - _runtime: 1367.0000\n",
            "Epoch 38/40\n",
            "26/26 [==============================] - 29s 1s/step - loss: 0.2628 - accuracy: 0.9092 - val_loss: 1.0375 - val_accuracy: 0.7143 - _timestamp: 1647361035.0000 - _runtime: 1396.0000\n",
            "Epoch 39/40\n",
            "26/26 [==============================] - 30s 1s/step - loss: 0.1714 - accuracy: 0.9387 - val_loss: 1.8677 - val_accuracy: 0.6929 - _timestamp: 1647361065.0000 - _runtime: 1426.0000\n",
            "Epoch 40/40\n",
            "26/26 [==============================] - 30s 1s/step - loss: 0.1912 - accuracy: 0.9313 - val_loss: 1.4330 - val_accuracy: 0.6786 - _timestamp: 1647361095.0000 - _runtime: 1456.0000\n"
          ]
        },
        {
          "output_type": "execute_result",
          "data": {
            "text/plain": [
              "<keras.callbacks.History at 0x7f4a9ff3fa10>"
            ]
          },
          "metadata": {},
          "execution_count": 10
        }
      ]
    },
    {
      "cell_type": "markdown",
      "source": [
        "Save"
      ],
      "metadata": {
        "id": "uK-JwGFsNXsp"
      }
    },
    {
      "cell_type": "code",
      "source": [
        "model.save('animalDetector_model.h5')"
      ],
      "metadata": {
        "id": "KHXsr_ncNYhJ"
      },
      "execution_count": 11,
      "outputs": []
    },
    {
      "cell_type": "markdown",
      "source": [
        "Test"
      ],
      "metadata": {
        "id": "ZYyoWweVNZUR"
      }
    },
    {
      "cell_type": "code",
      "execution_count": 12,
      "metadata": {
        "colab": {
          "base_uri": "https://localhost:8080/"
        },
        "id": "umc7dlrRMpGj",
        "outputId": "90902ffe-52f3-405f-fd75-cc072033a4ac"
      },
      "outputs": [
        {
          "output_type": "stream",
          "name": "stdout",
          "text": [
            "Found 173 images belonging to 5 classes.\n",
            "6/6 [==============================] - 58s 11s/step - loss: 1.1337 - accuracy: 0.6763\n"
          ]
        },
        {
          "output_type": "execute_result",
          "data": {
            "text/plain": [
              "[1.1337369680404663, 0.676300585269928]"
            ]
          },
          "metadata": {},
          "execution_count": 12
        }
      ],
      "source": [
        "TEST_PATH = \"/content/drive/MyDrive/Dataset/Animal/dataset_test\"\n",
        "\n",
        "idg = ImageDataGenerator(\n",
        "    rescale = 1./255\n",
        ")\n",
        "\n",
        "test_data = idg.flow_from_directory(\n",
        "    TEST_PATH,\n",
        "    target_size = (width, height),\n",
        "    class_mode = \"categorical\"\n",
        ")\n",
        "\n",
        "model.evaluate(test_data)"
      ]
    },
    {
      "cell_type": "markdown",
      "source": [
        "Confusion Matrix"
      ],
      "metadata": {
        "id": "46A17vIPZd-w"
      }
    },
    {
      "cell_type": "code",
      "source": [
        "Y_pred = []\n",
        "\n",
        "for path in test_data.filepaths:\n",
        "    image = cv2.imread(path)\n",
        "    image = cv2.cvtColor(image, cv2.COLOR_BGR2RGB)\n",
        "    image = cv2.resize(image, (width, height))\n",
        "    image = image / 255\n",
        "    image = image.reshape(1, width, height, 3)\n",
        "    Y_pred.append(np.argmax(model.predict(image)))"
      ],
      "metadata": {
        "id": "VrlfuAKzaMDI"
      },
      "execution_count": 17,
      "outputs": []
    },
    {
      "cell_type": "code",
      "source": [
        "conf_mat = confusion_matrix(test_data.classes, Y_pred)\n",
        "print(conf_mat)"
      ],
      "metadata": {
        "colab": {
          "base_uri": "https://localhost:8080/"
        },
        "id": "jRZ3awcYZf6e",
        "outputId": "c0f4321d-60f7-430a-b11a-c4cd99b37291"
      },
      "execution_count": 18,
      "outputs": [
        {
          "output_type": "stream",
          "name": "stdout",
          "text": [
            "[[24  1  8  1  2]\n",
            " [ 0 28  3  6  0]\n",
            " [ 6  4 16  5  5]\n",
            " [ 2  1  1 30  1]\n",
            " [ 1  2  0  4 22]]\n"
          ]
        }
      ]
    },
    {
      "cell_type": "code",
      "source": [
        "plt.imshow(conf_mat)\n",
        "plt.colorbar()"
      ],
      "metadata": {
        "colab": {
          "base_uri": "https://localhost:8080/",
          "height": 286
        },
        "id": "yqxGDTywa0jm",
        "outputId": "127aea26-9609-4ae3-ab05-d6bf1c08bff3"
      },
      "execution_count": 22,
      "outputs": [
        {
          "output_type": "execute_result",
          "data": {
            "text/plain": [
              "<matplotlib.colorbar.Colorbar at 0x7f49efa42310>"
            ]
          },
          "metadata": {},
          "execution_count": 22
        },
        {
          "output_type": "display_data",
          "data": {
            "text/plain": [
              "<Figure size 432x288 with 2 Axes>"
            ],
            "image/png": "[encoded data removed]"
          },
          "metadata": {
            "needs_background": "light"
          }
        }
      ]
    },
    {
      "cell_type": "markdown",
      "source": [
        "Inference"
      ],
      "metadata": {
        "id": "m0k8zMRANfpI"
      }
    },
    {
      "cell_type": "code",
      "source": [
        "image = cv2.imread(\"bee.jpg\")\n",
        "image = cv2.cvtColor(image, cv2.COLOR_BGR2RGB) # cv2 bar khalaf tf\n",
        "image = cv2.resize(image, (width, height))\n",
        "image = image / 255 # normalize\n",
        "image = image.reshape(1, width, height, 3) # 3d -> 4d (batch_size)\n",
        "\n",
        "result = model.predict(image)\n",
        "\n",
        "pred = np.argmax(result)\n",
        "if pred == 0:\n",
        "    print(\"Bee 🐝\")\n",
        "elif pred == 1:\n",
        "    print(\"Koala 🐨\")\n",
        "elif pred == 2:\n",
        "    print(\"Crocodile 🐊\")\n",
        "elif pred == 3:\n",
        "    print(\"Crow 🐧\")\n",
        "elif pred == 4:\n",
        "    print(\"Zebra 🦓\")"
      ],
      "metadata": {
        "colab": {
          "base_uri": "https://localhost:8080/"
        },
        "id": "Ym4n2_pmNiV5",
        "outputId": "3805db24-02e3-4c5f-84fd-0bb297d75aca"
      },
      "execution_count": 13,
      "outputs": [
        {
          "output_type": "stream",
          "name": "stdout",
          "text": [
            "Bee 🐝\n"
          ]
        }
      ]
    }
  ]
}