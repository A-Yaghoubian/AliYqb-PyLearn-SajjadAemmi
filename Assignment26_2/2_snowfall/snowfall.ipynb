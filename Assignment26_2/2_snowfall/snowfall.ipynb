{
 "cells": [
  {
   "cell_type": "code",
   "execution_count": 1,
   "id": "6f531cfc-e9e8-4243-af30-31175dfabff3",
   "metadata": {},
   "outputs": [],
   "source": [
    "import cv2\n",
    "import imageio\n",
    "import os\n",
    "import random"
   ]
  },
  {
   "cell_type": "code",
   "execution_count": 8,
   "id": "e26ee2e5",
   "metadata": {},
   "outputs": [
    {
     "data": {
      "text/plain": [
       "True"
      ]
     },
     "execution_count": 8,
     "metadata": {},
     "output_type": "execute_result"
    }
   ],
   "source": [
    "img = cv2.imread(\"raw.jpg\")\n",
    "img = cv2.resize(img, None, fx=0.25, fy=0.25)\n",
    "cv2.imwrite(\"photos/raw.jpg\", img)"
   ]
  },
  {
   "cell_type": "code",
   "execution_count": 9,
   "id": "79fe4c6f",
   "metadata": {},
   "outputs": [],
   "source": [
    "img = cv2.imread(\"photos/raw.jpg\")\n",
    "rows, cols, _ = img.shape\n",
    "# plt.imshow(img)"
   ]
  },
  {
   "cell_type": "code",
   "execution_count": 32,
   "id": "a242529d",
   "metadata": {},
   "outputs": [
    {
     "data": {
      "text/plain": [
       "True"
      ]
     },
     "execution_count": 32,
     "metadata": {},
     "output_type": "execute_result"
    }
   ],
   "source": [
    "img0 = cv2.imread(\"photos/raw.jpg\")\n",
    "snows = []\n",
    "for i in range(35):\n",
    "    snow = [random.randint(0, rows), random.randint(0, cols), random.randint(1, 2), random.randint(0, 2), random.randint(2, 8)] # x, y, r, mode, speed\n",
    "    snows.append(snow)\n",
    "    cv2.circle(img0, (snow[1], snow[0]), snow[2], (255, 255, 255), -1)\n",
    "    \n",
    "# print(snows)\n",
    "cv2.imwrite(\"photos/100.jpg\", img0)\n",
    "    "
   ]
  },
  {
   "cell_type": "code",
   "execution_count": 33,
   "id": "f08e652b",
   "metadata": {},
   "outputs": [],
   "source": [
    "for pic in range(101, 201):\n",
    "\n",
    "    counter = 0\n",
    "    for snow in snows:\n",
    "        snow[0] += snow[4]\n",
    "        if snow[3] == 0: # payin\n",
    "            pass\n",
    "        elif snow[3] == 1: # payin chap\n",
    "            snow[1] -= snow[4]\n",
    "        elif snow[3] == 2: # payin rast\n",
    "            snow[1] += snow[4]\n",
    "            \n",
    "        if snow[0] > rows or snow[1] > cols:\n",
    "            snows.remove(snow)\n",
    "            counter += 1\n",
    "            continue\n",
    "    \n",
    "    for i in range(counter):\n",
    "        snow = [random.randint(0, 10), random.randint(0, cols), random.randint(1, 2), random.randint(0, 2), random.randint(2, 8)] # x, y, r, mode, speed\n",
    "        snows.append(snow)\n",
    "        \n",
    "    final_img = cv2.imread(\"photos/raw.jpg\")\n",
    "    for snow in snows:\n",
    "        cv2.circle(final_img, (snow[1], snow[0]), snow[2], (255, 255, 255), -1)\n",
    "        \n",
    "    cv2.imwrite(f\"photos/{pic}.jpg\", final_img)"
   ]
  },
  {
   "cell_type": "code",
   "execution_count": 34,
   "id": "dc12f162",
   "metadata": {},
   "outputs": [
    {
     "name": "stdout",
     "output_type": "stream",
     "text": [
      "100.jpg\n",
      "101.jpg\n",
      "102.jpg\n",
      "103.jpg\n",
      "104.jpg\n",
      "105.jpg\n",
      "106.jpg\n",
      "107.jpg\n",
      "108.jpg\n",
      "109.jpg\n",
      "110.jpg\n",
      "111.jpg\n",
      "112.jpg\n",
      "113.jpg\n",
      "114.jpg\n",
      "115.jpg\n",
      "116.jpg\n",
      "117.jpg\n",
      "118.jpg\n",
      "119.jpg\n",
      "120.jpg\n",
      "121.jpg\n",
      "122.jpg\n",
      "123.jpg\n",
      "124.jpg\n",
      "125.jpg\n",
      "126.jpg\n",
      "127.jpg\n",
      "128.jpg\n",
      "129.jpg\n",
      "130.jpg\n",
      "131.jpg\n",
      "132.jpg\n",
      "133.jpg\n",
      "134.jpg\n",
      "135.jpg\n",
      "136.jpg\n",
      "137.jpg\n",
      "138.jpg\n",
      "139.jpg\n",
      "140.jpg\n",
      "141.jpg\n",
      "142.jpg\n",
      "143.jpg\n",
      "144.jpg\n",
      "145.jpg\n",
      "146.jpg\n",
      "147.jpg\n",
      "148.jpg\n",
      "149.jpg\n",
      "150.jpg\n",
      "151.jpg\n",
      "152.jpg\n",
      "153.jpg\n",
      "154.jpg\n",
      "155.jpg\n",
      "156.jpg\n",
      "157.jpg\n",
      "158.jpg\n",
      "159.jpg\n",
      "160.jpg\n",
      "161.jpg\n",
      "162.jpg\n",
      "163.jpg\n",
      "164.jpg\n",
      "165.jpg\n",
      "166.jpg\n",
      "167.jpg\n",
      "168.jpg\n",
      "169.jpg\n",
      "170.jpg\n",
      "171.jpg\n",
      "172.jpg\n",
      "173.jpg\n",
      "174.jpg\n",
      "175.jpg\n",
      "176.jpg\n",
      "177.jpg\n",
      "178.jpg\n",
      "179.jpg\n",
      "180.jpg\n",
      "181.jpg\n",
      "182.jpg\n",
      "183.jpg\n",
      "184.jpg\n",
      "185.jpg\n",
      "186.jpg\n",
      "187.jpg\n",
      "188.jpg\n",
      "189.jpg\n",
      "190.jpg\n",
      "191.jpg\n",
      "192.jpg\n",
      "193.jpg\n",
      "194.jpg\n",
      "195.jpg\n",
      "196.jpg\n",
      "197.jpg\n",
      "198.jpg\n",
      "199.jpg\n",
      "200.jpg\n",
      "raw.jpg\n"
     ]
    }
   ],
   "source": [
    "images = []\n",
    "for file_name in os.listdir('photos'):\n",
    "    print(file_name)\n",
    "    image = imageio.imread(f'photos/{file_name}')\n",
    "    images.append(image)\n",
    "    \n",
    "imageio.mimsave('snowfall.gif', images, 'GIF', duration=1/6)"
   ]
  },
  {
   "cell_type": "code",
   "execution_count": null,
   "id": "0e065d47",
   "metadata": {},
   "outputs": [],
   "source": []
  }
 ],
 "metadata": {
  "kernelspec": {
   "display_name": "Python 3 (ipykernel)",
   "language": "python",
   "name": "python3"
  },
  "language_info": {
   "codemirror_mode": {
    "name": "ipython",
    "version": 3
   },
   "file_extension": ".py",
   "mimetype": "text/x-python",
   "name": "python",
   "nbconvert_exporter": "python",
   "pygments_lexer": "ipython3",
   "version": "3.7.9"
  }
 },
 "nbformat": 4,
 "nbformat_minor": 5
}
