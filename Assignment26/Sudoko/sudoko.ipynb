{
 "cells": [
  {
   "cell_type": "code",
   "execution_count": 2,
   "id": "cc3de758-c814-46b6-a097-1bc031220a5a",
   "metadata": {},
   "outputs": [],
   "source": [
    "import cv2\n",
    "import numpy as np\n",
    "import matplotlib.pyplot as plt"
   ]
  },
  {
   "cell_type": "code",
   "execution_count": 4,
   "id": "167d2f33-6cdf-4dc4-8a14-b3c68c6a1c62",
   "metadata": {},
   "outputs": [
    {
     "data": {
      "text/plain": [
       "[<matplotlib.lines.Line2D at 0x1a6f51e5648>]"
      ]
     },
     "execution_count": 4,
     "metadata": {},
     "output_type": "execute_result"
    },
    {
     "data": {
      "image/png": "[encoded data removed]",
      "text/plain": [
       "<Figure size 432x288 with 1 Axes>"
      ]
     },
     "metadata": {
      "needs_background": "light"
     },
     "output_type": "display_data"
    }
   ],
   "source": [
    "raw_sudoko_image = cv2.imread('sudoku.tif')\n",
    "raw_sudoko_image = cv2.cvtColor(raw_sudoko_image, cv2.COLOR_BGR2GRAY)\n",
    "hist = cv2.calcHist([raw_sudoko_image], [0], None, [256], [0, 256])\n",
    "plt.plot(hist)"
   ]
  },
  {
   "cell_type": "code",
   "execution_count": 6,
   "id": "c7e0f5f3",
   "metadata": {},
   "outputs": [
    {
     "data": {
      "text/plain": [
       "True"
      ]
     },
     "execution_count": 6,
     "metadata": {},
     "output_type": "execute_result"
    },
    {
     "data": {
      "image/png": "[encoded data removed]",
      "text/plain": [
       "<Figure size 432x288 with 1 Axes>"
      ]
     },
     "metadata": {
      "needs_background": "light"
     },
     "output_type": "display_data"
    }
   ],
   "source": [
    "equ = cv2.equalizeHist(raw_sudoko_image)\n",
    "hist = cv2.calcHist([equ], [0], None, [256], [0, 256])\n",
    "plt.plot(hist)\n",
    "cv2.imwrite('result.jpg', equ)"
   ]
  },
  {
   "cell_type": "code",
   "execution_count": 8,
   "id": "43dfd1c0",
   "metadata": {},
   "outputs": [],
   "source": [
    "rows, cols = equ.shape\n",
    "img = equ"
   ]
  },
  {
   "cell_type": "code",
   "execution_count": 16,
   "id": "c3266710",
   "metadata": {},
   "outputs": [
    {
     "data": {
      "text/plain": [
       "True"
      ]
     },
     "execution_count": 16,
     "metadata": {},
     "output_type": "execute_result"
    }
   ],
   "source": [
    "new_img = np.zeros((1199, 1199), dtype=\"uint8\")\n",
    "new_img = img[150:1349, 172:1371]\n",
    "cv2.imwrite('result2.jpg', new_img)"
   ]
  },
  {
   "cell_type": "code",
   "execution_count": 122,
   "id": "45e6cac5",
   "metadata": {},
   "outputs": [],
   "source": [
    "squares = []\n",
    "square = np.zeros((119, 119), dtype='uint8')\n",
    "\n",
    "flag = 0\n",
    "color = 0\n",
    "i = 0\n",
    "while i < new_img.shape[0]:\n",
    "    for j in range(new_img.shape[1]):\n",
    "        if color == 0 and new_img[i, j] > 250:\n",
    "            square = new_img[i:i+119, j:j+119]\n",
    "            squares.append(square)\n",
    "            color = 1\n",
    "            flag = 1\n",
    "        if color == 1 and new_img[i, j] < 50:\n",
    "            color =  0\n",
    "    if flag == 1:\n",
    "        i += 132\n",
    "        flag = 0\n",
    "    i += 1"
   ]
  },
  {
   "cell_type": "code",
   "execution_count": 123,
   "id": "20747f86",
   "metadata": {},
   "outputs": [
    {
     "data": {
      "text/plain": [
       "81"
      ]
     },
     "execution_count": 123,
     "metadata": {},
     "output_type": "execute_result"
    }
   ],
   "source": [
    "len(squares)"
   ]
  },
  {
   "cell_type": "code",
   "execution_count": 133,
   "id": "f8e47c6f",
   "metadata": {},
   "outputs": [],
   "source": [
    "for i in range(len(squares)):\n",
    "    squ = squares[i]\n",
    "    \n",
    "    for ii in range(squ.shape[0]):\n",
    "        error_flag = 1\n",
    "        for jj in range(squ.shape[1]):\n",
    "            if squ[ii, jj] == 255:\n",
    "                error_flag = 0\n",
    "                break\n",
    "        if error_flag == 1:\n",
    "            squ[ii, :] = 255\n",
    "    \n",
    "    hist = cv2.calcHist([squ], [0], None, [256], [0, 256])\n",
    "    if sum(hist[:-1]) > 900:\n",
    "        cv2.imwrite(f\"squ/{i}.jpg\", squ)"
   ]
  }
 ],
 "metadata": {
  "kernelspec": {
   "display_name": "Python 3 (ipykernel)",
   "language": "python",
   "name": "python3"
  },
  "language_info": {
   "codemirror_mode": {
    "name": "ipython",
    "version": 3
   },
   "file_extension": ".py",
   "mimetype": "text/x-python",
   "name": "python",
   "nbconvert_exporter": "python",
   "pygments_lexer": "ipython3",
   "version": "3.7.9"
  }
 },
 "nbformat": 4,
 "nbformat_minor": 5
}
