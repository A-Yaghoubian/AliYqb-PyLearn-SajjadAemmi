{
  "nbformat": 4,
  "nbformat_minor": 0,
  "metadata": {
    "colab": {
      "name": "MLP - CIFAR100.ipynb",
      "provenance": [],
      "collapsed_sections": []
    },
    "kernelspec": {
      "name": "python3",
      "display_name": "Python 3"
    },
    "language_info": {
      "name": "python"
    },
    "widgets": {
      "application/vnd.jupyter.widget-state+json": {
        "1aba417aafca4cb88af0dfa5f240b607": {
          "model_module": "@jupyter-widgets/controls",
          "model_name": "VBoxModel",
          "model_module_version": "1.5.0",
          "state": {
            "_view_name": "VBoxView",
            "_dom_classes": [],
            "_model_name": "VBoxModel",
            "_view_module": "@jupyter-widgets/controls",
            "_model_module_version": "1.5.0",
            "_view_count": null,
            "_view_module_version": "1.5.0",
            "box_style": "",
            "layout": "IPY_MODEL_4dd6858dfb2a480da71d35065b8373e2",
            "_model_module": "@jupyter-widgets/controls",
            "children": [
              "IPY_MODEL_2e732e08e4654402bc708d1be522d1ce",
              "IPY_MODEL_a388ebbd96524e878d27fa37d083f74f"
            ]
          }
        },
        "4dd6858dfb2a480da71d35065b8373e2": {
          "model_module": "@jupyter-widgets/base",
          "model_name": "LayoutModel",
          "model_module_version": "1.2.0",
          "state": {
            "_view_name": "LayoutView",
            "grid_template_rows": null,
            "right": null,
            "justify_content": null,
            "_view_module": "@jupyter-widgets/base",
            "overflow": null,
            "_model_module_version": "1.2.0",
            "_view_count": null,
            "flex_flow": null,
            "width": null,
            "min_width": null,
            "border": null,
            "align_items": null,
            "bottom": null,
            "_model_module": "@jupyter-widgets/base",
            "top": null,
            "grid_column": null,
            "overflow_y": null,
            "overflow_x": null,
            "grid_auto_flow": null,
            "grid_area": null,
            "grid_template_columns": null,
            "flex": null,
            "_model_name": "LayoutModel",
            "justify_items": null,
            "grid_row": null,
            "max_height": null,
            "align_content": null,
            "visibility": null,
            "align_self": null,
            "height": null,
            "min_height": null,
            "padding": null,
            "grid_auto_rows": null,
            "grid_gap": null,
            "max_width": null,
            "order": null,
            "_view_module_version": "1.2.0",
            "grid_template_areas": null,
            "object_position": null,
            "object_fit": null,
            "grid_auto_columns": null,
            "margin": null,
            "display": null,
            "left": null
          }
        },
        "2e732e08e4654402bc708d1be522d1ce": {
          "model_module": "@jupyter-widgets/controls",
          "model_name": "LabelModel",
          "model_module_version": "1.5.0",
          "state": {
            "_view_name": "LabelView",
            "style": "IPY_MODEL_24ea173842b54490a5d728f24fb675da",
            "_dom_classes": [],
            "description": "",
            "_model_name": "LabelModel",
            "placeholder": "​",
            "_view_module": "@jupyter-widgets/controls",
            "_model_module_version": "1.5.0",
            "value": "4.689 MB of 4.689 MB uploaded (0.000 MB deduped)\r",
            "_view_count": null,
            "_view_module_version": "1.5.0",
            "description_tooltip": null,
            "_model_module": "@jupyter-widgets/controls",
            "layout": "IPY_MODEL_d7340fd1391441b5a5ca024c75468e53"
          }
        },
        "a388ebbd96524e878d27fa37d083f74f": {
          "model_module": "@jupyter-widgets/controls",
          "model_name": "FloatProgressModel",
          "model_module_version": "1.5.0",
          "state": {
            "_view_name": "ProgressView",
            "style": "IPY_MODEL_40497a68b65240a18d606c0aa1e0509a",
            "_dom_classes": [],
            "description": "",
            "_model_name": "FloatProgressModel",
            "bar_style": "",
            "max": 1,
            "_view_module": "@jupyter-widgets/controls",
            "_model_module_version": "1.5.0",
            "value": 1,
            "_view_count": null,
            "_view_module_version": "1.5.0",
            "orientation": "horizontal",
            "min": 0,
            "description_tooltip": null,
            "_model_module": "@jupyter-widgets/controls",
            "layout": "IPY_MODEL_614be55e91964bcebf5d9443614c7d05"
          }
        },
        "24ea173842b54490a5d728f24fb675da": {
          "model_module": "@jupyter-widgets/controls",
          "model_name": "DescriptionStyleModel",
          "model_module_version": "1.5.0",
          "state": {
            "_view_name": "StyleView",
            "_model_name": "DescriptionStyleModel",
            "description_width": "",
            "_view_module": "@jupyter-widgets/base",
            "_model_module_version": "1.5.0",
            "_view_count": null,
            "_view_module_version": "1.2.0",
            "_model_module": "@jupyter-widgets/controls"
          }
        },
        "d7340fd1391441b5a5ca024c75468e53": {
          "model_module": "@jupyter-widgets/base",
          "model_name": "LayoutModel",
          "model_module_version": "1.2.0",
          "state": {
            "_view_name": "LayoutView",
            "grid_template_rows": null,
            "right": null,
            "justify_content": null,
            "_view_module": "@jupyter-widgets/base",
            "overflow": null,
            "_model_module_version": "1.2.0",
            "_view_count": null,
            "flex_flow": null,
            "width": null,
            "min_width": null,
            "border": null,
            "align_items": null,
            "bottom": null,
            "_model_module": "@jupyter-widgets/base",
            "top": null,
            "grid_column": null,
            "overflow_y": null,
            "overflow_x": null,
            "grid_auto_flow": null,
            "grid_area": null,
            "grid_template_columns": null,
            "flex": null,
            "_model_name": "LayoutModel",
            "justify_items": null,
            "grid_row": null,
            "max_height": null,
            "align_content": null,
            "visibility": null,
            "align_self": null,
            "height": null,
            "min_height": null,
            "padding": null,
            "grid_auto_rows": null,
            "grid_gap": null,
            "max_width": null,
            "order": null,
            "_view_module_version": "1.2.0",
            "grid_template_areas": null,
            "object_position": null,
            "object_fit": null,
            "grid_auto_columns": null,
            "margin": null,
            "display": null,
            "left": null
          }
        },
        "40497a68b65240a18d606c0aa1e0509a": {
          "model_module": "@jupyter-widgets/controls",
          "model_name": "ProgressStyleModel",
          "model_module_version": "1.5.0",
          "state": {
            "_view_name": "StyleView",
            "_model_name": "ProgressStyleModel",
            "description_width": "",
            "_view_module": "@jupyter-widgets/base",
            "_model_module_version": "1.5.0",
            "_view_count": null,
            "_view_module_version": "1.2.0",
            "bar_color": null,
            "_model_module": "@jupyter-widgets/controls"
          }
        },
        "614be55e91964bcebf5d9443614c7d05": {
          "model_module": "@jupyter-widgets/base",
          "model_name": "LayoutModel",
          "model_module_version": "1.2.0",
          "state": {
            "_view_name": "LayoutView",
            "grid_template_rows": null,
            "right": null,
            "justify_content": null,
            "_view_module": "@jupyter-widgets/base",
            "overflow": null,
            "_model_module_version": "1.2.0",
            "_view_count": null,
            "flex_flow": null,
            "width": null,
            "min_width": null,
            "border": null,
            "align_items": null,
            "bottom": null,
            "_model_module": "@jupyter-widgets/base",
            "top": null,
            "grid_column": null,
            "overflow_y": null,
            "overflow_x": null,
            "grid_auto_flow": null,
            "grid_area": null,
            "grid_template_columns": null,
            "flex": null,
            "_model_name": "LayoutModel",
            "justify_items": null,
            "grid_row": null,
            "max_height": null,
            "align_content": null,
            "visibility": null,
            "align_self": null,
            "height": null,
            "min_height": null,
            "padding": null,
            "grid_auto_rows": null,
            "grid_gap": null,
            "max_width": null,
            "order": null,
            "_view_module_version": "1.2.0",
            "grid_template_areas": null,
            "object_position": null,
            "object_fit": null,
            "grid_auto_columns": null,
            "margin": null,
            "display": null,
            "left": null
          }
        }
      }
    }
  },
  "cells": [
    {
      "cell_type": "code",
      "execution_count": null,
      "metadata": {
        "id": "j1oZHXHCV-jK"
      },
      "outputs": [],
      "source": [
        "!pip install wandb"
      ]
    },
    {
      "cell_type": "markdown",
      "source": [
        "Libraries"
      ],
      "metadata": {
        "id": "cuyj2BOhWTm_"
      }
    },
    {
      "cell_type": "code",
      "source": [
        "import tensorflow as tf\n",
        "from tensorflow.keras import layers\n",
        "from sklearn.model_selection import train_test_split\n",
        "import numpy as np\n",
        "import wandb\n",
        "from wandb.keras import WandbCallback"
      ],
      "metadata": {
        "id": "HHH2tlqKWJdz"
      },
      "execution_count": 2,
      "outputs": []
    },
    {
      "cell_type": "markdown",
      "source": [
        "Init wandb"
      ],
      "metadata": {
        "id": "-KfbUopSWXtH"
      }
    },
    {
      "cell_type": "code",
      "source": [
        "wandb.init(project=\"MLP - CIFAR100\")"
      ],
      "metadata": {
        "colab": {
          "base_uri": "https://localhost:8080/",
          "height": 456,
          "referenced_widgets": [
            "1aba417aafca4cb88af0dfa5f240b607",
            "4dd6858dfb2a480da71d35065b8373e2",
            "2e732e08e4654402bc708d1be522d1ce",
            "a388ebbd96524e878d27fa37d083f74f",
            "24ea173842b54490a5d728f24fb675da",
            "d7340fd1391441b5a5ca024c75468e53",
            "40497a68b65240a18d606c0aa1e0509a",
            "614be55e91964bcebf5d9443614c7d05"
          ]
        },
        "id": "Lb_WTamuWWJY",
        "outputId": "ce3c56c8-3ddf-4e14-e931-269fa6110154"
      },
      "execution_count": 11,
      "outputs": [
        {
          "output_type": "display_data",
          "data": {
            "text/html": [
              "Finishing last run (ID:1e8dfe4v) before initializing another..."
            ],
            "text/plain": [
              "<IPython.core.display.HTML object>"
            ]
          },
          "metadata": {}
        },
        {
          "output_type": "stream",
          "name": "stdout",
          "text": [
            "\n"
          ]
        },
        {
          "output_type": "display_data",
          "data": {
            "text/html": [
              "Waiting for W&B process to finish... <strong style=\"color:green\">(success).</strong>"
            ],
            "text/plain": [
              "<IPython.core.display.HTML object>"
            ]
          },
          "metadata": {}
        },
        {
          "output_type": "display_data",
          "data": {
            "application/vnd.jupyter.widget-view+json": {
              "model_id": "1aba417aafca4cb88af0dfa5f240b607",
              "version_minor": 0,
              "version_major": 2
            },
            "text/plain": [
              "VBox(children=(Label(value='4.677 MB of 4.677 MB uploaded (0.000 MB deduped)\\r'), FloatProgress(value=1.0, max…"
            ]
          },
          "metadata": {}
        },
        {
          "output_type": "display_data",
          "data": {
            "text/html": [
              "<style>\n",
              "    table.wandb td:nth-child(1) { padding: 0 10px; text-align: right }\n",
              "    .wandb-row { display: flex; flex-direction: row; flex-wrap: wrap; width: 100% }\n",
              "    .wandb-col { display: flex; flex-direction: column; flex-basis: 100%; flex: 1; padding: 10px; }\n",
              "    </style>\n",
              "<div class=\"wandb-row\"><div class=\"wandb-col\"><h3>Run history:</h3><br/><table class=\"wandb\"><tr><td>accuracy</td><td>▁▃▄▅▅▆▆▇▇▇█████</td></tr><tr><td>epoch</td><td>▁▁▂▃▃▃▄▅▅▅▆▇▇▇█</td></tr><tr><td>loss</td><td>█▅▄▄▃▃▃▂▂▂▁▁▁▁▁</td></tr><tr><td>val_accuracy</td><td>▁▁▃▄▄▄▆▇▇▇▇█▇██</td></tr><tr><td>val_loss</td><td>█▆▄▄▄▄▂▂▂▂▂▁▁▁▁</td></tr></table><br/></div><div class=\"wandb-col\"><h3>Run summary:</h3><br/><table class=\"wandb\"><tr><td>accuracy</td><td>0.06904</td></tr><tr><td>best_epoch</td><td>14</td></tr><tr><td>best_val_loss</td><td>4.09171</td></tr><tr><td>epoch</td><td>14</td></tr><tr><td>loss</td><td>4.05295</td></tr><tr><td>val_accuracy</td><td>0.071</td></tr><tr><td>val_loss</td><td>4.09171</td></tr></table><br/></div></div>"
            ],
            "text/plain": [
              "<IPython.core.display.HTML object>"
            ]
          },
          "metadata": {}
        },
        {
          "output_type": "display_data",
          "data": {
            "text/html": [
              "Synced <strong style=\"color:#cdcd00\">legendary-shape-2</strong>: <a href=\"https://wandb.ai/aliyaghoubian/MLP%20-%20CIFAR100/runs/1e8dfe4v\" target=\"_blank\">https://wandb.ai/aliyaghoubian/MLP%20-%20CIFAR100/runs/1e8dfe4v</a><br/>Synced 5 W&B file(s), 1 media file(s), 0 artifact file(s) and 1 other file(s)"
            ],
            "text/plain": [
              "<IPython.core.display.HTML object>"
            ]
          },
          "metadata": {}
        },
        {
          "output_type": "display_data",
          "data": {
            "text/html": [
              "Find logs at: <code>./wandb/run-20220309_093245-1e8dfe4v/logs</code>"
            ],
            "text/plain": [
              "<IPython.core.display.HTML object>"
            ]
          },
          "metadata": {}
        },
        {
          "output_type": "display_data",
          "data": {
            "text/html": [
              "Successfully finished last run (ID:1e8dfe4v). Initializing new run:<br/>"
            ],
            "text/plain": [
              "<IPython.core.display.HTML object>"
            ]
          },
          "metadata": {}
        },
        {
          "output_type": "display_data",
          "data": {
            "text/html": [
              "Tracking run with wandb version 0.12.11"
            ],
            "text/plain": [
              "<IPython.core.display.HTML object>"
            ]
          },
          "metadata": {}
        },
        {
          "output_type": "display_data",
          "data": {
            "text/html": [
              "Run data is saved locally in <code>/content/wandb/run-20220309_095354-3fxnzbfm</code>"
            ],
            "text/plain": [
              "<IPython.core.display.HTML object>"
            ]
          },
          "metadata": {}
        },
        {
          "output_type": "display_data",
          "data": {
            "text/html": [
              "Syncing run <strong><a href=\"https://wandb.ai/aliyaghoubian/MLP%20-%20CIFAR100/runs/3fxnzbfm\" target=\"_blank\">frosty-water-3</a></strong> to <a href=\"https://wandb.ai/aliyaghoubian/MLP%20-%20CIFAR100\" target=\"_blank\">Weights & Biases</a> (<a href=\"https://wandb.me/run\" target=\"_blank\">docs</a>)<br/>"
            ],
            "text/plain": [
              "<IPython.core.display.HTML object>"
            ]
          },
          "metadata": {}
        },
        {
          "output_type": "execute_result",
          "data": {
            "text/plain": [
              "<wandb.sdk.wandb_run.Run at 0x7f96156b5250>"
            ],
            "text/html": [
              "<button onClick=\"this.nextSibling.style.display='block';this.style.display='none';\">Display W&B run</button><iframe src=\"https://wandb.ai/aliyaghoubian/MLP%20-%20CIFAR100/runs/3fxnzbfm?jupyter=true\" style=\"border:none;width:100%;height:420px;display:none;\"></iframe>"
            ]
          },
          "metadata": {},
          "execution_count": 11
        }
      ]
    },
    {
      "cell_type": "code",
      "source": [
        "config = wandb.config\n",
        "config.learning_rate = 0.001"
      ],
      "metadata": {
        "id": "xqXhOa-9WdlA"
      },
      "execution_count": 4,
      "outputs": []
    },
    {
      "cell_type": "markdown",
      "source": [
        "Dataset"
      ],
      "metadata": {
        "id": "GjbBRyrBW8AP"
      }
    },
    {
      "cell_type": "code",
      "source": [
        "cifar100 = tf.keras.datasets.cifar100\n",
        "(X_train, Y_train), (X_test, Y_test) = cifar100.load_data()\n",
        "\n",
        "X_train, X_val, Y_train, Y_val = train_test_split(X_train, Y_train, test_size=0.1, random_state=33)\n",
        "\n",
        "X_train, X_test, X_val = X_train / 255.0, X_test / 255.0, X_val / 255.0\n",
        "print(X_train.shape, X_val.shape, X_test.shape)"
      ],
      "metadata": {
        "colab": {
          "base_uri": "https://localhost:8080/"
        },
        "id": "Ipugr2EZW4MD",
        "outputId": "e594e80a-b9be-4d6b-edc5-c16778b0bd6a"
      },
      "execution_count": 5,
      "outputs": [
        {
          "output_type": "stream",
          "name": "stdout",
          "text": [
            "Downloading data from https://www.cs.toronto.edu/~kriz/cifar-100-python.tar.gz\n",
            "169009152/169001437 [==============================] - 2s 0us/step\n",
            "169017344/169001437 [==============================] - 2s 0us/step\n",
            "(45000, 32, 32, 3) (5000, 32, 32, 3) (10000, 32, 32, 3)\n"
          ]
        }
      ]
    },
    {
      "cell_type": "markdown",
      "source": [
        "Model"
      ],
      "metadata": {
        "id": "A_VNp87BXEoX"
      }
    },
    {
      "cell_type": "code",
      "source": [
        "model = tf.keras.models.Sequential([\n",
        "    layers.Flatten(input_shape=(32, 32, 3)),\n",
        "    layers.Dense(128, activation=\"relu\"),\n",
        "    layers.Dense(100, activation=\"softmax\")\n",
        "])"
      ],
      "metadata": {
        "id": "b5cvo3ZFXAIf"
      },
      "execution_count": 6,
      "outputs": []
    },
    {
      "cell_type": "markdown",
      "source": [
        "Summary"
      ],
      "metadata": {
        "id": "hLI57VMiXbqP"
      }
    },
    {
      "cell_type": "code",
      "source": [
        "model.summary()"
      ],
      "metadata": {
        "colab": {
          "base_uri": "https://localhost:8080/"
        },
        "id": "ViquVfD9XWBY",
        "outputId": "b3020a20-4040-4d33-e7fd-a76975997c26"
      },
      "execution_count": 7,
      "outputs": [
        {
          "output_type": "stream",
          "name": "stdout",
          "text": [
            "Model: \"sequential\"\n",
            "_________________________________________________________________\n",
            " Layer (type)                Output Shape              Param #   \n",
            "=================================================================\n",
            " flatten (Flatten)           (None, 3072)              0         \n",
            "                                                                 \n",
            " dense (Dense)               (None, 128)               393344    \n",
            "                                                                 \n",
            " dense_1 (Dense)             (None, 100)               12900     \n",
            "                                                                 \n",
            "=================================================================\n",
            "Total params: 406,244\n",
            "Trainable params: 406,244\n",
            "Non-trainable params: 0\n",
            "_________________________________________________________________\n"
          ]
        }
      ]
    },
    {
      "cell_type": "markdown",
      "source": [
        "Compile"
      ],
      "metadata": {
        "id": "RJqAP9okXrrn"
      }
    },
    {
      "cell_type": "code",
      "source": [
        "model.compile(optimizer=tf.keras.optimizers.Adam(learning_rate=config.learning_rate),\n",
        "              loss=tf.keras.losses.sparse_categorical_crossentropy,\n",
        "              metrics=[\"accuracy\"])"
      ],
      "metadata": {
        "id": "4fEdbOTvXeIP"
      },
      "execution_count": 8,
      "outputs": []
    },
    {
      "cell_type": "markdown",
      "source": [
        "Train"
      ],
      "metadata": {
        "id": "rs6zpfkTZT3N"
      }
    },
    {
      "cell_type": "code",
      "source": [
        "model.fit(X_train, Y_train, epochs=15, validation_data=(X_val, Y_val), callbacks=[WandbCallback()])"
      ],
      "metadata": {
        "colab": {
          "base_uri": "https://localhost:8080/"
        },
        "id": "VQp2h2kwXyOI",
        "outputId": "546489d7-a5e4-4a20-a134-b5c99aabdc37"
      },
      "execution_count": 9,
      "outputs": [
        {
          "output_type": "stream",
          "name": "stdout",
          "text": [
            "Epoch 1/15\n",
            "1407/1407 [==============================] - 8s 5ms/step - loss: 4.5417 - accuracy: 0.0164 - val_loss: 4.4183 - val_accuracy: 0.0330 - _timestamp: 1646818416.0000 - _runtime: 50.0000\n",
            "Epoch 2/15\n",
            "1407/1407 [==============================] - 8s 5ms/step - loss: 4.3265 - accuracy: 0.0347 - val_loss: 4.3021 - val_accuracy: 0.0342 - _timestamp: 1646818423.0000 - _runtime: 57.0000\n",
            "Epoch 3/15\n",
            "1407/1407 [==============================] - 8s 6ms/step - loss: 4.2678 - accuracy: 0.0392 - val_loss: 4.2527 - val_accuracy: 0.0430 - _timestamp: 1646818431.0000 - _runtime: 65.0000\n",
            "Epoch 4/15\n",
            "1407/1407 [==============================] - 7s 5ms/step - loss: 4.2348 - accuracy: 0.0440 - val_loss: 4.2278 - val_accuracy: 0.0518 - _timestamp: 1646818438.0000 - _runtime: 72.0000\n",
            "Epoch 5/15\n",
            "1407/1407 [==============================] - 7s 5ms/step - loss: 4.2074 - accuracy: 0.0482 - val_loss: 4.2100 - val_accuracy: 0.0528 - _timestamp: 1646818445.0000 - _runtime: 79.0000\n",
            "Epoch 6/15\n",
            "1407/1407 [==============================] - 7s 5ms/step - loss: 4.1844 - accuracy: 0.0533 - val_loss: 4.2172 - val_accuracy: 0.0526 - _timestamp: 1646818452.0000 - _runtime: 86.0000\n",
            "Epoch 7/15\n",
            "1407/1407 [==============================] - 7s 5ms/step - loss: 4.1600 - accuracy: 0.0551 - val_loss: 4.1586 - val_accuracy: 0.0624 - _timestamp: 1646818459.0000 - _runtime: 93.0000\n",
            "Epoch 8/15\n",
            "1407/1407 [==============================] - 7s 5ms/step - loss: 4.1349 - accuracy: 0.0604 - val_loss: 4.1401 - val_accuracy: 0.0654 - _timestamp: 1646818466.0000 - _runtime: 100.0000\n",
            "Epoch 9/15\n",
            "1407/1407 [==============================] - 7s 5ms/step - loss: 4.1127 - accuracy: 0.0627 - val_loss: 4.1202 - val_accuracy: 0.0674 - _timestamp: 1646818473.0000 - _runtime: 107.0000\n",
            "Epoch 10/15\n",
            "1407/1407 [==============================] - 8s 6ms/step - loss: 4.0979 - accuracy: 0.0655 - val_loss: 4.1334 - val_accuracy: 0.0656 - _timestamp: 1646818481.0000 - _runtime: 115.0000\n",
            "Epoch 11/15\n",
            "1407/1407 [==============================] - 10s 7ms/step - loss: 4.0860 - accuracy: 0.0671 - val_loss: 4.1174 - val_accuracy: 0.0684 - _timestamp: 1646818491.0000 - _runtime: 125.0000\n",
            "Epoch 12/15\n",
            "1407/1407 [==============================] - 7s 5ms/step - loss: 4.0767 - accuracy: 0.0659 - val_loss: 4.1052 - val_accuracy: 0.0732 - _timestamp: 1646818498.0000 - _runtime: 132.0000\n",
            "Epoch 13/15\n",
            "1407/1407 [==============================] - 7s 5ms/step - loss: 4.0652 - accuracy: 0.0686 - val_loss: 4.1063 - val_accuracy: 0.0664 - _timestamp: 1646818504.0000 - _runtime: 138.0000\n",
            "Epoch 14/15\n",
            "1407/1407 [==============================] - 7s 5ms/step - loss: 4.0589 - accuracy: 0.0696 - val_loss: 4.1093 - val_accuracy: 0.0718 - _timestamp: 1646818511.0000 - _runtime: 145.0000\n",
            "Epoch 15/15\n",
            "1407/1407 [==============================] - 7s 5ms/step - loss: 4.0529 - accuracy: 0.0690 - val_loss: 4.0917 - val_accuracy: 0.0710 - _timestamp: 1646818518.0000 - _runtime: 152.0000\n"
          ]
        },
        {
          "output_type": "execute_result",
          "data": {
            "text/plain": [
              "<keras.callbacks.History at 0x7f961ca70690>"
            ]
          },
          "metadata": {},
          "execution_count": 9
        }
      ]
    },
    {
      "cell_type": "markdown",
      "source": [
        "Evaluate"
      ],
      "metadata": {
        "id": "qPP4BxDoZZzG"
      }
    },
    {
      "cell_type": "code",
      "source": [
        "model.evaluate(X_test, Y_test)"
      ],
      "metadata": {
        "id": "RetdbJHHZVe9",
        "colab": {
          "base_uri": "https://localhost:8080/"
        },
        "outputId": "fbc7c1df-75b2-4c92-96b9-677d0eb0a0d8"
      },
      "execution_count": 10,
      "outputs": [
        {
          "output_type": "stream",
          "name": "stdout",
          "text": [
            "313/313 [==============================] - 1s 2ms/step - loss: 4.0647 - accuracy: 0.0698\n"
          ]
        },
        {
          "output_type": "execute_result",
          "data": {
            "text/plain": [
              "[4.0647125244140625, 0.0697999969124794]"
            ]
          },
          "metadata": {},
          "execution_count": 10
        }
      ]
    }
  ]
}