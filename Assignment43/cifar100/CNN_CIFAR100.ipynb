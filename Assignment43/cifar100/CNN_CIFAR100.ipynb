{
  "nbformat": 4,
  "nbformat_minor": 0,
  "metadata": {
    "colab": {
      "name": "CNN - CIFAR100.ipynb",
      "provenance": [],
      "collapsed_sections": []
    },
    "kernelspec": {
      "name": "python3",
      "display_name": "Python 3"
    },
    "language_info": {
      "name": "python"
    },
    "widgets": {
      "application/vnd.jupyter.widget-state+json": {
        "e99892775774414fb0f0c2b9e4bf8d27": {
          "model_module": "@jupyter-widgets/controls",
          "model_name": "VBoxModel",
          "model_module_version": "1.5.0",
          "state": {
            "_view_name": "VBoxView",
            "_dom_classes": [],
            "_model_name": "VBoxModel",
            "_view_module": "@jupyter-widgets/controls",
            "_model_module_version": "1.5.0",
            "_view_count": null,
            "_view_module_version": "1.5.0",
            "box_style": "",
            "layout": "IPY_MODEL_c7bd0fe264784b568ed535b3216dac1d",
            "_model_module": "@jupyter-widgets/controls",
            "children": [
              "IPY_MODEL_a47d119850214ec288eaf6b7eb081fdb",
              "IPY_MODEL_a40581d709e64102b1f1ff2a8b7ef0bb"
            ]
          }
        },
        "c7bd0fe264784b568ed535b3216dac1d": {
          "model_module": "@jupyter-widgets/base",
          "model_name": "LayoutModel",
          "model_module_version": "1.2.0",
          "state": {
            "_view_name": "LayoutView",
            "grid_template_rows": null,
            "right": null,
            "justify_content": null,
            "_view_module": "@jupyter-widgets/base",
            "overflow": null,
            "_model_module_version": "1.2.0",
            "_view_count": null,
            "flex_flow": null,
            "width": null,
            "min_width": null,
            "border": null,
            "align_items": null,
            "bottom": null,
            "_model_module": "@jupyter-widgets/base",
            "top": null,
            "grid_column": null,
            "overflow_y": null,
            "overflow_x": null,
            "grid_auto_flow": null,
            "grid_area": null,
            "grid_template_columns": null,
            "flex": null,
            "_model_name": "LayoutModel",
            "justify_items": null,
            "grid_row": null,
            "max_height": null,
            "align_content": null,
            "visibility": null,
            "align_self": null,
            "height": null,
            "min_height": null,
            "padding": null,
            "grid_auto_rows": null,
            "grid_gap": null,
            "max_width": null,
            "order": null,
            "_view_module_version": "1.2.0",
            "grid_template_areas": null,
            "object_position": null,
            "object_fit": null,
            "grid_auto_columns": null,
            "margin": null,
            "display": null,
            "left": null
          }
        },
        "a47d119850214ec288eaf6b7eb081fdb": {
          "model_module": "@jupyter-widgets/controls",
          "model_name": "LabelModel",
          "model_module_version": "1.5.0",
          "state": {
            "_view_name": "LabelView",
            "style": "IPY_MODEL_a68dd1475ec6418099c3443e33734197",
            "_dom_classes": [],
            "description": "",
            "_model_name": "LabelModel",
            "placeholder": "​",
            "_view_module": "@jupyter-widgets/controls",
            "_model_module_version": "1.5.0",
            "value": "2.360 MB of 2.360 MB uploaded (0.000 MB deduped)\r",
            "_view_count": null,
            "_view_module_version": "1.5.0",
            "description_tooltip": null,
            "_model_module": "@jupyter-widgets/controls",
            "layout": "IPY_MODEL_f750fd878ed94b5b887e1b1a4aefc957"
          }
        },
        "a40581d709e64102b1f1ff2a8b7ef0bb": {
          "model_module": "@jupyter-widgets/controls",
          "model_name": "FloatProgressModel",
          "model_module_version": "1.5.0",
          "state": {
            "_view_name": "ProgressView",
            "style": "IPY_MODEL_6072ee23429246fe97825a39c948b911",
            "_dom_classes": [],
            "description": "",
            "_model_name": "FloatProgressModel",
            "bar_style": "",
            "max": 1,
            "_view_module": "@jupyter-widgets/controls",
            "_model_module_version": "1.5.0",
            "value": 1,
            "_view_count": null,
            "_view_module_version": "1.5.0",
            "orientation": "horizontal",
            "min": 0,
            "description_tooltip": null,
            "_model_module": "@jupyter-widgets/controls",
            "layout": "IPY_MODEL_88711f41ec6e48869ee238e5b3767e38"
          }
        },
        "a68dd1475ec6418099c3443e33734197": {
          "model_module": "@jupyter-widgets/controls",
          "model_name": "DescriptionStyleModel",
          "model_module_version": "1.5.0",
          "state": {
            "_view_name": "StyleView",
            "_model_name": "DescriptionStyleModel",
            "description_width": "",
            "_view_module": "@jupyter-widgets/base",
            "_model_module_version": "1.5.0",
            "_view_count": null,
            "_view_module_version": "1.2.0",
            "_model_module": "@jupyter-widgets/controls"
          }
        },
        "f750fd878ed94b5b887e1b1a4aefc957": {
          "model_module": "@jupyter-widgets/base",
          "model_name": "LayoutModel",
          "model_module_version": "1.2.0",
          "state": {
            "_view_name": "LayoutView",
            "grid_template_rows": null,
            "right": null,
            "justify_content": null,
            "_view_module": "@jupyter-widgets/base",
            "overflow": null,
            "_model_module_version": "1.2.0",
            "_view_count": null,
            "flex_flow": null,
            "width": null,
            "min_width": null,
            "border": null,
            "align_items": null,
            "bottom": null,
            "_model_module": "@jupyter-widgets/base",
            "top": null,
            "grid_column": null,
            "overflow_y": null,
            "overflow_x": null,
            "grid_auto_flow": null,
            "grid_area": null,
            "grid_template_columns": null,
            "flex": null,
            "_model_name": "LayoutModel",
            "justify_items": null,
            "grid_row": null,
            "max_height": null,
            "align_content": null,
            "visibility": null,
            "align_self": null,
            "height": null,
            "min_height": null,
            "padding": null,
            "grid_auto_rows": null,
            "grid_gap": null,
            "max_width": null,
            "order": null,
            "_view_module_version": "1.2.0",
            "grid_template_areas": null,
            "object_position": null,
            "object_fit": null,
            "grid_auto_columns": null,
            "margin": null,
            "display": null,
            "left": null
          }
        },
        "6072ee23429246fe97825a39c948b911": {
          "model_module": "@jupyter-widgets/controls",
          "model_name": "ProgressStyleModel",
          "model_module_version": "1.5.0",
          "state": {
            "_view_name": "StyleView",
            "_model_name": "ProgressStyleModel",
            "description_width": "",
            "_view_module": "@jupyter-widgets/base",
            "_model_module_version": "1.5.0",
            "_view_count": null,
            "_view_module_version": "1.2.0",
            "bar_color": null,
            "_model_module": "@jupyter-widgets/controls"
          }
        },
        "88711f41ec6e48869ee238e5b3767e38": {
          "model_module": "@jupyter-widgets/base",
          "model_name": "LayoutModel",
          "model_module_version": "1.2.0",
          "state": {
            "_view_name": "LayoutView",
            "grid_template_rows": null,
            "right": null,
            "justify_content": null,
            "_view_module": "@jupyter-widgets/base",
            "overflow": null,
            "_model_module_version": "1.2.0",
            "_view_count": null,
            "flex_flow": null,
            "width": null,
            "min_width": null,
            "border": null,
            "align_items": null,
            "bottom": null,
            "_model_module": "@jupyter-widgets/base",
            "top": null,
            "grid_column": null,
            "overflow_y": null,
            "overflow_x": null,
            "grid_auto_flow": null,
            "grid_area": null,
            "grid_template_columns": null,
            "flex": null,
            "_model_name": "LayoutModel",
            "justify_items": null,
            "grid_row": null,
            "max_height": null,
            "align_content": null,
            "visibility": null,
            "align_self": null,
            "height": null,
            "min_height": null,
            "padding": null,
            "grid_auto_rows": null,
            "grid_gap": null,
            "max_width": null,
            "order": null,
            "_view_module_version": "1.2.0",
            "grid_template_areas": null,
            "object_position": null,
            "object_fit": null,
            "grid_auto_columns": null,
            "margin": null,
            "display": null,
            "left": null
          }
        }
      }
    }
  },
  "cells": [
    {
      "cell_type": "code",
      "execution_count": null,
      "metadata": {
        "id": "cH0w94MdV95h"
      },
      "outputs": [],
      "source": [
        "!pip install wandb"
      ]
    },
    {
      "cell_type": "markdown",
      "source": [
        "Libraries"
      ],
      "metadata": {
        "id": "1M905X2IWOu_"
      }
    },
    {
      "cell_type": "code",
      "source": [
        "import tensorflow as tf\n",
        "from tensorflow.keras import layers\n",
        "from sklearn.model_selection import train_test_split\n",
        "import numpy as np\n",
        "import wandb\n",
        "from wandb.keras import WandbCallback"
      ],
      "metadata": {
        "id": "DZq_YoNXWHkr"
      },
      "execution_count": 2,
      "outputs": []
    },
    {
      "cell_type": "markdown",
      "source": [
        "Init wandb"
      ],
      "metadata": {
        "id": "I_Qo0anyWgvw"
      }
    },
    {
      "cell_type": "code",
      "source": [
        "wandb.init(project=\"CNN - CIFAR100\")"
      ],
      "metadata": {
        "colab": {
          "base_uri": "https://localhost:8080/",
          "height": 456,
          "referenced_widgets": [
            "e99892775774414fb0f0c2b9e4bf8d27",
            "c7bd0fe264784b568ed535b3216dac1d",
            "a47d119850214ec288eaf6b7eb081fdb",
            "a40581d709e64102b1f1ff2a8b7ef0bb",
            "a68dd1475ec6418099c3443e33734197",
            "f750fd878ed94b5b887e1b1a4aefc957",
            "6072ee23429246fe97825a39c948b911",
            "88711f41ec6e48869ee238e5b3767e38"
          ]
        },
        "id": "O9OpyJtgWSJQ",
        "outputId": "e753eb59-e0bb-4f0c-d7ff-010a348fb3f0"
      },
      "execution_count": 11,
      "outputs": [
        {
          "output_type": "display_data",
          "data": {
            "text/html": [
              "Finishing last run (ID:2b5fmzf3) before initializing another..."
            ],
            "text/plain": [
              "<IPython.core.display.HTML object>"
            ]
          },
          "metadata": {}
        },
        {
          "output_type": "stream",
          "name": "stdout",
          "text": [
            "\n"
          ]
        },
        {
          "output_type": "display_data",
          "data": {
            "text/html": [
              "Waiting for W&B process to finish... <strong style=\"color:green\">(success).</strong>"
            ],
            "text/plain": [
              "<IPython.core.display.HTML object>"
            ]
          },
          "metadata": {}
        },
        {
          "output_type": "display_data",
          "data": {
            "application/vnd.jupyter.widget-view+json": {
              "model_id": "e99892775774414fb0f0c2b9e4bf8d27",
              "version_minor": 0,
              "version_major": 2
            },
            "text/plain": [
              "VBox(children=(Label(value='2.348 MB of 2.348 MB uploaded (0.000 MB deduped)\\r'), FloatProgress(value=1.0, max…"
            ]
          },
          "metadata": {}
        },
        {
          "output_type": "display_data",
          "data": {
            "text/html": [
              "<style>\n",
              "    table.wandb td:nth-child(1) { padding: 0 10px; text-align: right }\n",
              "    .wandb-row { display: flex; flex-direction: row; flex-wrap: wrap; width: 100% }\n",
              "    .wandb-col { display: flex; flex-direction: column; flex-basis: 100%; flex: 1; padding: 10px; }\n",
              "    </style>\n",
              "<div class=\"wandb-row\"><div class=\"wandb-col\"><h3>Run history:</h3><br/><table class=\"wandb\"><tr><td>accuracy</td><td>▁▃▄▅▅▅▆▆▆▇▇▇▇██</td></tr><tr><td>epoch</td><td>▁▁▂▃▃▃▄▅▅▅▆▇▇▇█</td></tr><tr><td>loss</td><td>█▆▅▄▄▃▃▃▂▂▂▂▁▁▁</td></tr><tr><td>val_accuracy</td><td>▁▄▅▆▆▇▇█████▇██</td></tr><tr><td>val_loss</td><td>█▅▄▃▂▂▁▂▁▂▂▂▃▃▃</td></tr></table><br/></div><div class=\"wandb-col\"><h3>Run summary:</h3><br/><table class=\"wandb\"><tr><td>accuracy</td><td>0.53431</td></tr><tr><td>best_epoch</td><td>8</td></tr><tr><td>best_val_loss</td><td>2.62026</td></tr><tr><td>epoch</td><td>14</td></tr><tr><td>loss</td><td>1.70347</td></tr><tr><td>val_accuracy</td><td>0.3486</td></tr><tr><td>val_loss</td><td>2.80828</td></tr></table><br/></div></div>"
            ],
            "text/plain": [
              "<IPython.core.display.HTML object>"
            ]
          },
          "metadata": {}
        },
        {
          "output_type": "display_data",
          "data": {
            "text/html": [
              "Synced <strong style=\"color:#cdcd00\">comfy-snowflake-3</strong>: <a href=\"https://wandb.ai/aliyaghoubian/CNN%20-%20CIFAR100/runs/2b5fmzf3\" target=\"_blank\">https://wandb.ai/aliyaghoubian/CNN%20-%20CIFAR100/runs/2b5fmzf3</a><br/>Synced 5 W&B file(s), 1 media file(s), 0 artifact file(s) and 1 other file(s)"
            ],
            "text/plain": [
              "<IPython.core.display.HTML object>"
            ]
          },
          "metadata": {}
        },
        {
          "output_type": "display_data",
          "data": {
            "text/html": [
              "Find logs at: <code>./wandb/run-20220309_093248-2b5fmzf3/logs</code>"
            ],
            "text/plain": [
              "<IPython.core.display.HTML object>"
            ]
          },
          "metadata": {}
        },
        {
          "output_type": "display_data",
          "data": {
            "text/html": [
              "Successfully finished last run (ID:2b5fmzf3). Initializing new run:<br/>"
            ],
            "text/plain": [
              "<IPython.core.display.HTML object>"
            ]
          },
          "metadata": {}
        },
        {
          "output_type": "display_data",
          "data": {
            "text/html": [
              "Tracking run with wandb version 0.12.11"
            ],
            "text/plain": [
              "<IPython.core.display.HTML object>"
            ]
          },
          "metadata": {}
        },
        {
          "output_type": "display_data",
          "data": {
            "text/html": [
              "Run data is saved locally in <code>/content/wandb/run-20220309_095350-2rd8f6yk</code>"
            ],
            "text/plain": [
              "<IPython.core.display.HTML object>"
            ]
          },
          "metadata": {}
        },
        {
          "output_type": "display_data",
          "data": {
            "text/html": [
              "Syncing run <strong><a href=\"https://wandb.ai/aliyaghoubian/CNN%20-%20CIFAR100/runs/2rd8f6yk\" target=\"_blank\">splendid-puddle-4</a></strong> to <a href=\"https://wandb.ai/aliyaghoubian/CNN%20-%20CIFAR100\" target=\"_blank\">Weights & Biases</a> (<a href=\"https://wandb.me/run\" target=\"_blank\">docs</a>)<br/>"
            ],
            "text/plain": [
              "<IPython.core.display.HTML object>"
            ]
          },
          "metadata": {}
        },
        {
          "output_type": "execute_result",
          "data": {
            "text/plain": [
              "<wandb.sdk.wandb_run.Run at 0x7f7ecb0fb250>"
            ],
            "text/html": [
              "<button onClick=\"this.nextSibling.style.display='block';this.style.display='none';\">Display W&B run</button><iframe src=\"https://wandb.ai/aliyaghoubian/CNN%20-%20CIFAR100/runs/2rd8f6yk?jupyter=true\" style=\"border:none;width:100%;height:420px;display:none;\"></iframe>"
            ]
          },
          "metadata": {},
          "execution_count": 11
        }
      ]
    },
    {
      "cell_type": "code",
      "source": [
        "config = wandb.config\n",
        "config.learning_rate = 0.001"
      ],
      "metadata": {
        "id": "Q-jH0uKaWgO6"
      },
      "execution_count": 4,
      "outputs": []
    },
    {
      "cell_type": "markdown",
      "source": [
        "Dataset"
      ],
      "metadata": {
        "id": "J91iFjRmXBx6"
      }
    },
    {
      "cell_type": "code",
      "source": [
        "cifar100 = tf.keras.datasets.cifar100\n",
        "(X_train, Y_train), (X_test, Y_test) = cifar100.load_data()\n",
        "\n",
        "X_train, X_val, Y_train, Y_val = train_test_split(X_train, Y_train, test_size=0.1, random_state=33)\n",
        "\n",
        "X_train, X_test, X_val = X_train / 255.0, X_test / 255.0, X_val / 255.0\n",
        "print(X_train.shape, X_val.shape, X_test.shape)"
      ],
      "metadata": {
        "colab": {
          "base_uri": "https://localhost:8080/"
        },
        "id": "po9eo0L6W4-B",
        "outputId": "26eff4c1-b782-4af3-eab0-a5f38e0612eb"
      },
      "execution_count": 5,
      "outputs": [
        {
          "output_type": "stream",
          "name": "stdout",
          "text": [
            "Downloading data from https://www.cs.toronto.edu/~kriz/cifar-100-python.tar.gz\n",
            "169009152/169001437 [==============================] - 4s 0us/step\n",
            "169017344/169001437 [==============================] - 4s 0us/step\n",
            "(45000, 32, 32, 3) (5000, 32, 32, 3) (10000, 32, 32, 3)\n"
          ]
        }
      ]
    },
    {
      "cell_type": "markdown",
      "source": [
        "Model"
      ],
      "metadata": {
        "id": "ZXFkDWCmXGw-"
      }
    },
    {
      "cell_type": "code",
      "source": [
        "model = tf.keras.models.Sequential([\n",
        "    # features extraction\n",
        "    layers.Conv2D(32, (3, 3), activation=\"relu\", input_shape=(32, 32, 3)),\n",
        "    layers.MaxPooling2D(),\n",
        "    layers.Conv2D(64, (3, 3), activation=\"relu\"),\n",
        "    layers.MaxPooling2D(),\n",
        "    layers.Conv2D(64, (3, 3), activation=\"relu\"),\n",
        "\n",
        "    layers.Flatten(),\n",
        "\n",
        "    # Network Layers\n",
        "    layers.Dense(128, activation=\"relu\"),\n",
        "    layers.Dense(100, activation=\"softmax\")\n",
        "])"
      ],
      "metadata": {
        "id": "ZhGHyiWiXBUf"
      },
      "execution_count": 6,
      "outputs": []
    },
    {
      "cell_type": "markdown",
      "source": [
        "Summary"
      ],
      "metadata": {
        "id": "AYMNxaiEXe2W"
      }
    },
    {
      "cell_type": "code",
      "source": [
        "model.summary()"
      ],
      "metadata": {
        "colab": {
          "base_uri": "https://localhost:8080/"
        },
        "id": "K-bbvrQYXZHY",
        "outputId": "08eed946-52e5-4b70-d6a7-f4268b7476f3"
      },
      "execution_count": 7,
      "outputs": [
        {
          "output_type": "stream",
          "name": "stdout",
          "text": [
            "Model: \"sequential\"\n",
            "_________________________________________________________________\n",
            " Layer (type)                Output Shape              Param #   \n",
            "=================================================================\n",
            " conv2d (Conv2D)             (None, 30, 30, 32)        896       \n",
            "                                                                 \n",
            " max_pooling2d (MaxPooling2D  (None, 15, 15, 32)       0         \n",
            " )                                                               \n",
            "                                                                 \n",
            " conv2d_1 (Conv2D)           (None, 13, 13, 64)        18496     \n",
            "                                                                 \n",
            " max_pooling2d_1 (MaxPooling  (None, 6, 6, 64)         0         \n",
            " 2D)                                                             \n",
            "                                                                 \n",
            " conv2d_2 (Conv2D)           (None, 4, 4, 64)          36928     \n",
            "                                                                 \n",
            " flatten (Flatten)           (None, 1024)              0         \n",
            "                                                                 \n",
            " dense (Dense)               (None, 128)               131200    \n",
            "                                                                 \n",
            " dense_1 (Dense)             (None, 100)               12900     \n",
            "                                                                 \n",
            "=================================================================\n",
            "Total params: 200,420\n",
            "Trainable params: 200,420\n",
            "Non-trainable params: 0\n",
            "_________________________________________________________________\n"
          ]
        }
      ]
    },
    {
      "cell_type": "markdown",
      "source": [
        "Compile"
      ],
      "metadata": {
        "id": "gSQP934lXp4H"
      }
    },
    {
      "cell_type": "code",
      "source": [
        "model.compile(optimizer=tf.keras.optimizers.Adam(learning_rate=config.learning_rate),\n",
        "              loss=tf.keras.losses.sparse_categorical_crossentropy,\n",
        "              metrics=[\"accuracy\"])"
      ],
      "metadata": {
        "id": "Qtlbv6_EXgFX"
      },
      "execution_count": 8,
      "outputs": []
    },
    {
      "cell_type": "markdown",
      "source": [
        "Train"
      ],
      "metadata": {
        "id": "CmPsenqHZRAl"
      }
    },
    {
      "cell_type": "code",
      "source": [
        "model.fit(X_train, Y_train, epochs=15, validation_data=(X_val, Y_val), callbacks=[WandbCallback()])"
      ],
      "metadata": {
        "colab": {
          "base_uri": "https://localhost:8080/"
        },
        "id": "Ozqoe2PmXwrJ",
        "outputId": "3d3e39ba-4f46-46fc-9fb6-0b344b53c23f"
      },
      "execution_count": 9,
      "outputs": [
        {
          "output_type": "stream",
          "name": "stdout",
          "text": [
            "Epoch 1/15\n",
            "1407/1407 [==============================] - 62s 44ms/step - loss: 3.9304 - accuracy: 0.0976 - val_loss: 3.4674 - val_accuracy: 0.1658 - _timestamp: 1646818464.0000 - _runtime: 96.0000\n",
            "Epoch 2/15\n",
            "1407/1407 [==============================] - 58s 41ms/step - loss: 3.2149 - accuracy: 0.2217 - val_loss: 3.0649 - val_accuracy: 0.2456 - _timestamp: 1646818523.0000 - _runtime: 155.0000\n",
            "Epoch 3/15\n",
            "1407/1407 [==============================] - 58s 41ms/step - loss: 2.9053 - accuracy: 0.2798 - val_loss: 2.9249 - val_accuracy: 0.2788 - _timestamp: 1646818581.0000 - _runtime: 213.0000\n",
            "Epoch 4/15\n",
            "1407/1407 [==============================] - 58s 41ms/step - loss: 2.7106 - accuracy: 0.3198 - val_loss: 2.8489 - val_accuracy: 0.3012 - _timestamp: 1646818639.0000 - _runtime: 271.0000\n",
            "Epoch 5/15\n",
            "1407/1407 [==============================] - 58s 41ms/step - loss: 2.5658 - accuracy: 0.3472 - val_loss: 2.8000 - val_accuracy: 0.3040 - _timestamp: 1646818696.0000 - _runtime: 328.0000\n",
            "Epoch 6/15\n",
            "1407/1407 [==============================] - 58s 41ms/step - loss: 2.4394 - accuracy: 0.3725 - val_loss: 2.6827 - val_accuracy: 0.3328 - _timestamp: 1646818754.0000 - _runtime: 386.0000\n",
            "Epoch 7/15\n",
            "1407/1407 [==============================] - 58s 41ms/step - loss: 2.3286 - accuracy: 0.3966 - val_loss: 2.6678 - val_accuracy: 0.3346 - _timestamp: 1646818812.0000 - _runtime: 444.0000\n",
            "Epoch 8/15\n",
            "1407/1407 [==============================] - 58s 41ms/step - loss: 2.2389 - accuracy: 0.4170 - val_loss: 2.6893 - val_accuracy: 0.3450 - _timestamp: 1646818870.0000 - _runtime: 502.0000\n",
            "Epoch 9/15\n",
            "1407/1407 [==============================] - 58s 41ms/step - loss: 2.1500 - accuracy: 0.4352 - val_loss: 2.6203 - val_accuracy: 0.3556 - _timestamp: 1646818928.0000 - _runtime: 560.0000\n",
            "Epoch 10/15\n",
            "1407/1407 [==============================] - 58s 41ms/step - loss: 2.0611 - accuracy: 0.4537 - val_loss: 2.7290 - val_accuracy: 0.3452 - _timestamp: 1646818985.0000 - _runtime: 617.0000\n",
            "Epoch 11/15\n",
            "1407/1407 [==============================] - 58s 41ms/step - loss: 1.9794 - accuracy: 0.4735 - val_loss: 2.6906 - val_accuracy: 0.3488 - _timestamp: 1646819043.0000 - _runtime: 675.0000\n",
            "Epoch 12/15\n",
            "1407/1407 [==============================] - 58s 41ms/step - loss: 1.9076 - accuracy: 0.4856 - val_loss: 2.7370 - val_accuracy: 0.3494 - _timestamp: 1646819101.0000 - _runtime: 733.0000\n",
            "Epoch 13/15\n",
            "1407/1407 [==============================] - 58s 41ms/step - loss: 1.8352 - accuracy: 0.5017 - val_loss: 2.8104 - val_accuracy: 0.3378 - _timestamp: 1646819159.0000 - _runtime: 791.0000\n",
            "Epoch 14/15\n",
            "1407/1407 [==============================] - 58s 41ms/step - loss: 1.7751 - accuracy: 0.5166 - val_loss: 2.8174 - val_accuracy: 0.3482 - _timestamp: 1646819217.0000 - _runtime: 849.0000\n",
            "Epoch 15/15\n",
            "1407/1407 [==============================] - 58s 41ms/step - loss: 1.7035 - accuracy: 0.5343 - val_loss: 2.8083 - val_accuracy: 0.3486 - _timestamp: 1646819275.0000 - _runtime: 907.0000\n"
          ]
        },
        {
          "output_type": "execute_result",
          "data": {
            "text/plain": [
              "<keras.callbacks.History at 0x7f7ecc164310>"
            ]
          },
          "metadata": {},
          "execution_count": 9
        }
      ]
    },
    {
      "cell_type": "markdown",
      "source": [
        "Evaluate"
      ],
      "metadata": {
        "id": "IRWut1nhZWtw"
      }
    },
    {
      "cell_type": "code",
      "source": [
        "model.evaluate(X_test, Y_test)"
      ],
      "metadata": {
        "id": "4ADEmWEiZWPn",
        "colab": {
          "base_uri": "https://localhost:8080/"
        },
        "outputId": "2ca5b6da-9ab2-4090-8c21-c2c27037624e"
      },
      "execution_count": 10,
      "outputs": [
        {
          "output_type": "stream",
          "name": "stdout",
          "text": [
            "313/313 [==============================] - 4s 12ms/step - loss: 2.8221 - accuracy: 0.3485\n"
          ]
        },
        {
          "output_type": "execute_result",
          "data": {
            "text/plain": [
              "[2.8221042156219482, 0.34850001335144043]"
            ]
          },
          "metadata": {},
          "execution_count": 10
        }
      ]
    }
  ]
}