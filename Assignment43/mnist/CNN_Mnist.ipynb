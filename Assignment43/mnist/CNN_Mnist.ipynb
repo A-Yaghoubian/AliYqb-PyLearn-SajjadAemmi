{
  "nbformat": 4,
  "nbformat_minor": 0,
  "metadata": {
    "colab": {
      "name": "CNN - Mnist.ipynb",
      "provenance": [],
      "collapsed_sections": []
    },
    "kernelspec": {
      "name": "python3",
      "display_name": "Python 3"
    },
    "language_info": {
      "name": "python"
    },
    "accelerator": "GPU",
    "widgets": {
      "application/vnd.jupyter.widget-state+json": {
        "a9593ad41340462fbbf23e170a4f7980": {
          "model_module": "@jupyter-widgets/controls",
          "model_name": "VBoxModel",
          "model_module_version": "1.5.0",
          "state": {
            "_view_name": "VBoxView",
            "_dom_classes": [],
            "_model_name": "VBoxModel",
            "_view_module": "@jupyter-widgets/controls",
            "_model_module_version": "1.5.0",
            "_view_count": null,
            "_view_module_version": "1.5.0",
            "box_style": "",
            "layout": "IPY_MODEL_a4de01e22bab4b93807d7a92317b934c",
            "_model_module": "@jupyter-widgets/controls",
            "children": [
              "IPY_MODEL_715dabd5f2bd4d7cbd7e8f0615b5762f",
              "IPY_MODEL_26caf25fbd02477aa138640ba7b219d2"
            ]
          }
        },
        "a4de01e22bab4b93807d7a92317b934c": {
          "model_module": "@jupyter-widgets/base",
          "model_name": "LayoutModel",
          "model_module_version": "1.2.0",
          "state": {
            "_view_name": "LayoutView",
            "grid_template_rows": null,
            "right": null,
            "justify_content": null,
            "_view_module": "@jupyter-widgets/base",
            "overflow": null,
            "_model_module_version": "1.2.0",
            "_view_count": null,
            "flex_flow": null,
            "width": null,
            "min_width": null,
            "border": null,
            "align_items": null,
            "bottom": null,
            "_model_module": "@jupyter-widgets/base",
            "top": null,
            "grid_column": null,
            "overflow_y": null,
            "overflow_x": null,
            "grid_auto_flow": null,
            "grid_area": null,
            "grid_template_columns": null,
            "flex": null,
            "_model_name": "LayoutModel",
            "justify_items": null,
            "grid_row": null,
            "max_height": null,
            "align_content": null,
            "visibility": null,
            "align_self": null,
            "height": null,
            "min_height": null,
            "padding": null,
            "grid_auto_rows": null,
            "grid_gap": null,
            "max_width": null,
            "order": null,
            "_view_module_version": "1.2.0",
            "grid_template_areas": null,
            "object_position": null,
            "object_fit": null,
            "grid_auto_columns": null,
            "margin": null,
            "display": null,
            "left": null
          }
        },
        "715dabd5f2bd4d7cbd7e8f0615b5762f": {
          "model_module": "@jupyter-widgets/controls",
          "model_name": "LabelModel",
          "model_module_version": "1.5.0",
          "state": {
            "_view_name": "LabelView",
            "style": "IPY_MODEL_b87d3d2aeddc4e85ad54737b7746909c",
            "_dom_classes": [],
            "description": "",
            "_model_name": "LabelModel",
            "placeholder": "​",
            "_view_module": "@jupyter-widgets/controls",
            "_model_module_version": "1.5.0",
            "value": "1.562 MB of 1.562 MB uploaded (0.000 MB deduped)\r",
            "_view_count": null,
            "_view_module_version": "1.5.0",
            "description_tooltip": null,
            "_model_module": "@jupyter-widgets/controls",
            "layout": "IPY_MODEL_dc57dfc32ef54520a0318ce7009e8045"
          }
        },
        "26caf25fbd02477aa138640ba7b219d2": {
          "model_module": "@jupyter-widgets/controls",
          "model_name": "FloatProgressModel",
          "model_module_version": "1.5.0",
          "state": {
            "_view_name": "ProgressView",
            "style": "IPY_MODEL_1e32133e8bfd4d6b8545aed246bf8019",
            "_dom_classes": [],
            "description": "",
            "_model_name": "FloatProgressModel",
            "bar_style": "",
            "max": 1,
            "_view_module": "@jupyter-widgets/controls",
            "_model_module_version": "1.5.0",
            "value": 1,
            "_view_count": null,
            "_view_module_version": "1.5.0",
            "orientation": "horizontal",
            "min": 0,
            "description_tooltip": null,
            "_model_module": "@jupyter-widgets/controls",
            "layout": "IPY_MODEL_e64926934a964f6d88493e9f60bf0aec"
          }
        },
        "b87d3d2aeddc4e85ad54737b7746909c": {
          "model_module": "@jupyter-widgets/controls",
          "model_name": "DescriptionStyleModel",
          "model_module_version": "1.5.0",
          "state": {
            "_view_name": "StyleView",
            "_model_name": "DescriptionStyleModel",
            "description_width": "",
            "_view_module": "@jupyter-widgets/base",
            "_model_module_version": "1.5.0",
            "_view_count": null,
            "_view_module_version": "1.2.0",
            "_model_module": "@jupyter-widgets/controls"
          }
        },
        "dc57dfc32ef54520a0318ce7009e8045": {
          "model_module": "@jupyter-widgets/base",
          "model_name": "LayoutModel",
          "model_module_version": "1.2.0",
          "state": {
            "_view_name": "LayoutView",
            "grid_template_rows": null,
            "right": null,
            "justify_content": null,
            "_view_module": "@jupyter-widgets/base",
            "overflow": null,
            "_model_module_version": "1.2.0",
            "_view_count": null,
            "flex_flow": null,
            "width": null,
            "min_width": null,
            "border": null,
            "align_items": null,
            "bottom": null,
            "_model_module": "@jupyter-widgets/base",
            "top": null,
            "grid_column": null,
            "overflow_y": null,
            "overflow_x": null,
            "grid_auto_flow": null,
            "grid_area": null,
            "grid_template_columns": null,
            "flex": null,
            "_model_name": "LayoutModel",
            "justify_items": null,
            "grid_row": null,
            "max_height": null,
            "align_content": null,
            "visibility": null,
            "align_self": null,
            "height": null,
            "min_height": null,
            "padding": null,
            "grid_auto_rows": null,
            "grid_gap": null,
            "max_width": null,
            "order": null,
            "_view_module_version": "1.2.0",
            "grid_template_areas": null,
            "object_position": null,
            "object_fit": null,
            "grid_auto_columns": null,
            "margin": null,
            "display": null,
            "left": null
          }
        },
        "1e32133e8bfd4d6b8545aed246bf8019": {
          "model_module": "@jupyter-widgets/controls",
          "model_name": "ProgressStyleModel",
          "model_module_version": "1.5.0",
          "state": {
            "_view_name": "StyleView",
            "_model_name": "ProgressStyleModel",
            "description_width": "",
            "_view_module": "@jupyter-widgets/base",
            "_model_module_version": "1.5.0",
            "_view_count": null,
            "_view_module_version": "1.2.0",
            "bar_color": null,
            "_model_module": "@jupyter-widgets/controls"
          }
        },
        "e64926934a964f6d88493e9f60bf0aec": {
          "model_module": "@jupyter-widgets/base",
          "model_name": "LayoutModel",
          "model_module_version": "1.2.0",
          "state": {
            "_view_name": "LayoutView",
            "grid_template_rows": null,
            "right": null,
            "justify_content": null,
            "_view_module": "@jupyter-widgets/base",
            "overflow": null,
            "_model_module_version": "1.2.0",
            "_view_count": null,
            "flex_flow": null,
            "width": null,
            "min_width": null,
            "border": null,
            "align_items": null,
            "bottom": null,
            "_model_module": "@jupyter-widgets/base",
            "top": null,
            "grid_column": null,
            "overflow_y": null,
            "overflow_x": null,
            "grid_auto_flow": null,
            "grid_area": null,
            "grid_template_columns": null,
            "flex": null,
            "_model_name": "LayoutModel",
            "justify_items": null,
            "grid_row": null,
            "max_height": null,
            "align_content": null,
            "visibility": null,
            "align_self": null,
            "height": null,
            "min_height": null,
            "padding": null,
            "grid_auto_rows": null,
            "grid_gap": null,
            "max_width": null,
            "order": null,
            "_view_module_version": "1.2.0",
            "grid_template_areas": null,
            "object_position": null,
            "object_fit": null,
            "grid_auto_columns": null,
            "margin": null,
            "display": null,
            "left": null
          }
        }
      }
    }
  },
  "cells": [
    {
      "cell_type": "code",
      "source": [
        "!pip install wandb"
      ],
      "metadata": {
        "id": "7VFh7NuhyDtu"
      },
      "execution_count": null,
      "outputs": []
    },
    {
      "cell_type": "markdown",
      "source": [
        "Libraries"
      ],
      "metadata": {
        "id": "LZNCIjwV036x"
      }
    },
    {
      "cell_type": "code",
      "execution_count": null,
      "metadata": {
        "id": "XyBxWdMH_tWY"
      },
      "outputs": [],
      "source": [
        "import tensorflow as tf\n",
        "from tensorflow.keras import layers\n",
        "from sklearn.model_selection import train_test_split\n",
        "import numpy as np\n",
        "import wandb\n",
        "from wandb.keras import WandbCallback"
      ]
    },
    {
      "cell_type": "markdown",
      "source": [
        "Init Wandb"
      ],
      "metadata": {
        "id": "-I2hjlPfyUvw"
      }
    },
    {
      "cell_type": "code",
      "source": [
        "wandb.init(project=\"CNN - Mnist\")"
      ],
      "metadata": {
        "colab": {
          "base_uri": "https://localhost:8080/",
          "height": 456,
          "referenced_widgets": [
            "a9593ad41340462fbbf23e170a4f7980",
            "a4de01e22bab4b93807d7a92317b934c",
            "715dabd5f2bd4d7cbd7e8f0615b5762f",
            "26caf25fbd02477aa138640ba7b219d2",
            "b87d3d2aeddc4e85ad54737b7746909c",
            "dc57dfc32ef54520a0318ce7009e8045",
            "1e32133e8bfd4d6b8545aed246bf8019",
            "e64926934a964f6d88493e9f60bf0aec"
          ]
        },
        "id": "zAWrNMOfyWKv",
        "outputId": "29c028e8-4b03-409e-8a83-4ba0d01fcc05"
      },
      "execution_count": null,
      "outputs": [
        {
          "output_type": "display_data",
          "data": {
            "text/html": [
              "Finishing last run (ID:2qoyrfsd) before initializing another..."
            ],
            "text/plain": [
              "<IPython.core.display.HTML object>"
            ]
          },
          "metadata": {}
        },
        {
          "output_type": "stream",
          "name": "stdout",
          "text": [
            "\n"
          ]
        },
        {
          "output_type": "display_data",
          "data": {
            "text/html": [
              "Waiting for W&B process to finish... <strong style=\"color:green\">(success).</strong>"
            ],
            "text/plain": [
              "<IPython.core.display.HTML object>"
            ]
          },
          "metadata": {}
        },
        {
          "output_type": "display_data",
          "data": {
            "application/vnd.jupyter.widget-view+json": {
              "model_id": "a9593ad41340462fbbf23e170a4f7980",
              "version_minor": 0,
              "version_major": 2
            },
            "text/plain": [
              "VBox(children=(Label(value='1.550 MB of 1.550 MB uploaded (0.000 MB deduped)\\r'), FloatProgress(value=1.0, max…"
            ]
          },
          "metadata": {}
        },
        {
          "output_type": "display_data",
          "data": {
            "text/html": [
              "<style>\n",
              "    table.wandb td:nth-child(1) { padding: 0 10px; text-align: right }\n",
              "    .wandb-row { display: flex; flex-direction: row; flex-wrap: wrap; width: 100% }\n",
              "    .wandb-col { display: flex; flex-direction: column; flex-basis: 100%; flex: 1; padding: 10px; }\n",
              "    </style>\n",
              "<div class=\"wandb-row\"><div class=\"wandb-col\"><h3>Run history:</h3><br/><table class=\"wandb\"><tr><td>accuracy</td><td>▁▆▇▇▇▇█████████</td></tr><tr><td>epoch</td><td>▁▁▂▃▃▃▄▅▅▅▆▇▇▇█</td></tr><tr><td>loss</td><td>█▃▂▂▂▂▁▁▁▁▁▁▁▁▁</td></tr><tr><td>val_accuracy</td><td>▁▃▂▄▆▄█▆▅▆▇▆▆▄▆</td></tr><tr><td>val_loss</td><td>▅▄▅▃▂▄▁▆▂▅▁▄▄█▆</td></tr></table><br/></div><div class=\"wandb-col\"><h3>Run summary:</h3><br/><table class=\"wandb\"><tr><td>accuracy</td><td>0.99846</td></tr><tr><td>best_epoch</td><td>6</td></tr><tr><td>best_val_loss</td><td>0.04325</td></tr><tr><td>epoch</td><td>14</td></tr><tr><td>loss</td><td>0.00575</td></tr><tr><td>val_accuracy</td><td>0.98717</td></tr><tr><td>val_loss</td><td>0.07274</td></tr></table><br/></div></div>"
            ],
            "text/plain": [
              "<IPython.core.display.HTML object>"
            ]
          },
          "metadata": {}
        },
        {
          "output_type": "display_data",
          "data": {
            "text/html": [
              "Synced <strong style=\"color:#cdcd00\">winter-sun-1</strong>: <a href=\"https://wandb.ai/aliyaghoubian/CNN%20-%20Mnist/runs/2qoyrfsd\" target=\"_blank\">https://wandb.ai/aliyaghoubian/CNN%20-%20Mnist/runs/2qoyrfsd</a><br/>Synced 5 W&B file(s), 1 media file(s), 0 artifact file(s) and 1 other file(s)"
            ],
            "text/plain": [
              "<IPython.core.display.HTML object>"
            ]
          },
          "metadata": {}
        },
        {
          "output_type": "display_data",
          "data": {
            "text/html": [
              "Find logs at: <code>./wandb/run-20220306_055322-2qoyrfsd/logs</code>"
            ],
            "text/plain": [
              "<IPython.core.display.HTML object>"
            ]
          },
          "metadata": {}
        },
        {
          "output_type": "display_data",
          "data": {
            "text/html": [
              "Successfully finished last run (ID:2qoyrfsd). Initializing new run:<br/>"
            ],
            "text/plain": [
              "<IPython.core.display.HTML object>"
            ]
          },
          "metadata": {}
        },
        {
          "output_type": "display_data",
          "data": {
            "text/html": [
              "Tracking run with wandb version 0.12.11"
            ],
            "text/plain": [
              "<IPython.core.display.HTML object>"
            ]
          },
          "metadata": {}
        },
        {
          "output_type": "display_data",
          "data": {
            "text/html": [
              "Run data is saved locally in <code>/content/wandb/run-20220306_062848-td2hlpx5</code>"
            ],
            "text/plain": [
              "<IPython.core.display.HTML object>"
            ]
          },
          "metadata": {}
        },
        {
          "output_type": "display_data",
          "data": {
            "text/html": [
              "Syncing run <strong><a href=\"https://wandb.ai/aliyaghoubian/CNN%20-%20Mnist/runs/td2hlpx5\" target=\"_blank\">dauntless-frost-2</a></strong> to <a href=\"https://wandb.ai/aliyaghoubian/CNN%20-%20Mnist\" target=\"_blank\">Weights & Biases</a> (<a href=\"https://wandb.me/run\" target=\"_blank\">docs</a>)<br/>"
            ],
            "text/plain": [
              "<IPython.core.display.HTML object>"
            ]
          },
          "metadata": {}
        },
        {
          "output_type": "execute_result",
          "data": {
            "text/plain": [
              "<wandb.sdk.wandb_run.Run at 0x7f991dab1350>"
            ],
            "text/html": [
              "<button onClick=\"this.nextSibling.style.display='block';this.style.display='none';\">Display W&B run</button><iframe src=\"https://wandb.ai/aliyaghoubian/CNN%20-%20Mnist/runs/td2hlpx5?jupyter=true\" style=\"border:none;width:100%;height:420px;display:none;\"></iframe>"
            ]
          },
          "metadata": {},
          "execution_count": 16
        }
      ]
    },
    {
      "cell_type": "code",
      "source": [
        "config = wandb.config\n",
        "config.learning_rate = 0.001"
      ],
      "metadata": {
        "id": "g0-wjO5EyvPI"
      },
      "execution_count": null,
      "outputs": []
    },
    {
      "cell_type": "markdown",
      "source": [
        "Dataset"
      ],
      "metadata": {
        "id": "eGbyhD8DAwbI"
      }
    },
    {
      "cell_type": "code",
      "source": [
        "mnist = tf.keras.datasets.mnist\n",
        "(X_train, Y_train), (X_test, Y_test) = mnist.load_data()\n",
        "\n",
        "X_train, X_val, Y_train, Y_val = train_test_split(X_train, Y_train, test_size=0.1, random_state=33)\n",
        "\n",
        "X_train, X_test, X_val = X_train / 255.0, X_test / 255.0, X_val / 255.0\n",
        "print(X_train.shape, X_val.shape, X_test.shape)"
      ],
      "metadata": {
        "id": "ij0VIEkzAXnv",
        "colab": {
          "base_uri": "https://localhost:8080/"
        },
        "outputId": "5c1444ff-9f1d-4961-b94c-9aa84688f103"
      },
      "execution_count": null,
      "outputs": [
        {
          "output_type": "stream",
          "name": "stdout",
          "text": [
            "Downloading data from https://storage.googleapis.com/tensorflow/tf-keras-datasets/mnist.npz\n",
            "11493376/11490434 [==============================] - 0s 0us/step\n",
            "11501568/11490434 [==============================] - 0s 0us/step\n",
            "(54000, 28, 28) (6000, 28, 28) (10000, 28, 28)\n"
          ]
        }
      ]
    },
    {
      "cell_type": "markdown",
      "source": [
        "Model"
      ],
      "metadata": {
        "id": "k6GAjqXeChKu"
      }
    },
    {
      "cell_type": "code",
      "source": [
        "model = tf.keras.models.Sequential([\n",
        "    # features extraction\n",
        "    layers.Conv2D(filters=32, kernel_size=(3, 3), activation=\"relu\", input_shape=(28, 28, 1)),\n",
        "    layers.MaxPooling2D(),\n",
        "    layers.Conv2D(64, (3, 3), activation=\"relu\"),\n",
        "    layers.MaxPooling2D(),\n",
        "    layers.Conv2D(64, (5, 5), activation=\"relu\"),\n",
        "\n",
        "    layers.Flatten(),\n",
        "\n",
        "    # Network Layers\n",
        "    layers.Dense(128, activation=\"relu\"),\n",
        "    layers.Dense(10, activation=\"softmax\")\n",
        "])"
      ],
      "metadata": {
        "id": "yxiiOmIjBomr"
      },
      "execution_count": null,
      "outputs": []
    },
    {
      "cell_type": "markdown",
      "source": [
        "Compile"
      ],
      "metadata": {
        "id": "38N0nzPJ1YAH"
      }
    },
    {
      "cell_type": "code",
      "source": [
        "model.compile(\n",
        "    optimizer=tf.keras.optimizers.Adam(learning_rate=config.learning_rate),\n",
        "    loss=tf.keras.losses.sparse_categorical_crossentropy,\n",
        "    metrics=[\"accuracy\"]\n",
        ")"
      ],
      "metadata": {
        "id": "Xu50lHEFoJIS"
      },
      "execution_count": null,
      "outputs": []
    },
    {
      "cell_type": "markdown",
      "source": [
        "Summary"
      ],
      "metadata": {
        "id": "J58Pzs7p1mT9"
      }
    },
    {
      "cell_type": "code",
      "source": [
        "model.summary()"
      ],
      "metadata": {
        "colab": {
          "base_uri": "https://localhost:8080/"
        },
        "id": "D3fNeR6P1nlu",
        "outputId": "d4dba51d-679c-4ef6-97de-2b860d8101bb"
      },
      "execution_count": null,
      "outputs": [
        {
          "output_type": "stream",
          "name": "stdout",
          "text": [
            "Model: \"sequential\"\n",
            "_________________________________________________________________\n",
            " Layer (type)                Output Shape              Param #   \n",
            "=================================================================\n",
            " conv2d (Conv2D)             (None, 26, 26, 32)        320       \n",
            "                                                                 \n",
            " max_pooling2d (MaxPooling2D  (None, 13, 13, 32)       0         \n",
            " )                                                               \n",
            "                                                                 \n",
            " conv2d_1 (Conv2D)           (None, 11, 11, 64)        18496     \n",
            "                                                                 \n",
            " max_pooling2d_1 (MaxPooling  (None, 5, 5, 64)         0         \n",
            " 2D)                                                             \n",
            "                                                                 \n",
            " conv2d_2 (Conv2D)           (None, 1, 1, 64)          102464    \n",
            "                                                                 \n",
            " flatten (Flatten)           (None, 64)                0         \n",
            "                                                                 \n",
            " dense (Dense)               (None, 128)               8320      \n",
            "                                                                 \n",
            " dense_1 (Dense)             (None, 10)                1290      \n",
            "                                                                 \n",
            "=================================================================\n",
            "Total params: 130,890\n",
            "Trainable params: 130,890\n",
            "Non-trainable params: 0\n",
            "_________________________________________________________________\n"
          ]
        }
      ]
    },
    {
      "cell_type": "markdown",
      "source": [
        "Train"
      ],
      "metadata": {
        "id": "iB-4kgln1seO"
      }
    },
    {
      "cell_type": "code",
      "source": [
        "model.fit(X_train, Y_train, epochs=15, validation_data=(X_val, Y_val), callbacks=[WandbCallback()])"
      ],
      "metadata": {
        "colab": {
          "base_uri": "https://localhost:8080/"
        },
        "id": "qYBCD34lphiq",
        "outputId": "5f87b3e5-15e8-48a2-fccf-6bf642262f73"
      },
      "execution_count": null,
      "outputs": [
        {
          "output_type": "stream",
          "name": "stdout",
          "text": [
            "Epoch 1/15\n",
            "1688/1688 [==============================] - 22s 7ms/step - loss: 0.1640 - accuracy: 0.9498 - val_loss: 0.0655 - val_accuracy: 0.9785 - _timestamp: 1646546916.0000 - _runtime: 914.0000\n",
            "Epoch 2/15\n",
            "1688/1688 [==============================] - 13s 7ms/step - loss: 0.0519 - accuracy: 0.9831 - val_loss: 0.0612 - val_accuracy: 0.9812 - _timestamp: 1646546929.0000 - _runtime: 927.0000\n",
            "Epoch 3/15\n",
            "1688/1688 [==============================] - 12s 7ms/step - loss: 0.0353 - accuracy: 0.9896 - val_loss: 0.0689 - val_accuracy: 0.9795 - _timestamp: 1646546941.0000 - _runtime: 939.0000\n",
            "Epoch 4/15\n",
            "1688/1688 [==============================] - 13s 8ms/step - loss: 0.0269 - accuracy: 0.9914 - val_loss: 0.0547 - val_accuracy: 0.9828 - _timestamp: 1646546954.0000 - _runtime: 952.0000\n",
            "Epoch 5/15\n",
            "1688/1688 [==============================] - 13s 8ms/step - loss: 0.0208 - accuracy: 0.9934 - val_loss: 0.0509 - val_accuracy: 0.9863 - _timestamp: 1646546967.0000 - _runtime: 965.0000\n",
            "Epoch 6/15\n",
            "1688/1688 [==============================] - 12s 7ms/step - loss: 0.0171 - accuracy: 0.9944 - val_loss: 0.0627 - val_accuracy: 0.9830 - _timestamp: 1646546979.0000 - _runtime: 977.0000\n",
            "Epoch 7/15\n",
            "1688/1688 [==============================] - 13s 7ms/step - loss: 0.0137 - accuracy: 0.9957 - val_loss: 0.0433 - val_accuracy: 0.9898 - _timestamp: 1646546992.0000 - _runtime: 990.0000\n",
            "Epoch 8/15\n",
            "1688/1688 [==============================] - 13s 8ms/step - loss: 0.0107 - accuracy: 0.9962 - val_loss: 0.0714 - val_accuracy: 0.9865 - _timestamp: 1646547005.0000 - _runtime: 1003.0000\n",
            "Epoch 9/15\n",
            "1688/1688 [==============================] - 13s 7ms/step - loss: 0.0115 - accuracy: 0.9962 - val_loss: 0.0514 - val_accuracy: 0.9850 - _timestamp: 1646547017.0000 - _runtime: 1015.0000\n",
            "Epoch 10/15\n",
            "1688/1688 [==============================] - 12s 7ms/step - loss: 0.0093 - accuracy: 0.9968 - val_loss: 0.0644 - val_accuracy: 0.9865 - _timestamp: 1646547029.0000 - _runtime: 1027.0000\n",
            "Epoch 11/15\n",
            "1688/1688 [==============================] - 12s 7ms/step - loss: 0.0087 - accuracy: 0.9973 - val_loss: 0.0451 - val_accuracy: 0.9888 - _timestamp: 1646547041.0000 - _runtime: 1039.0000\n",
            "Epoch 12/15\n",
            "1688/1688 [==============================] - 12s 7ms/step - loss: 0.0075 - accuracy: 0.9976 - val_loss: 0.0617 - val_accuracy: 0.9865 - _timestamp: 1646547053.0000 - _runtime: 1051.0000\n",
            "Epoch 13/15\n",
            "1688/1688 [==============================] - 12s 7ms/step - loss: 0.0068 - accuracy: 0.9979 - val_loss: 0.0617 - val_accuracy: 0.9870 - _timestamp: 1646547065.0000 - _runtime: 1063.0000\n",
            "Epoch 14/15\n",
            "1688/1688 [==============================] - 13s 7ms/step - loss: 0.0067 - accuracy: 0.9978 - val_loss: 0.0844 - val_accuracy: 0.9835 - _timestamp: 1646547078.0000 - _runtime: 1076.0000\n",
            "Epoch 15/15\n",
            "1688/1688 [==============================] - 12s 7ms/step - loss: 0.0057 - accuracy: 0.9985 - val_loss: 0.0727 - val_accuracy: 0.9872 - _timestamp: 1646547090.0000 - _runtime: 1088.0000\n"
          ]
        },
        {
          "output_type": "execute_result",
          "data": {
            "text/plain": [
              "<keras.callbacks.History at 0x7f999392ecd0>"
            ]
          },
          "metadata": {},
          "execution_count": 14
        }
      ]
    },
    {
      "cell_type": "code",
      "source": [
        "model.evaluate(X_test, Y_test)"
      ],
      "metadata": {
        "colab": {
          "base_uri": "https://localhost:8080/"
        },
        "id": "KELXDRqHpnLD",
        "outputId": "919b6b44-1375-4c74-ae50-2132fadfe43c"
      },
      "execution_count": null,
      "outputs": [
        {
          "output_type": "stream",
          "name": "stdout",
          "text": [
            "313/313 [==============================] - 1s 4ms/step - loss: 0.0512 - accuracy: 0.9901\n"
          ]
        },
        {
          "output_type": "execute_result",
          "data": {
            "text/plain": [
              "[0.05122917518019676, 0.9901000261306763]"
            ]
          },
          "metadata": {},
          "execution_count": 15
        }
      ]
    },
    {
      "cell_type": "markdown",
      "source": [
        "Inference"
      ],
      "metadata": {
        "id": "20fTNCMatD2E"
      }
    },
    {
      "cell_type": "code",
      "source": [
        "import cv2\n",
        "\n",
        "img = cv2.imread(\"7_mnist.png\")\n",
        "img = cv2.resize(img, (28, 28))\n",
        "img = cv2.cvtColor(img, cv2.COLOR_BGR2GRAY)\n",
        "\n",
        "img = img / 255.0\n",
        "img = img.reshape(1, 28, 28)\n",
        "\n",
        "result = model.predict(img)\n",
        "np.argmax(result)\n",
        "# result"
      ],
      "metadata": {
        "colab": {
          "base_uri": "https://localhost:8080/"
        },
        "id": "rZhwMufhs5th",
        "outputId": "c013534d-6bc5-4574-9150-d4aacaa7fd81"
      },
      "execution_count": null,
      "outputs": [
        {
          "output_type": "execute_result",
          "data": {
            "text/plain": [
              "7"
            ]
          },
          "metadata": {},
          "execution_count": 33
        }
      ]
    }
  ]
}