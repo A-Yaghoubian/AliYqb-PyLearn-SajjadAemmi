{
  "nbformat": 4,
  "nbformat_minor": 0,
  "metadata": {
    "colab": {
      "name": "CNN - CIFAR10.ipynb",
      "provenance": []
    },
    "kernelspec": {
      "name": "python3",
      "display_name": "Python 3"
    },
    "language_info": {
      "name": "python"
    },
    "accelerator": "GPU",
    "widgets": {
      "application/vnd.jupyter.widget-state+json": {
        "87770cc4c5a24a458ccc87edd82b9e6a": {
          "model_module": "@jupyter-widgets/controls",
          "model_name": "VBoxModel",
          "model_module_version": "1.5.0",
          "state": {
            "_view_name": "VBoxView",
            "_dom_classes": [],
            "_model_name": "VBoxModel",
            "_view_module": "@jupyter-widgets/controls",
            "_model_module_version": "1.5.0",
            "_view_count": null,
            "_view_module_version": "1.5.0",
            "box_style": "",
            "layout": "IPY_MODEL_c90806f66c204c048e55b2b341b4e983",
            "_model_module": "@jupyter-widgets/controls",
            "children": [
              "IPY_MODEL_0678429cef694a64be59e3cef9bcb72a",
              "IPY_MODEL_eb9c88c4325f40359152cbb145e5508f"
            ]
          }
        },
        "c90806f66c204c048e55b2b341b4e983": {
          "model_module": "@jupyter-widgets/base",
          "model_name": "LayoutModel",
          "model_module_version": "1.2.0",
          "state": {
            "_view_name": "LayoutView",
            "grid_template_rows": null,
            "right": null,
            "justify_content": null,
            "_view_module": "@jupyter-widgets/base",
            "overflow": null,
            "_model_module_version": "1.2.0",
            "_view_count": null,
            "flex_flow": null,
            "width": null,
            "min_width": null,
            "border": null,
            "align_items": null,
            "bottom": null,
            "_model_module": "@jupyter-widgets/base",
            "top": null,
            "grid_column": null,
            "overflow_y": null,
            "overflow_x": null,
            "grid_auto_flow": null,
            "grid_area": null,
            "grid_template_columns": null,
            "flex": null,
            "_model_name": "LayoutModel",
            "justify_items": null,
            "grid_row": null,
            "max_height": null,
            "align_content": null,
            "visibility": null,
            "align_self": null,
            "height": null,
            "min_height": null,
            "padding": null,
            "grid_auto_rows": null,
            "grid_gap": null,
            "max_width": null,
            "order": null,
            "_view_module_version": "1.2.0",
            "grid_template_areas": null,
            "object_position": null,
            "object_fit": null,
            "grid_auto_columns": null,
            "margin": null,
            "display": null,
            "left": null
          }
        },
        "0678429cef694a64be59e3cef9bcb72a": {
          "model_module": "@jupyter-widgets/controls",
          "model_name": "LabelModel",
          "model_module_version": "1.5.0",
          "state": {
            "_view_name": "LabelView",
            "style": "IPY_MODEL_8a63c17f91364daaa46a0e960e7853e5",
            "_dom_classes": [],
            "description": "",
            "_model_name": "LabelModel",
            "placeholder": "​",
            "_view_module": "@jupyter-widgets/controls",
            "_model_module_version": "1.5.0",
            "value": "1.851 MB of 1.851 MB uploaded (0.000 MB deduped)\r",
            "_view_count": null,
            "_view_module_version": "1.5.0",
            "description_tooltip": null,
            "_model_module": "@jupyter-widgets/controls",
            "layout": "IPY_MODEL_21fe1941f2c14573ada0a43ea937c68a"
          }
        },
        "eb9c88c4325f40359152cbb145e5508f": {
          "model_module": "@jupyter-widgets/controls",
          "model_name": "FloatProgressModel",
          "model_module_version": "1.5.0",
          "state": {
            "_view_name": "ProgressView",
            "style": "IPY_MODEL_2dd6d3ba0b364277838dc71eaeb03e27",
            "_dom_classes": [],
            "description": "",
            "_model_name": "FloatProgressModel",
            "bar_style": "",
            "max": 1,
            "_view_module": "@jupyter-widgets/controls",
            "_model_module_version": "1.5.0",
            "value": 1,
            "_view_count": null,
            "_view_module_version": "1.5.0",
            "orientation": "horizontal",
            "min": 0,
            "description_tooltip": null,
            "_model_module": "@jupyter-widgets/controls",
            "layout": "IPY_MODEL_9096ffb990f0474083c08d32d2d38e89"
          }
        },
        "8a63c17f91364daaa46a0e960e7853e5": {
          "model_module": "@jupyter-widgets/controls",
          "model_name": "DescriptionStyleModel",
          "model_module_version": "1.5.0",
          "state": {
            "_view_name": "StyleView",
            "_model_name": "DescriptionStyleModel",
            "description_width": "",
            "_view_module": "@jupyter-widgets/base",
            "_model_module_version": "1.5.0",
            "_view_count": null,
            "_view_module_version": "1.2.0",
            "_model_module": "@jupyter-widgets/controls"
          }
        },
        "21fe1941f2c14573ada0a43ea937c68a": {
          "model_module": "@jupyter-widgets/base",
          "model_name": "LayoutModel",
          "model_module_version": "1.2.0",
          "state": {
            "_view_name": "LayoutView",
            "grid_template_rows": null,
            "right": null,
            "justify_content": null,
            "_view_module": "@jupyter-widgets/base",
            "overflow": null,
            "_model_module_version": "1.2.0",
            "_view_count": null,
            "flex_flow": null,
            "width": null,
            "min_width": null,
            "border": null,
            "align_items": null,
            "bottom": null,
            "_model_module": "@jupyter-widgets/base",
            "top": null,
            "grid_column": null,
            "overflow_y": null,
            "overflow_x": null,
            "grid_auto_flow": null,
            "grid_area": null,
            "grid_template_columns": null,
            "flex": null,
            "_model_name": "LayoutModel",
            "justify_items": null,
            "grid_row": null,
            "max_height": null,
            "align_content": null,
            "visibility": null,
            "align_self": null,
            "height": null,
            "min_height": null,
            "padding": null,
            "grid_auto_rows": null,
            "grid_gap": null,
            "max_width": null,
            "order": null,
            "_view_module_version": "1.2.0",
            "grid_template_areas": null,
            "object_position": null,
            "object_fit": null,
            "grid_auto_columns": null,
            "margin": null,
            "display": null,
            "left": null
          }
        },
        "2dd6d3ba0b364277838dc71eaeb03e27": {
          "model_module": "@jupyter-widgets/controls",
          "model_name": "ProgressStyleModel",
          "model_module_version": "1.5.0",
          "state": {
            "_view_name": "StyleView",
            "_model_name": "ProgressStyleModel",
            "description_width": "",
            "_view_module": "@jupyter-widgets/base",
            "_model_module_version": "1.5.0",
            "_view_count": null,
            "_view_module_version": "1.2.0",
            "bar_color": null,
            "_model_module": "@jupyter-widgets/controls"
          }
        },
        "9096ffb990f0474083c08d32d2d38e89": {
          "model_module": "@jupyter-widgets/base",
          "model_name": "LayoutModel",
          "model_module_version": "1.2.0",
          "state": {
            "_view_name": "LayoutView",
            "grid_template_rows": null,
            "right": null,
            "justify_content": null,
            "_view_module": "@jupyter-widgets/base",
            "overflow": null,
            "_model_module_version": "1.2.0",
            "_view_count": null,
            "flex_flow": null,
            "width": null,
            "min_width": null,
            "border": null,
            "align_items": null,
            "bottom": null,
            "_model_module": "@jupyter-widgets/base",
            "top": null,
            "grid_column": null,
            "overflow_y": null,
            "overflow_x": null,
            "grid_auto_flow": null,
            "grid_area": null,
            "grid_template_columns": null,
            "flex": null,
            "_model_name": "LayoutModel",
            "justify_items": null,
            "grid_row": null,
            "max_height": null,
            "align_content": null,
            "visibility": null,
            "align_self": null,
            "height": null,
            "min_height": null,
            "padding": null,
            "grid_auto_rows": null,
            "grid_gap": null,
            "max_width": null,
            "order": null,
            "_view_module_version": "1.2.0",
            "grid_template_areas": null,
            "object_position": null,
            "object_fit": null,
            "grid_auto_columns": null,
            "margin": null,
            "display": null,
            "left": null
          }
        }
      }
    }
  },
  "cells": [
    {
      "cell_type": "code",
      "execution_count": null,
      "metadata": {
        "id": "8oUAe8u7CRy1"
      },
      "outputs": [],
      "source": [
        "!pip install wandb"
      ]
    },
    {
      "cell_type": "markdown",
      "source": [
        "Libraries"
      ],
      "metadata": {
        "id": "0ixUb6QOIzqY"
      }
    },
    {
      "cell_type": "code",
      "source": [
        "import tensorflow as tf\n",
        "from tensorflow.keras import layers\n",
        "from sklearn.model_selection import train_test_split\n",
        "import numpy as np\n",
        "import wandb\n",
        "from wandb.keras import WandbCallback"
      ],
      "metadata": {
        "id": "W__vT3aeIirX"
      },
      "execution_count": null,
      "outputs": []
    },
    {
      "cell_type": "markdown",
      "source": [
        "Init Wandb"
      ],
      "metadata": {
        "id": "y8N0L-wzI-xf"
      }
    },
    {
      "cell_type": "code",
      "source": [
        "wandb.init(project=\"CNN - CIFAR10\")"
      ],
      "metadata": {
        "colab": {
          "base_uri": "https://localhost:8080/",
          "height": 456,
          "referenced_widgets": [
            "87770cc4c5a24a458ccc87edd82b9e6a",
            "c90806f66c204c048e55b2b341b4e983",
            "0678429cef694a64be59e3cef9bcb72a",
            "eb9c88c4325f40359152cbb145e5508f",
            "8a63c17f91364daaa46a0e960e7853e5",
            "21fe1941f2c14573ada0a43ea937c68a",
            "2dd6d3ba0b364277838dc71eaeb03e27",
            "9096ffb990f0474083c08d32d2d38e89"
          ]
        },
        "id": "SBnlKK19I9eP",
        "outputId": "74e5a33e-3666-45d3-8695-7ee19c8d99e9"
      },
      "execution_count": null,
      "outputs": [
        {
          "output_type": "display_data",
          "data": {
            "text/html": [
              "Finishing last run (ID:3sqjty8c) before initializing another..."
            ],
            "text/plain": [
              "<IPython.core.display.HTML object>"
            ]
          },
          "metadata": {}
        },
        {
          "output_type": "stream",
          "name": "stdout",
          "text": [
            "\n"
          ]
        },
        {
          "output_type": "display_data",
          "data": {
            "text/html": [
              "Waiting for W&B process to finish... <strong style=\"color:green\">(success).</strong>"
            ],
            "text/plain": [
              "<IPython.core.display.HTML object>"
            ]
          },
          "metadata": {}
        },
        {
          "output_type": "display_data",
          "data": {
            "application/vnd.jupyter.widget-view+json": {
              "model_id": "87770cc4c5a24a458ccc87edd82b9e6a",
              "version_minor": 0,
              "version_major": 2
            },
            "text/plain": [
              "VBox(children=(Label(value='1.839 MB of 1.839 MB uploaded (0.000 MB deduped)\\r'), FloatProgress(value=1.0, max…"
            ]
          },
          "metadata": {}
        },
        {
          "output_type": "display_data",
          "data": {
            "text/html": [
              "<style>\n",
              "    table.wandb td:nth-child(1) { padding: 0 10px; text-align: right }\n",
              "    .wandb-row { display: flex; flex-direction: row; flex-wrap: wrap; width: 100% }\n",
              "    .wandb-col { display: flex; flex-direction: column; flex-basis: 100%; flex: 1; padding: 10px; }\n",
              "    </style>\n",
              "<div class=\"wandb-row\"><div class=\"wandb-col\"><h3>Run history:</h3><br/><table class=\"wandb\"><tr><td>accuracy</td><td>▁▄▄▅▆▆▆▆▇▇▇▇███</td></tr><tr><td>epoch</td><td>▁▁▂▃▃▃▄▅▅▅▆▇▇▇█</td></tr><tr><td>loss</td><td>█▆▅▄▄▃▃▃▂▂▂▂▁▁▁</td></tr><tr><td>val_accuracy</td><td>▁▄▅▆▇▇▇▇▇█▇█▇█▇</td></tr><tr><td>val_loss</td><td>█▅▃▃▂▁▁▂▃▁▂▃▃▃▅</td></tr></table><br/></div><div class=\"wandb-col\"><h3>Run summary:</h3><br/><table class=\"wandb\"><tr><td>accuracy</td><td>0.861</td></tr><tr><td>best_epoch</td><td>6</td></tr><tr><td>best_val_loss</td><td>0.87875</td></tr><tr><td>epoch</td><td>14</td></tr><tr><td>loss</td><td>0.39586</td></tr><tr><td>val_accuracy</td><td>0.695</td></tr><tr><td>val_loss</td><td>1.05323</td></tr></table><br/></div></div>"
            ],
            "text/plain": [
              "<IPython.core.display.HTML object>"
            ]
          },
          "metadata": {}
        },
        {
          "output_type": "display_data",
          "data": {
            "text/html": [
              "Synced <strong style=\"color:#cdcd00\">sage-shadow-2</strong>: <a href=\"https://wandb.ai/aliyaghoubian/CNN%20-%20CIFAR10/runs/3sqjty8c\" target=\"_blank\">https://wandb.ai/aliyaghoubian/CNN%20-%20CIFAR10/runs/3sqjty8c</a><br/>Synced 5 W&B file(s), 1 media file(s), 0 artifact file(s) and 1 other file(s)"
            ],
            "text/plain": [
              "<IPython.core.display.HTML object>"
            ]
          },
          "metadata": {}
        },
        {
          "output_type": "display_data",
          "data": {
            "text/html": [
              "Find logs at: <code>./wandb/run-20220306_121858-3sqjty8c/logs</code>"
            ],
            "text/plain": [
              "<IPython.core.display.HTML object>"
            ]
          },
          "metadata": {}
        },
        {
          "output_type": "display_data",
          "data": {
            "text/html": [
              "Successfully finished last run (ID:3sqjty8c). Initializing new run:<br/>"
            ],
            "text/plain": [
              "<IPython.core.display.HTML object>"
            ]
          },
          "metadata": {}
        },
        {
          "output_type": "display_data",
          "data": {
            "text/html": [
              "Tracking run with wandb version 0.12.11"
            ],
            "text/plain": [
              "<IPython.core.display.HTML object>"
            ]
          },
          "metadata": {}
        },
        {
          "output_type": "display_data",
          "data": {
            "text/html": [
              "Run data is saved locally in <code>/content/wandb/run-20220306_122451-2c469qao</code>"
            ],
            "text/plain": [
              "<IPython.core.display.HTML object>"
            ]
          },
          "metadata": {}
        },
        {
          "output_type": "display_data",
          "data": {
            "text/html": [
              "Syncing run <strong><a href=\"https://wandb.ai/aliyaghoubian/CNN%20-%20CIFAR10/runs/2c469qao\" target=\"_blank\">wise-sponge-3</a></strong> to <a href=\"https://wandb.ai/aliyaghoubian/CNN%20-%20CIFAR10\" target=\"_blank\">Weights & Biases</a> (<a href=\"https://wandb.me/run\" target=\"_blank\">docs</a>)<br/>"
            ],
            "text/plain": [
              "<IPython.core.display.HTML object>"
            ]
          },
          "metadata": {}
        },
        {
          "output_type": "execute_result",
          "data": {
            "text/plain": [
              "<wandb.sdk.wandb_run.Run at 0x7f40587a6cd0>"
            ],
            "text/html": [
              "<button onClick=\"this.nextSibling.style.display='block';this.style.display='none';\">Display W&B run</button><iframe src=\"https://wandb.ai/aliyaghoubian/CNN%20-%20CIFAR10/runs/2c469qao?jupyter=true\" style=\"border:none;width:100%;height:420px;display:none;\"></iframe>"
            ]
          },
          "metadata": {},
          "execution_count": 16
        }
      ]
    },
    {
      "cell_type": "code",
      "source": [
        "config = wandb.config\n",
        "config.learning_rate = 0.001"
      ],
      "metadata": {
        "id": "ElJH-1L-JGPX"
      },
      "execution_count": null,
      "outputs": []
    },
    {
      "cell_type": "markdown",
      "source": [
        "Dataset"
      ],
      "metadata": {
        "id": "v9dG-tyfJiln"
      }
    },
    {
      "cell_type": "code",
      "source": [
        "cifar10 = tf.keras.datasets.cifar10\n",
        "(X_train, Y_train), (X_test, Y_test) = cifar10.load_data()\n",
        "\n",
        "X_train, X_val, Y_train, Y_val = train_test_split(X_train, Y_train, test_size=0.1, random_state=33)\n",
        "\n",
        "X_train, X_test, X_val = X_train / 255.0, X_test / 255.0, X_val / 255.0\n",
        "print(X_train.shape, X_val.shape, X_test.shape)"
      ],
      "metadata": {
        "colab": {
          "base_uri": "https://localhost:8080/"
        },
        "id": "vFPEKWq5Jfyo",
        "outputId": "60fa9ee1-9e9c-4371-8fa7-ea41ed0828d1"
      },
      "execution_count": null,
      "outputs": [
        {
          "output_type": "stream",
          "name": "stdout",
          "text": [
            "Downloading data from https://www.cs.toronto.edu/~kriz/cifar-10-python.tar.gz\n",
            "170500096/170498071 [==============================] - 2s 0us/step\n",
            "170508288/170498071 [==============================] - 2s 0us/step\n",
            "(45000, 32, 32, 3) (5000, 32, 32, 3) (10000, 32, 32, 3)\n"
          ]
        }
      ]
    },
    {
      "cell_type": "markdown",
      "source": [
        "Model"
      ],
      "metadata": {
        "id": "btDon84YJ3d2"
      }
    },
    {
      "cell_type": "code",
      "source": [
        "model = tf.keras.models.Sequential([\n",
        "    # features extraction\n",
        "    layers.Conv2D(filters=32, kernel_size=(3, 3), activation=\"relu\", input_shape=(32, 32, 3)),\n",
        "    layers.MaxPooling2D(),\n",
        "    layers.Conv2D(64, (3, 3), activation=\"relu\"),\n",
        "    layers.MaxPooling2D(),\n",
        "    layers.Conv2D(64, (5, 5), activation=\"relu\"),\n",
        "\n",
        "    layers.Flatten(),\n",
        "\n",
        "    # Network Layers\n",
        "    layers.Dense(128, activation=\"relu\"),\n",
        "    layers.Dense(10, activation=\"softmax\")\n",
        "])"
      ],
      "metadata": {
        "id": "uVun89KKJvK5"
      },
      "execution_count": null,
      "outputs": []
    },
    {
      "cell_type": "markdown",
      "source": [
        "Summary"
      ],
      "metadata": {
        "id": "ySN4UuLPJ_o3"
      }
    },
    {
      "cell_type": "code",
      "source": [
        "model.summary()"
      ],
      "metadata": {
        "colab": {
          "base_uri": "https://localhost:8080/"
        },
        "id": "CEcKwsQoJ-hv",
        "outputId": "6d964bd4-2b2f-44c5-f959-60b2fc738c40"
      },
      "execution_count": null,
      "outputs": [
        {
          "output_type": "stream",
          "name": "stdout",
          "text": [
            "Model: \"sequential_1\"\n",
            "_________________________________________________________________\n",
            " Layer (type)                Output Shape              Param #   \n",
            "=================================================================\n",
            " conv2d_3 (Conv2D)           (None, 30, 30, 32)        896       \n",
            "                                                                 \n",
            " max_pooling2d_2 (MaxPooling  (None, 15, 15, 32)       0         \n",
            " 2D)                                                             \n",
            "                                                                 \n",
            " conv2d_4 (Conv2D)           (None, 13, 13, 64)        18496     \n",
            "                                                                 \n",
            " max_pooling2d_3 (MaxPooling  (None, 6, 6, 64)         0         \n",
            " 2D)                                                             \n",
            "                                                                 \n",
            " conv2d_5 (Conv2D)           (None, 2, 2, 64)          102464    \n",
            "                                                                 \n",
            " flatten_1 (Flatten)         (None, 256)               0         \n",
            "                                                                 \n",
            " dense_2 (Dense)             (None, 128)               32896     \n",
            "                                                                 \n",
            " dense_3 (Dense)             (None, 10)                1290      \n",
            "                                                                 \n",
            "=================================================================\n",
            "Total params: 156,042\n",
            "Trainable params: 156,042\n",
            "Non-trainable params: 0\n",
            "_________________________________________________________________\n"
          ]
        }
      ]
    },
    {
      "cell_type": "markdown",
      "source": [
        "Compile"
      ],
      "metadata": {
        "id": "im-5AvbhKINZ"
      }
    },
    {
      "cell_type": "code",
      "source": [
        "model.compile(optimizer=tf.keras.optimizers.Adam(learning_rate=config.learning_rate),\n",
        "              loss=tf.keras.losses.sparse_categorical_crossentropy,\n",
        "              metrics=[\"accuracy\"])"
      ],
      "metadata": {
        "id": "qCSIe5YYKBsH"
      },
      "execution_count": null,
      "outputs": []
    },
    {
      "cell_type": "markdown",
      "source": [
        "Train"
      ],
      "metadata": {
        "id": "A78Iqo7pKQa6"
      }
    },
    {
      "cell_type": "code",
      "source": [
        "model.fit(X_train, Y_train, epochs=15, validation_data=(X_val, Y_val), callbacks=[WandbCallback()])"
      ],
      "metadata": {
        "colab": {
          "base_uri": "https://localhost:8080/"
        },
        "id": "XeNp1plvKKEX",
        "outputId": "39028a1e-8245-4616-b2a8-016abac8c9a0"
      },
      "execution_count": null,
      "outputs": [
        {
          "output_type": "stream",
          "name": "stdout",
          "text": [
            "Epoch 1/15\n",
            "1407/1407 [==============================] - 22s 8ms/step - loss: 1.4754 - accuracy: 0.4627 - val_loss: 1.2128 - val_accuracy: 0.5612 - _timestamp: 1646569221.0000 - _runtime: 82.0000\n",
            "Epoch 2/15\n",
            "1407/1407 [==============================] - 12s 8ms/step - loss: 1.1201 - accuracy: 0.6072 - val_loss: 1.0904 - val_accuracy: 0.6170 - _timestamp: 1646569233.0000 - _runtime: 94.0000\n",
            "Epoch 3/15\n",
            "1407/1407 [==============================] - 11s 8ms/step - loss: 0.9734 - accuracy: 0.6561 - val_loss: 0.9890 - val_accuracy: 0.6570 - _timestamp: 1646569245.0000 - _runtime: 106.0000\n",
            "Epoch 4/15\n",
            "1407/1407 [==============================] - 12s 8ms/step - loss: 0.8781 - accuracy: 0.6923 - val_loss: 0.9510 - val_accuracy: 0.6684 - _timestamp: 1646569256.0000 - _runtime: 117.0000\n",
            "Epoch 5/15\n",
            "1407/1407 [==============================] - 12s 8ms/step - loss: 0.8035 - accuracy: 0.7198 - val_loss: 0.9224 - val_accuracy: 0.6852 - _timestamp: 1646569268.0000 - _runtime: 129.0000\n",
            "Epoch 6/15\n",
            "1407/1407 [==============================] - 12s 8ms/step - loss: 0.7427 - accuracy: 0.7389 - val_loss: 0.8815 - val_accuracy: 0.6976 - _timestamp: 1646569279.0000 - _runtime: 140.0000\n",
            "Epoch 7/15\n",
            "1407/1407 [==============================] - 14s 10ms/step - loss: 0.6935 - accuracy: 0.7570 - val_loss: 0.8787 - val_accuracy: 0.6898 - _timestamp: 1646569293.0000 - _runtime: 154.0000\n",
            "Epoch 8/15\n",
            "1407/1407 [==============================] - 12s 9ms/step - loss: 0.6446 - accuracy: 0.7731 - val_loss: 0.9179 - val_accuracy: 0.6920 - _timestamp: 1646569305.0000 - _runtime: 166.0000\n",
            "Epoch 9/15\n",
            "1407/1407 [==============================] - 12s 8ms/step - loss: 0.6037 - accuracy: 0.7868 - val_loss: 0.9787 - val_accuracy: 0.6850 - _timestamp: 1646569317.0000 - _runtime: 178.0000\n",
            "Epoch 10/15\n",
            "1407/1407 [==============================] - 12s 8ms/step - loss: 0.5678 - accuracy: 0.8006 - val_loss: 0.8908 - val_accuracy: 0.7128 - _timestamp: 1646569329.0000 - _runtime: 190.0000\n",
            "Epoch 11/15\n",
            "1407/1407 [==============================] - 12s 8ms/step - loss: 0.5263 - accuracy: 0.8151 - val_loss: 0.9376 - val_accuracy: 0.7000 - _timestamp: 1646569341.0000 - _runtime: 202.0000\n",
            "Epoch 12/15\n",
            "1407/1407 [==============================] - 12s 8ms/step - loss: 0.4963 - accuracy: 0.8246 - val_loss: 0.9572 - val_accuracy: 0.7054 - _timestamp: 1646569352.0000 - _runtime: 213.0000\n",
            "Epoch 13/15\n",
            "1407/1407 [==============================] - 12s 8ms/step - loss: 0.4607 - accuracy: 0.8363 - val_loss: 0.9977 - val_accuracy: 0.7000 - _timestamp: 1646569364.0000 - _runtime: 225.0000\n",
            "Epoch 14/15\n",
            "1407/1407 [==============================] - 12s 8ms/step - loss: 0.4332 - accuracy: 0.8448 - val_loss: 0.9862 - val_accuracy: 0.7048 - _timestamp: 1646569376.0000 - _runtime: 237.0000\n",
            "Epoch 15/15\n",
            "1407/1407 [==============================] - 12s 9ms/step - loss: 0.3959 - accuracy: 0.8610 - val_loss: 1.0532 - val_accuracy: 0.6950 - _timestamp: 1646569388.0000 - _runtime: 249.0000\n"
          ]
        },
        {
          "output_type": "execute_result",
          "data": {
            "text/plain": [
              "<keras.callbacks.History at 0x7f4057f7e3d0>"
            ]
          },
          "metadata": {},
          "execution_count": 14
        }
      ]
    },
    {
      "cell_type": "markdown",
      "source": [
        "Evaluate"
      ],
      "metadata": {
        "id": "0xfPsEi6LYKb"
      }
    },
    {
      "cell_type": "code",
      "source": [
        "model.evaluate(X_test, Y_test)"
      ],
      "metadata": {
        "colab": {
          "base_uri": "https://localhost:8080/"
        },
        "id": "0AhLF_mfKpFP",
        "outputId": "bf3c8d09-919b-41bb-f229-24a928c9ab33"
      },
      "execution_count": null,
      "outputs": [
        {
          "output_type": "stream",
          "name": "stdout",
          "text": [
            "313/313 [==============================] - 2s 7ms/step - loss: 1.0720 - accuracy: 0.6939\n"
          ]
        },
        {
          "output_type": "execute_result",
          "data": {
            "text/plain": [
              "[1.0719596147537231, 0.6938999891281128]"
            ]
          },
          "metadata": {},
          "execution_count": 15
        }
      ]
    }
  ]
}