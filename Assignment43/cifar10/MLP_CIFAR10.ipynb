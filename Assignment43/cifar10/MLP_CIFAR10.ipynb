{
  "nbformat": 4,
  "nbformat_minor": 0,
  "metadata": {
    "colab": {
      "name": "MLP - CIFAR10.ipynb",
      "provenance": []
    },
    "kernelspec": {
      "name": "python3",
      "display_name": "Python 3"
    },
    "language_info": {
      "name": "python"
    },
    "widgets": {
      "application/vnd.jupyter.widget-state+json": {
        "94fc722ceaa348d2b71deaa6e7274cde": {
          "model_module": "@jupyter-widgets/controls",
          "model_name": "VBoxModel",
          "model_module_version": "1.5.0",
          "state": {
            "_view_name": "VBoxView",
            "_dom_classes": [],
            "_model_name": "VBoxModel",
            "_view_module": "@jupyter-widgets/controls",
            "_model_module_version": "1.5.0",
            "_view_count": null,
            "_view_module_version": "1.5.0",
            "box_style": "",
            "layout": "IPY_MODEL_a51f7aaf7d554c9994892f53ca37683f",
            "_model_module": "@jupyter-widgets/controls",
            "children": [
              "IPY_MODEL_9e61a95f94aa420a8ab6157f88e4f8c3",
              "IPY_MODEL_747c9685ba674a779f911a8bfa7046f0"
            ]
          }
        },
        "a51f7aaf7d554c9994892f53ca37683f": {
          "model_module": "@jupyter-widgets/base",
          "model_name": "LayoutModel",
          "model_module_version": "1.2.0",
          "state": {
            "_view_name": "LayoutView",
            "grid_template_rows": null,
            "right": null,
            "justify_content": null,
            "_view_module": "@jupyter-widgets/base",
            "overflow": null,
            "_model_module_version": "1.2.0",
            "_view_count": null,
            "flex_flow": null,
            "width": null,
            "min_width": null,
            "border": null,
            "align_items": null,
            "bottom": null,
            "_model_module": "@jupyter-widgets/base",
            "top": null,
            "grid_column": null,
            "overflow_y": null,
            "overflow_x": null,
            "grid_auto_flow": null,
            "grid_area": null,
            "grid_template_columns": null,
            "flex": null,
            "_model_name": "LayoutModel",
            "justify_items": null,
            "grid_row": null,
            "max_height": null,
            "align_content": null,
            "visibility": null,
            "align_self": null,
            "height": null,
            "min_height": null,
            "padding": null,
            "grid_auto_rows": null,
            "grid_gap": null,
            "max_width": null,
            "order": null,
            "_view_module_version": "1.2.0",
            "grid_template_areas": null,
            "object_position": null,
            "object_fit": null,
            "grid_auto_columns": null,
            "margin": null,
            "display": null,
            "left": null
          }
        },
        "9e61a95f94aa420a8ab6157f88e4f8c3": {
          "model_module": "@jupyter-widgets/controls",
          "model_name": "LabelModel",
          "model_module_version": "1.5.0",
          "state": {
            "_view_name": "LabelView",
            "style": "IPY_MODEL_7e660c62a3f045bc8c0e11745dfb82b6",
            "_dom_classes": [],
            "description": "",
            "_model_name": "LabelModel",
            "placeholder": "​",
            "_view_module": "@jupyter-widgets/controls",
            "_model_module_version": "1.5.0",
            "value": "4.555 MB of 4.555 MB uploaded (0.000 MB deduped)\r",
            "_view_count": null,
            "_view_module_version": "1.5.0",
            "description_tooltip": null,
            "_model_module": "@jupyter-widgets/controls",
            "layout": "IPY_MODEL_7863f225c664459c9366c66af0c6a792"
          }
        },
        "747c9685ba674a779f911a8bfa7046f0": {
          "model_module": "@jupyter-widgets/controls",
          "model_name": "FloatProgressModel",
          "model_module_version": "1.5.0",
          "state": {
            "_view_name": "ProgressView",
            "style": "IPY_MODEL_d3937b288d6d45f581b41d015c81e4c7",
            "_dom_classes": [],
            "description": "",
            "_model_name": "FloatProgressModel",
            "bar_style": "",
            "max": 1,
            "_view_module": "@jupyter-widgets/controls",
            "_model_module_version": "1.5.0",
            "value": 1,
            "_view_count": null,
            "_view_module_version": "1.5.0",
            "orientation": "horizontal",
            "min": 0,
            "description_tooltip": null,
            "_model_module": "@jupyter-widgets/controls",
            "layout": "IPY_MODEL_c14899177cac4875a9ebdaf7a2172ec2"
          }
        },
        "7e660c62a3f045bc8c0e11745dfb82b6": {
          "model_module": "@jupyter-widgets/controls",
          "model_name": "DescriptionStyleModel",
          "model_module_version": "1.5.0",
          "state": {
            "_view_name": "StyleView",
            "_model_name": "DescriptionStyleModel",
            "description_width": "",
            "_view_module": "@jupyter-widgets/base",
            "_model_module_version": "1.5.0",
            "_view_count": null,
            "_view_module_version": "1.2.0",
            "_model_module": "@jupyter-widgets/controls"
          }
        },
        "7863f225c664459c9366c66af0c6a792": {
          "model_module": "@jupyter-widgets/base",
          "model_name": "LayoutModel",
          "model_module_version": "1.2.0",
          "state": {
            "_view_name": "LayoutView",
            "grid_template_rows": null,
            "right": null,
            "justify_content": null,
            "_view_module": "@jupyter-widgets/base",
            "overflow": null,
            "_model_module_version": "1.2.0",
            "_view_count": null,
            "flex_flow": null,
            "width": null,
            "min_width": null,
            "border": null,
            "align_items": null,
            "bottom": null,
            "_model_module": "@jupyter-widgets/base",
            "top": null,
            "grid_column": null,
            "overflow_y": null,
            "overflow_x": null,
            "grid_auto_flow": null,
            "grid_area": null,
            "grid_template_columns": null,
            "flex": null,
            "_model_name": "LayoutModel",
            "justify_items": null,
            "grid_row": null,
            "max_height": null,
            "align_content": null,
            "visibility": null,
            "align_self": null,
            "height": null,
            "min_height": null,
            "padding": null,
            "grid_auto_rows": null,
            "grid_gap": null,
            "max_width": null,
            "order": null,
            "_view_module_version": "1.2.0",
            "grid_template_areas": null,
            "object_position": null,
            "object_fit": null,
            "grid_auto_columns": null,
            "margin": null,
            "display": null,
            "left": null
          }
        },
        "d3937b288d6d45f581b41d015c81e4c7": {
          "model_module": "@jupyter-widgets/controls",
          "model_name": "ProgressStyleModel",
          "model_module_version": "1.5.0",
          "state": {
            "_view_name": "StyleView",
            "_model_name": "ProgressStyleModel",
            "description_width": "",
            "_view_module": "@jupyter-widgets/base",
            "_model_module_version": "1.5.0",
            "_view_count": null,
            "_view_module_version": "1.2.0",
            "bar_color": null,
            "_model_module": "@jupyter-widgets/controls"
          }
        },
        "c14899177cac4875a9ebdaf7a2172ec2": {
          "model_module": "@jupyter-widgets/base",
          "model_name": "LayoutModel",
          "model_module_version": "1.2.0",
          "state": {
            "_view_name": "LayoutView",
            "grid_template_rows": null,
            "right": null,
            "justify_content": null,
            "_view_module": "@jupyter-widgets/base",
            "overflow": null,
            "_model_module_version": "1.2.0",
            "_view_count": null,
            "flex_flow": null,
            "width": null,
            "min_width": null,
            "border": null,
            "align_items": null,
            "bottom": null,
            "_model_module": "@jupyter-widgets/base",
            "top": null,
            "grid_column": null,
            "overflow_y": null,
            "overflow_x": null,
            "grid_auto_flow": null,
            "grid_area": null,
            "grid_template_columns": null,
            "flex": null,
            "_model_name": "LayoutModel",
            "justify_items": null,
            "grid_row": null,
            "max_height": null,
            "align_content": null,
            "visibility": null,
            "align_self": null,
            "height": null,
            "min_height": null,
            "padding": null,
            "grid_auto_rows": null,
            "grid_gap": null,
            "max_width": null,
            "order": null,
            "_view_module_version": "1.2.0",
            "grid_template_areas": null,
            "object_position": null,
            "object_fit": null,
            "grid_auto_columns": null,
            "margin": null,
            "display": null,
            "left": null
          }
        }
      }
    }
  },
  "cells": [
    {
      "cell_type": "code",
      "execution_count": null,
      "metadata": {
        "id": "h6lPPSrSCbCT"
      },
      "outputs": [],
      "source": [
        "!pip install wandb"
      ]
    },
    {
      "cell_type": "markdown",
      "source": [
        "Libraries"
      ],
      "metadata": {
        "id": "IHjReXRmI2io"
      }
    },
    {
      "cell_type": "code",
      "source": [
        "import tensorflow as tf\n",
        "from tensorflow.keras import layers\n",
        "from sklearn.model_selection import train_test_split\n",
        "import numpy as np\n",
        "import wandb\n",
        "from wandb.keras import WandbCallback"
      ],
      "metadata": {
        "id": "Rr9xwrucIlI7"
      },
      "execution_count": null,
      "outputs": []
    },
    {
      "cell_type": "markdown",
      "source": [
        "Init Wandb"
      ],
      "metadata": {
        "id": "ip5pTkXSJHCA"
      }
    },
    {
      "cell_type": "code",
      "source": [
        "wandb.init(project=\"MLP - CIFAR10\")"
      ],
      "metadata": {
        "colab": {
          "base_uri": "https://localhost:8080/",
          "height": 456,
          "referenced_widgets": [
            "94fc722ceaa348d2b71deaa6e7274cde",
            "a51f7aaf7d554c9994892f53ca37683f",
            "9e61a95f94aa420a8ab6157f88e4f8c3",
            "747c9685ba674a779f911a8bfa7046f0",
            "7e660c62a3f045bc8c0e11745dfb82b6",
            "7863f225c664459c9366c66af0c6a792",
            "d3937b288d6d45f581b41d015c81e4c7",
            "c14899177cac4875a9ebdaf7a2172ec2"
          ]
        },
        "id": "RSYpdJqEI6hP",
        "outputId": "c25ba5fe-c7aa-45a6-a6b1-0254404b467a"
      },
      "execution_count": null,
      "outputs": [
        {
          "output_type": "display_data",
          "data": {
            "text/html": [
              "Finishing last run (ID:1x4flg8s) before initializing another..."
            ],
            "text/plain": [
              "<IPython.core.display.HTML object>"
            ]
          },
          "metadata": {}
        },
        {
          "output_type": "stream",
          "name": "stdout",
          "text": [
            "\n"
          ]
        },
        {
          "output_type": "display_data",
          "data": {
            "text/html": [
              "Waiting for W&B process to finish... <strong style=\"color:green\">(success).</strong>"
            ],
            "text/plain": [
              "<IPython.core.display.HTML object>"
            ]
          },
          "metadata": {}
        },
        {
          "output_type": "display_data",
          "data": {
            "application/vnd.jupyter.widget-view+json": {
              "model_id": "94fc722ceaa348d2b71deaa6e7274cde",
              "version_minor": 0,
              "version_major": 2
            },
            "text/plain": [
              "VBox(children=(Label(value='4.543 MB of 4.543 MB uploaded (0.000 MB deduped)\\r'), FloatProgress(value=1.0, max…"
            ]
          },
          "metadata": {}
        },
        {
          "output_type": "display_data",
          "data": {
            "text/html": [
              "<style>\n",
              "    table.wandb td:nth-child(1) { padding: 0 10px; text-align: right }\n",
              "    .wandb-row { display: flex; flex-direction: row; flex-wrap: wrap; width: 100% }\n",
              "    .wandb-col { display: flex; flex-direction: column; flex-basis: 100%; flex: 1; padding: 10px; }\n",
              "    </style>\n",
              "<div class=\"wandb-row\"><div class=\"wandb-col\"><h3>Run history:</h3><br/><table class=\"wandb\"><tr><td>accuracy</td><td>▁▄▅▆▆▆▇▇▇▇█████</td></tr><tr><td>epoch</td><td>▁▁▂▃▃▃▄▅▅▅▆▇▇▇█</td></tr><tr><td>loss</td><td>█▅▄▃▃▃▂▂▂▂▁▁▁▁▁</td></tr><tr><td>val_accuracy</td><td>▁▄▅▆▅▆▇▇▆▇▇▇██▇</td></tr><tr><td>val_loss</td><td>█▅▄▃▄▃▂▂▃▁▂▁▂▁▂</td></tr></table><br/></div><div class=\"wandb-col\"><h3>Run summary:</h3><br/><table class=\"wandb\"><tr><td>accuracy</td><td>0.4454</td></tr><tr><td>best_epoch</td><td>13</td></tr><tr><td>best_val_loss</td><td>1.61311</td></tr><tr><td>epoch</td><td>14</td></tr><tr><td>loss</td><td>1.56675</td></tr><tr><td>val_accuracy</td><td>0.4108</td></tr><tr><td>val_loss</td><td>1.64813</td></tr></table><br/></div></div>"
            ],
            "text/plain": [
              "<IPython.core.display.HTML object>"
            ]
          },
          "metadata": {}
        },
        {
          "output_type": "display_data",
          "data": {
            "text/html": [
              "Synced <strong style=\"color:#cdcd00\">radiant-gorge-1</strong>: <a href=\"https://wandb.ai/aliyaghoubian/MLP%20-%20CIFAR10/runs/1x4flg8s\" target=\"_blank\">https://wandb.ai/aliyaghoubian/MLP%20-%20CIFAR10/runs/1x4flg8s</a><br/>Synced 5 W&B file(s), 1 media file(s), 0 artifact file(s) and 1 other file(s)"
            ],
            "text/plain": [
              "<IPython.core.display.HTML object>"
            ]
          },
          "metadata": {}
        },
        {
          "output_type": "display_data",
          "data": {
            "text/html": [
              "Find logs at: <code>./wandb/run-20220306_121212-1x4flg8s/logs</code>"
            ],
            "text/plain": [
              "<IPython.core.display.HTML object>"
            ]
          },
          "metadata": {}
        },
        {
          "output_type": "display_data",
          "data": {
            "text/html": [
              "Successfully finished last run (ID:1x4flg8s). Initializing new run:<br/>"
            ],
            "text/plain": [
              "<IPython.core.display.HTML object>"
            ]
          },
          "metadata": {}
        },
        {
          "output_type": "display_data",
          "data": {
            "text/html": [
              "Tracking run with wandb version 0.12.11"
            ],
            "text/plain": [
              "<IPython.core.display.HTML object>"
            ]
          },
          "metadata": {}
        },
        {
          "output_type": "display_data",
          "data": {
            "text/html": [
              "Run data is saved locally in <code>/content/wandb/run-20220306_122436-1qpc04ud</code>"
            ],
            "text/plain": [
              "<IPython.core.display.HTML object>"
            ]
          },
          "metadata": {}
        },
        {
          "output_type": "display_data",
          "data": {
            "text/html": [
              "Syncing run <strong><a href=\"https://wandb.ai/aliyaghoubian/MLP%20-%20CIFAR10/runs/1qpc04ud\" target=\"_blank\">stellar-haze-2</a></strong> to <a href=\"https://wandb.ai/aliyaghoubian/MLP%20-%20CIFAR10\" target=\"_blank\">Weights & Biases</a> (<a href=\"https://wandb.me/run\" target=\"_blank\">docs</a>)<br/>"
            ],
            "text/plain": [
              "<IPython.core.display.HTML object>"
            ]
          },
          "metadata": {}
        },
        {
          "output_type": "execute_result",
          "data": {
            "text/plain": [
              "<wandb.sdk.wandb_run.Run at 0x7f7641aacf50>"
            ],
            "text/html": [
              "<button onClick=\"this.nextSibling.style.display='block';this.style.display='none';\">Display W&B run</button><iframe src=\"https://wandb.ai/aliyaghoubian/MLP%20-%20CIFAR10/runs/1qpc04ud?jupyter=true\" style=\"border:none;width:100%;height:420px;display:none;\"></iframe>"
            ]
          },
          "metadata": {},
          "execution_count": 14
        }
      ]
    },
    {
      "cell_type": "code",
      "source": [
        "config = wandb.config\n",
        "config.learning_rate = 0.001"
      ],
      "metadata": {
        "id": "ONicyHvpJNeo"
      },
      "execution_count": null,
      "outputs": []
    },
    {
      "cell_type": "markdown",
      "source": [
        "Dataset"
      ],
      "metadata": {
        "id": "byDn9_t7Jkui"
      }
    },
    {
      "cell_type": "code",
      "source": [
        "cifar10 = tf.keras.datasets.cifar10\n",
        "(X_train, Y_train), (X_test, Y_test) = cifar10.load_data()\n",
        "\n",
        "X_train, X_val, Y_train, Y_val = train_test_split(X_train, Y_train, test_size=0.1, random_state=33)\n",
        "\n",
        "X_train, X_test, X_val = X_train / 255.0, X_test / 255.0, X_val / 255.0\n",
        "print(X_train.shape, X_val.shape, X_test.shape)"
      ],
      "metadata": {
        "colab": {
          "base_uri": "https://localhost:8080/"
        },
        "id": "Lgzpb9LIJgl3",
        "outputId": "3ecc70b7-3a5b-4c97-8f78-e1cc4fe85d39"
      },
      "execution_count": null,
      "outputs": [
        {
          "output_type": "stream",
          "name": "stdout",
          "text": [
            "Downloading data from https://www.cs.toronto.edu/~kriz/cifar-10-python.tar.gz\n",
            "170500096/170498071 [==============================] - 2s 0us/step\n",
            "170508288/170498071 [==============================] - 2s 0us/step\n",
            "(45000, 32, 32, 3) (5000, 32, 32, 3) (10000, 32, 32, 3)\n"
          ]
        }
      ]
    },
    {
      "cell_type": "markdown",
      "source": [
        "Model"
      ],
      "metadata": {
        "id": "ny7xFVSqJ4mX"
      }
    },
    {
      "cell_type": "code",
      "source": [
        "model = tf.keras.models.Sequential([\n",
        "    layers.Flatten(input_shape=(32, 32, 3)),\n",
        "    layers.Dense(128, activation=\"relu\"),\n",
        "    layers.Dense(10, activation=\"softmax\")\n",
        "])"
      ],
      "metadata": {
        "id": "UHN5pZexJzKX"
      },
      "execution_count": null,
      "outputs": []
    },
    {
      "cell_type": "markdown",
      "source": [
        "Summary"
      ],
      "metadata": {
        "id": "N4OgH4ExKCT6"
      }
    },
    {
      "cell_type": "code",
      "source": [
        "model.summary()"
      ],
      "metadata": {
        "colab": {
          "base_uri": "https://localhost:8080/"
        },
        "id": "EDptLd1bJ7k_",
        "outputId": "27111254-a720-43e6-be9f-534d66854906"
      },
      "execution_count": null,
      "outputs": [
        {
          "output_type": "stream",
          "name": "stdout",
          "text": [
            "Model: \"sequential_1\"\n",
            "_________________________________________________________________\n",
            " Layer (type)                Output Shape              Param #   \n",
            "=================================================================\n",
            " flatten_1 (Flatten)         (None, 3072)              0         \n",
            "                                                                 \n",
            " dense_2 (Dense)             (None, 128)               393344    \n",
            "                                                                 \n",
            " dense_3 (Dense)             (None, 10)                1290      \n",
            "                                                                 \n",
            "=================================================================\n",
            "Total params: 394,634\n",
            "Trainable params: 394,634\n",
            "Non-trainable params: 0\n",
            "_________________________________________________________________\n"
          ]
        }
      ]
    },
    {
      "cell_type": "markdown",
      "source": [
        "Compile"
      ],
      "metadata": {
        "id": "4Jjhp9WsKKri"
      }
    },
    {
      "cell_type": "code",
      "source": [
        "model.compile(optimizer=tf.keras.optimizers.Adam(learning_rate=config.learning_rate),\n",
        "              loss=tf.keras.losses.sparse_categorical_crossentropy,\n",
        "              metrics=[\"accuracy\"])"
      ],
      "metadata": {
        "id": "ZAwcRHlTKEH4"
      },
      "execution_count": null,
      "outputs": []
    },
    {
      "cell_type": "markdown",
      "source": [
        "Train"
      ],
      "metadata": {
        "id": "smlIB562KNif"
      }
    },
    {
      "cell_type": "code",
      "source": [
        "model.fit(X_train, Y_train, epochs=15, validation_data=(X_val, Y_val), callbacks=[WandbCallback()])"
      ],
      "metadata": {
        "colab": {
          "base_uri": "https://localhost:8080/"
        },
        "id": "_n9XvXyTKMcY",
        "outputId": "d9a691bb-16af-4afb-b36f-0049522e0253"
      },
      "execution_count": null,
      "outputs": [
        {
          "output_type": "stream",
          "name": "stdout",
          "text": [
            "Epoch 1/15\n",
            "1407/1407 [==============================] - 11s 7ms/step - loss: 1.9315 - accuracy: 0.3078 - val_loss: 1.8559 - val_accuracy: 0.3382 - _timestamp: 1646569245.0000 - _runtime: 513.0000\n",
            "Epoch 2/15\n",
            "1407/1407 [==============================] - 8s 6ms/step - loss: 1.7811 - accuracy: 0.3688 - val_loss: 1.7611 - val_accuracy: 0.3772 - _timestamp: 1646569253.0000 - _runtime: 521.0000\n",
            "Epoch 3/15\n",
            "1407/1407 [==============================] - 9s 6ms/step - loss: 1.7211 - accuracy: 0.3914 - val_loss: 1.7194 - val_accuracy: 0.3964 - _timestamp: 1646569262.0000 - _runtime: 530.0000\n",
            "Epoch 4/15\n",
            "1407/1407 [==============================] - 13s 9ms/step - loss: 1.6825 - accuracy: 0.4032 - val_loss: 1.6769 - val_accuracy: 0.4090 - _timestamp: 1646569274.0000 - _runtime: 542.0000\n",
            "Epoch 5/15\n",
            "1407/1407 [==============================] - 9s 6ms/step - loss: 1.6621 - accuracy: 0.4121 - val_loss: 1.7094 - val_accuracy: 0.3848 - _timestamp: 1646569283.0000 - _runtime: 551.0000\n",
            "Epoch 6/15\n",
            "1407/1407 [==============================] - 8s 6ms/step - loss: 1.6459 - accuracy: 0.4148 - val_loss: 1.6898 - val_accuracy: 0.3996 - _timestamp: 1646569291.0000 - _runtime: 559.0000\n",
            "Epoch 7/15\n",
            "1407/1407 [==============================] - 8s 6ms/step - loss: 1.6327 - accuracy: 0.4225 - val_loss: 1.6570 - val_accuracy: 0.4200 - _timestamp: 1646569299.0000 - _runtime: 567.0000\n",
            "Epoch 8/15\n",
            "1407/1407 [==============================] - 8s 6ms/step - loss: 1.6179 - accuracy: 0.4278 - val_loss: 1.6635 - val_accuracy: 0.4180 - _timestamp: 1646569307.0000 - _runtime: 575.0000\n",
            "Epoch 9/15\n",
            "1407/1407 [==============================] - 8s 6ms/step - loss: 1.6090 - accuracy: 0.4300 - val_loss: 1.6807 - val_accuracy: 0.3994 - _timestamp: 1646569316.0000 - _runtime: 584.0000\n",
            "Epoch 10/15\n",
            "1407/1407 [==============================] - 8s 6ms/step - loss: 1.5984 - accuracy: 0.4342 - val_loss: 1.6249 - val_accuracy: 0.4214 - _timestamp: 1646569324.0000 - _runtime: 592.0000\n",
            "Epoch 11/15\n",
            "1407/1407 [==============================] - 8s 6ms/step - loss: 1.5923 - accuracy: 0.4387 - val_loss: 1.6369 - val_accuracy: 0.4174 - _timestamp: 1646569332.0000 - _runtime: 600.0000\n",
            "Epoch 12/15\n",
            "1407/1407 [==============================] - 8s 6ms/step - loss: 1.5831 - accuracy: 0.4387 - val_loss: 1.6262 - val_accuracy: 0.4216 - _timestamp: 1646569340.0000 - _runtime: 608.0000\n",
            "Epoch 13/15\n",
            "1407/1407 [==============================] - 8s 5ms/step - loss: 1.5777 - accuracy: 0.4404 - val_loss: 1.6349 - val_accuracy: 0.4246 - _timestamp: 1646569347.0000 - _runtime: 615.0000\n",
            "Epoch 14/15\n",
            "1407/1407 [==============================] - 8s 6ms/step - loss: 1.5705 - accuracy: 0.4452 - val_loss: 1.6131 - val_accuracy: 0.4304 - _timestamp: 1646569356.0000 - _runtime: 624.0000\n",
            "Epoch 15/15\n",
            "1407/1407 [==============================] - 8s 6ms/step - loss: 1.5667 - accuracy: 0.4454 - val_loss: 1.6481 - val_accuracy: 0.4108 - _timestamp: 1646569364.0000 - _runtime: 632.0000\n"
          ]
        },
        {
          "output_type": "execute_result",
          "data": {
            "text/plain": [
              "<keras.callbacks.History at 0x7f7646289e50>"
            ]
          },
          "metadata": {},
          "execution_count": 12
        }
      ]
    },
    {
      "cell_type": "markdown",
      "source": [
        "Evaluate"
      ],
      "metadata": {
        "id": "kaeKqYPrLPHI"
      }
    },
    {
      "cell_type": "code",
      "source": [
        "model.evaluate(X_test, Y_test)"
      ],
      "metadata": {
        "colab": {
          "base_uri": "https://localhost:8080/"
        },
        "id": "dpS4M-KNLJWH",
        "outputId": "2d13027b-e213-4d89-d110-a650fe30f0c3"
      },
      "execution_count": null,
      "outputs": [
        {
          "output_type": "stream",
          "name": "stdout",
          "text": [
            "313/313 [==============================] - 1s 4ms/step - loss: 1.6242 - accuracy: 0.4210\n"
          ]
        },
        {
          "output_type": "execute_result",
          "data": {
            "text/plain": [
              "[1.6241511106491089, 0.42100000381469727]"
            ]
          },
          "metadata": {},
          "execution_count": 13
        }
      ]
    }
  ]
}