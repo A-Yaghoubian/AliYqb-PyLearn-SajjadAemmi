{
  "nbformat": 4,
  "nbformat_minor": 0,
  "metadata": {
    "colab": {
      "name": "MLP - FashionMnist.ipynb",
      "provenance": []
    },
    "kernelspec": {
      "name": "python3",
      "display_name": "Python 3"
    },
    "language_info": {
      "name": "python"
    },
    "widgets": {
      "application/vnd.jupyter.widget-state+json": {
        "c21b6c8a9add43c98acff59c06b0c367": {
          "model_module": "@jupyter-widgets/controls",
          "model_name": "VBoxModel",
          "model_module_version": "1.5.0",
          "state": {
            "_view_name": "VBoxView",
            "_dom_classes": [],
            "_model_name": "VBoxModel",
            "_view_module": "@jupyter-widgets/controls",
            "_model_module_version": "1.5.0",
            "_view_count": null,
            "_view_module_version": "1.5.0",
            "box_style": "",
            "layout": "IPY_MODEL_475c512d63654a869d29a7bed804efe6",
            "_model_module": "@jupyter-widgets/controls",
            "children": [
              "IPY_MODEL_07a3ab6129fa425d96e3ce99a3186979",
              "IPY_MODEL_59796f083dec4121b72daee4823114ad"
            ]
          }
        },
        "475c512d63654a869d29a7bed804efe6": {
          "model_module": "@jupyter-widgets/base",
          "model_name": "LayoutModel",
          "model_module_version": "1.2.0",
          "state": {
            "_view_name": "LayoutView",
            "grid_template_rows": null,
            "right": null,
            "justify_content": null,
            "_view_module": "@jupyter-widgets/base",
            "overflow": null,
            "_model_module_version": "1.2.0",
            "_view_count": null,
            "flex_flow": null,
            "width": null,
            "min_width": null,
            "border": null,
            "align_items": null,
            "bottom": null,
            "_model_module": "@jupyter-widgets/base",
            "top": null,
            "grid_column": null,
            "overflow_y": null,
            "overflow_x": null,
            "grid_auto_flow": null,
            "grid_area": null,
            "grid_template_columns": null,
            "flex": null,
            "_model_name": "LayoutModel",
            "justify_items": null,
            "grid_row": null,
            "max_height": null,
            "align_content": null,
            "visibility": null,
            "align_self": null,
            "height": null,
            "min_height": null,
            "padding": null,
            "grid_auto_rows": null,
            "grid_gap": null,
            "max_width": null,
            "order": null,
            "_view_module_version": "1.2.0",
            "grid_template_areas": null,
            "object_position": null,
            "object_fit": null,
            "grid_auto_columns": null,
            "margin": null,
            "display": null,
            "left": null
          }
        },
        "07a3ab6129fa425d96e3ce99a3186979": {
          "model_module": "@jupyter-widgets/controls",
          "model_name": "LabelModel",
          "model_module_version": "1.5.0",
          "state": {
            "_view_name": "LabelView",
            "style": "IPY_MODEL_ab9edbf4ae934e0cb3ba617cf606389b",
            "_dom_classes": [],
            "description": "",
            "_model_name": "LabelModel",
            "placeholder": "​",
            "_view_module": "@jupyter-widgets/controls",
            "_model_module_version": "1.5.0",
            "value": "1.203 MB of 1.203 MB uploaded (0.000 MB deduped)\r",
            "_view_count": null,
            "_view_module_version": "1.5.0",
            "description_tooltip": null,
            "_model_module": "@jupyter-widgets/controls",
            "layout": "IPY_MODEL_875d634b7f494c8b9512727578537f51"
          }
        },
        "59796f083dec4121b72daee4823114ad": {
          "model_module": "@jupyter-widgets/controls",
          "model_name": "FloatProgressModel",
          "model_module_version": "1.5.0",
          "state": {
            "_view_name": "ProgressView",
            "style": "IPY_MODEL_6359f5d66d954a62b129cd97f0ef38b3",
            "_dom_classes": [],
            "description": "",
            "_model_name": "FloatProgressModel",
            "bar_style": "",
            "max": 1,
            "_view_module": "@jupyter-widgets/controls",
            "_model_module_version": "1.5.0",
            "value": 1,
            "_view_count": null,
            "_view_module_version": "1.5.0",
            "orientation": "horizontal",
            "min": 0,
            "description_tooltip": null,
            "_model_module": "@jupyter-widgets/controls",
            "layout": "IPY_MODEL_6bfd926c06304698baa148cf4e6b9369"
          }
        },
        "ab9edbf4ae934e0cb3ba617cf606389b": {
          "model_module": "@jupyter-widgets/controls",
          "model_name": "DescriptionStyleModel",
          "model_module_version": "1.5.0",
          "state": {
            "_view_name": "StyleView",
            "_model_name": "DescriptionStyleModel",
            "description_width": "",
            "_view_module": "@jupyter-widgets/base",
            "_model_module_version": "1.5.0",
            "_view_count": null,
            "_view_module_version": "1.2.0",
            "_model_module": "@jupyter-widgets/controls"
          }
        },
        "875d634b7f494c8b9512727578537f51": {
          "model_module": "@jupyter-widgets/base",
          "model_name": "LayoutModel",
          "model_module_version": "1.2.0",
          "state": {
            "_view_name": "LayoutView",
            "grid_template_rows": null,
            "right": null,
            "justify_content": null,
            "_view_module": "@jupyter-widgets/base",
            "overflow": null,
            "_model_module_version": "1.2.0",
            "_view_count": null,
            "flex_flow": null,
            "width": null,
            "min_width": null,
            "border": null,
            "align_items": null,
            "bottom": null,
            "_model_module": "@jupyter-widgets/base",
            "top": null,
            "grid_column": null,
            "overflow_y": null,
            "overflow_x": null,
            "grid_auto_flow": null,
            "grid_area": null,
            "grid_template_columns": null,
            "flex": null,
            "_model_name": "LayoutModel",
            "justify_items": null,
            "grid_row": null,
            "max_height": null,
            "align_content": null,
            "visibility": null,
            "align_self": null,
            "height": null,
            "min_height": null,
            "padding": null,
            "grid_auto_rows": null,
            "grid_gap": null,
            "max_width": null,
            "order": null,
            "_view_module_version": "1.2.0",
            "grid_template_areas": null,
            "object_position": null,
            "object_fit": null,
            "grid_auto_columns": null,
            "margin": null,
            "display": null,
            "left": null
          }
        },
        "6359f5d66d954a62b129cd97f0ef38b3": {
          "model_module": "@jupyter-widgets/controls",
          "model_name": "ProgressStyleModel",
          "model_module_version": "1.5.0",
          "state": {
            "_view_name": "StyleView",
            "_model_name": "ProgressStyleModel",
            "description_width": "",
            "_view_module": "@jupyter-widgets/base",
            "_model_module_version": "1.5.0",
            "_view_count": null,
            "_view_module_version": "1.2.0",
            "bar_color": null,
            "_model_module": "@jupyter-widgets/controls"
          }
        },
        "6bfd926c06304698baa148cf4e6b9369": {
          "model_module": "@jupyter-widgets/base",
          "model_name": "LayoutModel",
          "model_module_version": "1.2.0",
          "state": {
            "_view_name": "LayoutView",
            "grid_template_rows": null,
            "right": null,
            "justify_content": null,
            "_view_module": "@jupyter-widgets/base",
            "overflow": null,
            "_model_module_version": "1.2.0",
            "_view_count": null,
            "flex_flow": null,
            "width": null,
            "min_width": null,
            "border": null,
            "align_items": null,
            "bottom": null,
            "_model_module": "@jupyter-widgets/base",
            "top": null,
            "grid_column": null,
            "overflow_y": null,
            "overflow_x": null,
            "grid_auto_flow": null,
            "grid_area": null,
            "grid_template_columns": null,
            "flex": null,
            "_model_name": "LayoutModel",
            "justify_items": null,
            "grid_row": null,
            "max_height": null,
            "align_content": null,
            "visibility": null,
            "align_self": null,
            "height": null,
            "min_height": null,
            "padding": null,
            "grid_auto_rows": null,
            "grid_gap": null,
            "max_width": null,
            "order": null,
            "_view_module_version": "1.2.0",
            "grid_template_areas": null,
            "object_position": null,
            "object_fit": null,
            "grid_auto_columns": null,
            "margin": null,
            "display": null,
            "left": null
          }
        }
      }
    }
  },
  "cells": [
    {
      "cell_type": "code",
      "execution_count": null,
      "metadata": {
        "id": "uKggBTJB6AaW"
      },
      "outputs": [],
      "source": [
        "!pip install wandb"
      ]
    },
    {
      "cell_type": "markdown",
      "source": [
        "Libraries"
      ],
      "metadata": {
        "id": "Z2Epuz8R6isV"
      }
    },
    {
      "cell_type": "code",
      "source": [
        "import tensorflow as tf\n",
        "from tensorflow.keras import layers\n",
        "from sklearn.model_selection import train_test_split\n",
        "import numpy as np\n",
        "import wandb\n",
        "from wandb.keras import WandbCallback"
      ],
      "metadata": {
        "id": "EPYxeclV6gvG"
      },
      "execution_count": null,
      "outputs": []
    },
    {
      "cell_type": "markdown",
      "source": [
        "Init Wandb"
      ],
      "metadata": {
        "id": "m1Rk__YE7JrN"
      }
    },
    {
      "cell_type": "code",
      "source": [
        "wandb.init(project=\"MLP - FashionMnist\")"
      ],
      "metadata": {
        "colab": {
          "base_uri": "https://localhost:8080/",
          "height": 456,
          "referenced_widgets": [
            "c21b6c8a9add43c98acff59c06b0c367",
            "475c512d63654a869d29a7bed804efe6",
            "07a3ab6129fa425d96e3ce99a3186979",
            "59796f083dec4121b72daee4823114ad",
            "ab9edbf4ae934e0cb3ba617cf606389b",
            "875d634b7f494c8b9512727578537f51",
            "6359f5d66d954a62b129cd97f0ef38b3",
            "6bfd926c06304698baa148cf4e6b9369"
          ]
        },
        "id": "Cri_CeqG6mQs",
        "outputId": "f8ad13d7-ad7c-462b-9940-b902def1beb6"
      },
      "execution_count": null,
      "outputs": [
        {
          "output_type": "display_data",
          "data": {
            "text/html": [
              "Finishing last run (ID:23altdsy) before initializing another..."
            ],
            "text/plain": [
              "<IPython.core.display.HTML object>"
            ]
          },
          "metadata": {}
        },
        {
          "output_type": "stream",
          "name": "stdout",
          "text": [
            "\n"
          ]
        },
        {
          "output_type": "display_data",
          "data": {
            "text/html": [
              "Waiting for W&B process to finish... <strong style=\"color:green\">(success).</strong>"
            ],
            "text/plain": [
              "<IPython.core.display.HTML object>"
            ]
          },
          "metadata": {}
        },
        {
          "output_type": "display_data",
          "data": {
            "application/vnd.jupyter.widget-view+json": {
              "model_id": "c21b6c8a9add43c98acff59c06b0c367",
              "version_minor": 0,
              "version_major": 2
            },
            "text/plain": [
              "VBox(children=(Label(value='1.192 MB of 1.192 MB uploaded (0.000 MB deduped)\\r'), FloatProgress(value=1.0, max…"
            ]
          },
          "metadata": {}
        },
        {
          "output_type": "display_data",
          "data": {
            "text/html": [
              "<style>\n",
              "    table.wandb td:nth-child(1) { padding: 0 10px; text-align: right }\n",
              "    .wandb-row { display: flex; flex-direction: row; flex-wrap: wrap; width: 100% }\n",
              "    .wandb-col { display: flex; flex-direction: column; flex-basis: 100%; flex: 1; padding: 10px; }\n",
              "    </style>\n",
              "<div class=\"wandb-row\"><div class=\"wandb-col\"><h3>Run history:</h3><br/><table class=\"wandb\"><tr><td>accuracy</td><td>▁▄▅▅▆▆▆▇▇▇▇▇███</td></tr><tr><td>epoch</td><td>▁▁▂▃▃▃▄▅▅▅▆▇▇▇█</td></tr><tr><td>loss</td><td>█▅▄▄▃▃▂▂▂▂▂▁▁▁▁</td></tr><tr><td>val_accuracy</td><td>▁▁▄▅▆▆▇▇▇▆█▇███</td></tr><tr><td>val_loss</td><td>█▇▄▄▂▂▂▁▁▃▁▁▁▃▂</td></tr></table><br/></div><div class=\"wandb-col\"><h3>Run summary:</h3><br/><table class=\"wandb\"><tr><td>accuracy</td><td>0.92233</td></tr><tr><td>best_epoch</td><td>10</td></tr><tr><td>best_val_loss</td><td>0.32908</td></tr><tr><td>epoch</td><td>14</td></tr><tr><td>loss</td><td>0.20918</td></tr><tr><td>val_accuracy</td><td>0.88417</td></tr><tr><td>val_loss</td><td>0.34308</td></tr></table><br/></div></div>"
            ],
            "text/plain": [
              "<IPython.core.display.HTML object>"
            ]
          },
          "metadata": {}
        },
        {
          "output_type": "display_data",
          "data": {
            "text/html": [
              "Synced <strong style=\"color:#cdcd00\">toasty-dust-2</strong>: <a href=\"https://wandb.ai/aliyaghoubian/MLP%20-%20FashionMnist/runs/23altdsy\" target=\"_blank\">https://wandb.ai/aliyaghoubian/MLP%20-%20FashionMnist/runs/23altdsy</a><br/>Synced 5 W&B file(s), 1 media file(s), 0 artifact file(s) and 1 other file(s)"
            ],
            "text/plain": [
              "<IPython.core.display.HTML object>"
            ]
          },
          "metadata": {}
        },
        {
          "output_type": "display_data",
          "data": {
            "text/html": [
              "Find logs at: <code>./wandb/run-20220306_071056-23altdsy/logs</code>"
            ],
            "text/plain": [
              "<IPython.core.display.HTML object>"
            ]
          },
          "metadata": {}
        },
        {
          "output_type": "display_data",
          "data": {
            "text/html": [
              "Successfully finished last run (ID:23altdsy). Initializing new run:<br/>"
            ],
            "text/plain": [
              "<IPython.core.display.HTML object>"
            ]
          },
          "metadata": {}
        },
        {
          "output_type": "display_data",
          "data": {
            "text/html": [
              "Tracking run with wandb version 0.12.11"
            ],
            "text/plain": [
              "<IPython.core.display.HTML object>"
            ]
          },
          "metadata": {}
        },
        {
          "output_type": "display_data",
          "data": {
            "text/html": [
              "Run data is saved locally in <code>/content/wandb/run-20220306_071929-3apfc1ty</code>"
            ],
            "text/plain": [
              "<IPython.core.display.HTML object>"
            ]
          },
          "metadata": {}
        },
        {
          "output_type": "display_data",
          "data": {
            "text/html": [
              "Syncing run <strong><a href=\"https://wandb.ai/aliyaghoubian/MLP%20-%20FashionMnist/runs/3apfc1ty\" target=\"_blank\">fresh-music-3</a></strong> to <a href=\"https://wandb.ai/aliyaghoubian/MLP%20-%20FashionMnist\" target=\"_blank\">Weights & Biases</a> (<a href=\"https://wandb.me/run\" target=\"_blank\">docs</a>)<br/>"
            ],
            "text/plain": [
              "<IPython.core.display.HTML object>"
            ]
          },
          "metadata": {}
        },
        {
          "output_type": "execute_result",
          "data": {
            "text/plain": [
              "<wandb.sdk.wandb_run.Run at 0x7f76f370da50>"
            ],
            "text/html": [
              "<button onClick=\"this.nextSibling.style.display='block';this.style.display='none';\">Display W&B run</button><iframe src=\"https://wandb.ai/aliyaghoubian/MLP%20-%20FashionMnist/runs/3apfc1ty?jupyter=true\" style=\"border:none;width:100%;height:420px;display:none;\"></iframe>"
            ]
          },
          "metadata": {},
          "execution_count": 17
        }
      ]
    },
    {
      "cell_type": "code",
      "source": [
        "config = wandb.config\n",
        "config.learning_rate = 0.001"
      ],
      "metadata": {
        "id": "0AnHfrO-7SNj"
      },
      "execution_count": null,
      "outputs": []
    },
    {
      "cell_type": "markdown",
      "source": [
        "Dataset"
      ],
      "metadata": {
        "id": "3Vj05-2E7rDu"
      }
    },
    {
      "cell_type": "code",
      "source": [
        "fashionMnist = tf.keras.datasets.fashion_mnist\n",
        "(X_train, Y_train), (X_test, Y_test) = fashionMnist.load_data()\n",
        "\n",
        "X_train, X_val, Y_train, Y_val = train_test_split(X_train, Y_train, test_size=0.1, random_state=33)\n",
        "\n",
        "X_train, X_test, X_val = X_train / 255.0, X_test / 255.0, X_val / 255.0\n",
        "print(X_train.shape, X_val.shape, X_test.shape)"
      ],
      "metadata": {
        "id": "8qaVu9vq7eX7"
      },
      "execution_count": null,
      "outputs": []
    },
    {
      "cell_type": "markdown",
      "source": [
        "Model"
      ],
      "metadata": {
        "id": "wxLbVglF7_Hb"
      }
    },
    {
      "cell_type": "code",
      "source": [
        "model = tf.keras.models.Sequential([\n",
        "    layers.Flatten(input_shape=(28, 28)),\n",
        "    layers.Dense(128, activation=\"relu\"),\n",
        "    layers.Dense(10, activation=\"softmax\")\n",
        "])"
      ],
      "metadata": {
        "id": "Ww4QXA-L72Sb"
      },
      "execution_count": null,
      "outputs": []
    },
    {
      "cell_type": "markdown",
      "source": [
        "Summary"
      ],
      "metadata": {
        "id": "VnR31LQJ8kOL"
      }
    },
    {
      "cell_type": "code",
      "source": [
        "model.summary()"
      ],
      "metadata": {
        "colab": {
          "base_uri": "https://localhost:8080/"
        },
        "id": "Q4DF_EZ38jxr",
        "outputId": "e4c2540e-a29c-4aa7-b15f-53061c8bf6e7"
      },
      "execution_count": null,
      "outputs": [
        {
          "output_type": "stream",
          "name": "stdout",
          "text": [
            "Model: \"sequential_1\"\n",
            "_________________________________________________________________\n",
            " Layer (type)                Output Shape              Param #   \n",
            "=================================================================\n",
            " flatten_1 (Flatten)         (None, 784)               0         \n",
            "                                                                 \n",
            " dense_2 (Dense)             (None, 128)               100480    \n",
            "                                                                 \n",
            " dense_3 (Dense)             (None, 10)                1290      \n",
            "                                                                 \n",
            "=================================================================\n",
            "Total params: 101,770\n",
            "Trainable params: 101,770\n",
            "Non-trainable params: 0\n",
            "_________________________________________________________________\n"
          ]
        }
      ]
    },
    {
      "cell_type": "markdown",
      "source": [
        "Compile"
      ],
      "metadata": {
        "id": "8xKgmlXb9W2M"
      }
    },
    {
      "cell_type": "code",
      "source": [
        "model.compile(optimizer=tf.keras.optimizers.Adam(learning_rate=config.learning_rate),\n",
        "              loss=tf.keras.losses.sparse_categorical_crossentropy,\n",
        "              metrics=[\"accuracy\"])"
      ],
      "metadata": {
        "id": "FHykqJzY8ooj"
      },
      "execution_count": null,
      "outputs": []
    },
    {
      "cell_type": "markdown",
      "source": [
        "Train"
      ],
      "metadata": {
        "id": "_QB-VVEH9ZZD"
      }
    },
    {
      "cell_type": "code",
      "source": [
        "model.fit(X_train, Y_train, epochs=15, validation_data=(X_val, Y_val), callbacks=[WandbCallback()])"
      ],
      "metadata": {
        "colab": {
          "base_uri": "https://localhost:8080/"
        },
        "id": "GGXwWCeo9YLs",
        "outputId": "6fb42d78-dbe3-41e8-e82d-d2fa5a1b5fcf"
      },
      "execution_count": null,
      "outputs": [
        {
          "output_type": "stream",
          "name": "stdout",
          "text": [
            "Epoch 1/15\n",
            "   1/1688 [..............................] - ETA: 7:09 - loss: 2.3106 - accuracy: 0.3125WARNING:tensorflow:Callback method `on_train_batch_end` is slow compared to the batch time (batch time: 0.0016s vs `on_train_batch_end` time: 0.0018s). Check your callbacks.\n",
            "1688/1688 [==============================] - 4s 2ms/step - loss: 0.5080 - accuracy: 0.8216 - val_loss: 0.4465 - val_accuracy: 0.8412 - _timestamp: 1646550919.0000 - _runtime: 258.0000\n",
            "Epoch 2/15\n",
            "1688/1688 [==============================] - 4s 2ms/step - loss: 0.3809 - accuracy: 0.8638 - val_loss: 0.4366 - val_accuracy: 0.8422 - _timestamp: 1646550923.0000 - _runtime: 262.0000\n",
            "Epoch 3/15\n",
            "1688/1688 [==============================] - 3s 2ms/step - loss: 0.3415 - accuracy: 0.8775 - val_loss: 0.3781 - val_accuracy: 0.8603 - _timestamp: 1646550926.0000 - _runtime: 265.0000\n",
            "Epoch 4/15\n",
            "1688/1688 [==============================] - 4s 2ms/step - loss: 0.3186 - accuracy: 0.8823 - val_loss: 0.3719 - val_accuracy: 0.8638 - _timestamp: 1646550930.0000 - _runtime: 269.0000\n",
            "Epoch 5/15\n",
            "1688/1688 [==============================] - 3s 2ms/step - loss: 0.2990 - accuracy: 0.8893 - val_loss: 0.3409 - val_accuracy: 0.8743 - _timestamp: 1646550933.0000 - _runtime: 272.0000\n",
            "Epoch 6/15\n",
            "1688/1688 [==============================] - 3s 2ms/step - loss: 0.2861 - accuracy: 0.8936 - val_loss: 0.3481 - val_accuracy: 0.8717 - _timestamp: 1646550936.0000 - _runtime: 275.0000\n",
            "Epoch 7/15\n",
            "1688/1688 [==============================] - 3s 2ms/step - loss: 0.2723 - accuracy: 0.8985 - val_loss: 0.3398 - val_accuracy: 0.8778 - _timestamp: 1646550940.0000 - _runtime: 279.0000\n",
            "Epoch 8/15\n",
            "1688/1688 [==============================] - 3s 2ms/step - loss: 0.2634 - accuracy: 0.9029 - val_loss: 0.3335 - val_accuracy: 0.8798 - _timestamp: 1646550943.0000 - _runtime: 282.0000\n",
            "Epoch 9/15\n",
            "1688/1688 [==============================] - 3s 2ms/step - loss: 0.2506 - accuracy: 0.9085 - val_loss: 0.3297 - val_accuracy: 0.8793 - _timestamp: 1646550946.0000 - _runtime: 285.0000\n",
            "Epoch 10/15\n",
            "1688/1688 [==============================] - 3s 2ms/step - loss: 0.2428 - accuracy: 0.9094 - val_loss: 0.3565 - val_accuracy: 0.8738 - _timestamp: 1646550949.0000 - _runtime: 288.0000\n",
            "Epoch 11/15\n",
            "1688/1688 [==============================] - 3s 2ms/step - loss: 0.2369 - accuracy: 0.9116 - val_loss: 0.3291 - val_accuracy: 0.8848 - _timestamp: 1646550952.0000 - _runtime: 291.0000\n",
            "Epoch 12/15\n",
            "1688/1688 [==============================] - 3s 2ms/step - loss: 0.2264 - accuracy: 0.9139 - val_loss: 0.3322 - val_accuracy: 0.8812 - _timestamp: 1646550956.0000 - _runtime: 295.0000\n",
            "Epoch 13/15\n",
            "1688/1688 [==============================] - 3s 2ms/step - loss: 0.2200 - accuracy: 0.9175 - val_loss: 0.3312 - val_accuracy: 0.8857 - _timestamp: 1646550959.0000 - _runtime: 298.0000\n",
            "Epoch 14/15\n",
            "1688/1688 [==============================] - 3s 2ms/step - loss: 0.2137 - accuracy: 0.9207 - val_loss: 0.3596 - val_accuracy: 0.8842 - _timestamp: 1646550962.0000 - _runtime: 301.0000\n",
            "Epoch 15/15\n",
            "1688/1688 [==============================] - 3s 2ms/step - loss: 0.2092 - accuracy: 0.9223 - val_loss: 0.3431 - val_accuracy: 0.8842 - _timestamp: 1646550966.0000 - _runtime: 305.0000\n"
          ]
        },
        {
          "output_type": "execute_result",
          "data": {
            "text/plain": [
              "<keras.callbacks.History at 0x7f76f3740550>"
            ]
          },
          "metadata": {},
          "execution_count": 15
        }
      ]
    },
    {
      "cell_type": "markdown",
      "source": [
        "Test"
      ],
      "metadata": {
        "id": "9M1ww_H2FUNY"
      }
    },
    {
      "cell_type": "code",
      "source": [
        "model.evaluate(X_test, Y_test)"
      ],
      "metadata": {
        "colab": {
          "base_uri": "https://localhost:8080/"
        },
        "id": "4tuW9STA9uiq",
        "outputId": "c43369c1-5433-466e-e52f-99187b93ff39"
      },
      "execution_count": null,
      "outputs": [
        {
          "output_type": "stream",
          "name": "stdout",
          "text": [
            "313/313 [==============================] - 0s 1ms/step - loss: 0.3549 - accuracy: 0.8798\n"
          ]
        },
        {
          "output_type": "execute_result",
          "data": {
            "text/plain": [
              "[0.3548719584941864, 0.879800021648407]"
            ]
          },
          "metadata": {},
          "execution_count": 16
        }
      ]
    }
  ]
}