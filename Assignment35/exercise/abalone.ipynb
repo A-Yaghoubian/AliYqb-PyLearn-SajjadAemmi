{
 "cells": [
  {
   "cell_type": "code",
   "execution_count": 2,
   "metadata": {},
   "outputs": [],
   "source": [
    "import numpy as np\n",
    "import pandas as pd\n",
    "import matplotlib.pyplot as plt\n",
    "from sklearn.neighbors import KNeighborsClassifier\n",
    "from sklearn.model_selection import train_test_split\n",
    "from sklearn import metrics"
   ]
  },
  {
   "cell_type": "code",
   "execution_count": 9,
   "metadata": {},
   "outputs": [
    {
     "data": {
      "text/html": [
       "<div>\n",
       "<style scoped>\n",
       "    .dataframe tbody tr th:only-of-type {\n",
       "        vertical-align: middle;\n",
       "    }\n",
       "\n",
       "    .dataframe tbody tr th {\n",
       "        vertical-align: top;\n",
       "    }\n",
       "\n",
       "    .dataframe thead th {\n",
       "        text-align: right;\n",
       "    }\n",
       "</style>\n",
       "<table border=\"1\" class=\"dataframe\">\n",
       "  <thead>\n",
       "    <tr style=\"text-align: right;\">\n",
       "      <th></th>\n",
       "      <th>Sex</th>\n",
       "      <th>Length</th>\n",
       "      <th>Diameter</th>\n",
       "      <th>Height</th>\n",
       "      <th>Whole weight</th>\n",
       "      <th>Shucked weight</th>\n",
       "      <th>Viscera weight</th>\n",
       "      <th>Shell weight</th>\n",
       "      <th>Rings</th>\n",
       "    </tr>\n",
       "  </thead>\n",
       "  <tbody>\n",
       "    <tr>\n",
       "      <th>0</th>\n",
       "      <td>M</td>\n",
       "      <td>0.350</td>\n",
       "      <td>0.265</td>\n",
       "      <td>0.090</td>\n",
       "      <td>0.2255</td>\n",
       "      <td>0.0995</td>\n",
       "      <td>0.0485</td>\n",
       "      <td>0.070</td>\n",
       "      <td>7</td>\n",
       "    </tr>\n",
       "    <tr>\n",
       "      <th>1</th>\n",
       "      <td>F</td>\n",
       "      <td>0.530</td>\n",
       "      <td>0.420</td>\n",
       "      <td>0.135</td>\n",
       "      <td>0.6770</td>\n",
       "      <td>0.2565</td>\n",
       "      <td>0.1415</td>\n",
       "      <td>0.210</td>\n",
       "      <td>9</td>\n",
       "    </tr>\n",
       "    <tr>\n",
       "      <th>2</th>\n",
       "      <td>M</td>\n",
       "      <td>0.440</td>\n",
       "      <td>0.365</td>\n",
       "      <td>0.125</td>\n",
       "      <td>0.5160</td>\n",
       "      <td>0.2155</td>\n",
       "      <td>0.1140</td>\n",
       "      <td>0.155</td>\n",
       "      <td>10</td>\n",
       "    </tr>\n",
       "    <tr>\n",
       "      <th>3</th>\n",
       "      <td>I</td>\n",
       "      <td>0.330</td>\n",
       "      <td>0.255</td>\n",
       "      <td>0.080</td>\n",
       "      <td>0.2050</td>\n",
       "      <td>0.0895</td>\n",
       "      <td>0.0395</td>\n",
       "      <td>0.055</td>\n",
       "      <td>7</td>\n",
       "    </tr>\n",
       "    <tr>\n",
       "      <th>4</th>\n",
       "      <td>I</td>\n",
       "      <td>0.425</td>\n",
       "      <td>0.300</td>\n",
       "      <td>0.095</td>\n",
       "      <td>0.3515</td>\n",
       "      <td>0.1410</td>\n",
       "      <td>0.0775</td>\n",
       "      <td>0.120</td>\n",
       "      <td>8</td>\n",
       "    </tr>\n",
       "  </tbody>\n",
       "</table>\n",
       "</div>"
      ],
      "text/plain": [
       "  Sex  Length   Diameter  Height  Whole weight  Shucked weight   \\\n",
       "0   M    0.350     0.265   0.090        0.2255           0.0995   \n",
       "1   F    0.530     0.420   0.135        0.6770           0.2565   \n",
       "2   M    0.440     0.365   0.125        0.5160           0.2155   \n",
       "3   I    0.330     0.255   0.080        0.2050           0.0895   \n",
       "4   I    0.425     0.300   0.095        0.3515           0.1410   \n",
       "\n",
       "   Viscera weight  Shell weight  Rings  \n",
       "0          0.0485         0.070      7  \n",
       "1          0.1415         0.210      9  \n",
       "2          0.1140         0.155     10  \n",
       "3          0.0395         0.055      7  \n",
       "4          0.0775         0.120      8  "
      ]
     },
     "execution_count": 9,
     "metadata": {},
     "output_type": "execute_result"
    }
   ],
   "source": [
    "data = pd.read_csv('abalone.data.csv')\n",
    "data = data.set_axis(['Sex', 'Length ', 'Diameter', 'Height', 'Whole weight','Shucked weight ','Viscera weight','Shell weight','Rings'], axis=1, inplace=False)\n",
    "data.head()"
   ]
  },
  {
   "cell_type": "code",
   "execution_count": 10,
   "metadata": {},
   "outputs": [],
   "source": [
    "data = data.drop(\"Sex\", axis=1)\n",
    "\n",
    "X = data\n",
    "X = X.drop(\"Rings\", axis=1)\n",
    "\n",
    "Y = data['Rings']"
   ]
  },
  {
   "cell_type": "code",
   "execution_count": 11,
   "metadata": {},
   "outputs": [
    {
     "data": {
      "image/png": "[encoded data removed]",
      "text/plain": [
       "<Figure size 432x288 with 1 Axes>"
      ]
     },
     "metadata": {
      "needs_background": "light"
     },
     "output_type": "display_data"
    }
   ],
   "source": [
    "Y.hist(bins = 15)\n",
    "plt.show()"
   ]
  },
  {
   "cell_type": "code",
   "execution_count": 12,
   "metadata": {},
   "outputs": [
    {
     "data": {
      "text/plain": [
       "Length             0.557123\n",
       "Diameter           0.575005\n",
       "Height             0.558109\n",
       "Whole weight       0.540818\n",
       "Shucked weight     0.421256\n",
       "Viscera weight     0.504274\n",
       "Shell weight       0.628031\n",
       "Rings              1.000000\n",
       "Name: Rings, dtype: float64"
      ]
     },
     "execution_count": 12,
     "metadata": {},
     "output_type": "execute_result"
    }
   ],
   "source": [
    "correlation_matrix = data.corr()\n",
    "correlation_matrix[\"Rings\"]"
   ]
  },
  {
   "cell_type": "code",
   "execution_count": 13,
   "metadata": {},
   "outputs": [],
   "source": [
    "X_train, X_test, Y_train, Y_test = train_test_split(X, Y, test_size=0.2, random_state=20)"
   ]
  },
  {
   "cell_type": "code",
   "execution_count": 15,
   "metadata": {},
   "outputs": [
    {
     "name": "stderr",
     "output_type": "stream",
     "text": [
      "C:\\Users\\Ali Yaghoubian\\AppData\\Local\\Programs\\Python\\Python37\\lib\\site-packages\\sklearn\\base.py:442: UserWarning: X does not have valid feature names, but KNeighborsClassifier was fitted with feature names\n",
      "  \"X does not have valid feature names, but\"\n"
     ]
    },
    {
     "data": {
      "text/plain": [
       "array([ 7,  8,  7,  8,  8, 10, 11,  8,  8,  7,  4, 11, 11,  9,  9, 10,  9,\n",
       "        7,  9, 10,  8, 11,  7,  7,  9,  8, 10, 11,  8,  7,  9, 12, 10,  7,\n",
       "        9,  9,  9, 12,  7, 10,  8,  7, 12,  7, 14,  9, 11,  6, 17,  7, 10,\n",
       "        5, 11, 10,  9,  8,  9,  7,  9, 10,  8, 11,  9, 13,  9, 11,  6,  7,\n",
       "        9,  8,  9,  7,  6,  8,  8, 11, 11, 12, 11,  6, 10,  9,  9,  8, 12,\n",
       "       10,  3,  8, 10,  8, 10,  6, 11,  9,  9, 10, 10, 11,  9,  5,  8,  9,\n",
       "        6,  9,  4,  8,  8,  6, 16,  9,  8, 12, 12,  6,  6,  9,  9,  8,  8,\n",
       "        6,  6, 10,  7, 10,  9,  5,  6, 12, 11, 10,  8,  4, 10, 10,  7, 11,\n",
       "       10,  8, 11,  9,  7,  7,  7,  8,  7, 15,  9,  7,  8, 11,  8,  8,  9,\n",
       "        9, 16,  6, 10, 10, 10, 11, 11,  9, 14,  9,  7,  8,  7,  9,  9, 12,\n",
       "        9,  8, 11, 12,  8,  7,  8,  9,  9,  8,  7, 10, 13, 17, 10,  3, 11,\n",
       "        5,  9, 12,  8, 10,  8, 10,  6,  8,  9,  5,  5,  9,  7, 11,  8,  6,\n",
       "        8, 17,  6,  9,  9, 15,  9,  6, 10,  7, 10, 10, 11, 13, 10,  4, 11,\n",
       "       10,  9,  9,  9,  9,  8,  9,  9,  9, 11,  4, 10,  7,  8,  9,  5,  9,\n",
       "        7, 12,  7,  8,  5,  7, 10,  9,  9, 19, 11, 10,  9, 11,  7, 10,  8,\n",
       "        9,  8,  9,  9, 10,  5,  9, 12, 12, 13, 10,  8,  9,  4,  7,  5,  8,\n",
       "        9,  9,  9,  7,  8,  6, 11,  7,  9, 10,  9, 10,  7,  7, 10,  8, 10,\n",
       "       13, 10,  8,  9, 11,  7,  8, 11,  9,  7, 10, 10, 11,  7, 10, 20,  5,\n",
       "        9,  9,  7,  5, 10,  9,  9,  9, 10,  9, 10, 11, 15,  6,  9, 10,  4,\n",
       "       10, 10, 12,  9,  9,  9,  9,  8,  8, 10,  9, 10, 10,  6, 13,  9,  9,\n",
       "       10,  8,  9,  9, 10,  9, 10,  9,  9,  6, 10,  7, 11,  6,  6,  9,  8,\n",
       "       11, 11,  6,  6,  9,  7,  9, 10,  9,  7, 11,  7,  9, 10,  9,  9,  8,\n",
       "       10, 14,  7,  7,  8, 10,  4,  9,  9,  9, 11,  9,  9,  9, 16, 14,  9,\n",
       "       10, 10,  9,  9,  9,  9,  7,  9, 11,  9, 10,  8,  6, 11, 12, 10,  8,\n",
       "       10,  9,  6,  8, 10, 13,  6,  9,  8, 10,  9, 11, 10, 11, 10,  3,  8,\n",
       "        7,  9,  7, 10,  5, 10, 11,  8, 12, 12,  9,  6, 10, 10,  6,  5,  7,\n",
       "       10,  7, 11,  9, 10,  9, 10,  8, 10,  7,  7,  7,  5,  9,  8, 10, 13,\n",
       "        8, 10, 10,  8, 10,  5,  8,  7, 17,  7,  9,  7,  6,  5,  6,  9,  8,\n",
       "       15,  6, 10, 13,  9, 10, 11,  7,  9,  7, 10, 17, 11,  7,  9,  5,  8,\n",
       "        9,  7,  7,  9,  8,  7, 10,  8, 11, 10,  7,  9,  8,  9,  8,  9,  7,\n",
       "        9,  8, 12, 10,  6,  8, 11, 17,  6,  9,  6,  9,  7,  7, 10, 10, 11,\n",
       "       10,  9, 10,  8,  9, 12, 12, 14, 10,  9, 10,  9, 11, 10, 10, 12,  9,\n",
       "        6, 10, 18,  9, 11,  8, 13,  9, 12, 11, 11,  9,  8,  9,  7, 16,  6,\n",
       "       10,  8, 10,  9,  9,  7,  7,  7, 12,  8, 11, 10, 10,  7,  7, 10,  9,\n",
       "        8,  5, 10,  8, 12, 10, 10,  9, 11,  7, 10, 12,  5, 10,  8, 10,  6,\n",
       "       11,  9,  9,  9, 16, 10, 10,  9, 11,  7, 10,  6,  9,  9, 10, 14,  7,\n",
       "       10, 12, 10,  5, 10, 11,  9,  8,  5,  9,  8, 11,  8, 11,  6,  5,  6,\n",
       "        6,  7, 10,  5,  9,  7,  8,  8, 11,  8,  8,  9,  9,  9,  7, 12, 13,\n",
       "       10,  9,  8,  8,  3,  8,  9,  8,  9, 10,  9,  5,  9,  6,  9, 10, 12,\n",
       "       10, 13,  7,  6, 11, 11,  6,  5, 16, 11,  8, 11, 10,  7, 10,  9,  9,\n",
       "       11,  8,  9,  8, 10, 10, 16,  9,  8, 11, 15,  8,  9,  9,  9,  9, 12,\n",
       "        9,  9,  8,  6,  9, 10,  7,  7, 10,  9,  9, 11,  9,  7,  9, 11, 12,\n",
       "        7, 11, 13,  9,  9, 11, 10,  9,  9, 10,  9,  8,  9,  9, 11, 10, 10,\n",
       "        7,  9,  9,  9,  8,  8, 10, 12, 10, 12, 11, 10, 11, 10, 10,  8, 12,\n",
       "        8, 11,  9, 17,  8,  8, 12, 12,  6,  9, 11,  6, 11,  9,  8,  6,  7,\n",
       "        7, 10,  9,  8,  8,  9, 10,  9,  7,  9,  8,  7,  7, 10, 11, 11,  9,\n",
       "        8,  9,  8,  6,  7,  8,  8,  9,  9, 11,  8, 12, 10,  9,  9, 10, 10,\n",
       "       14,  8,  7,  9,  7,  7,  9,  9, 12,  9, 13, 10, 10,  6, 10,  7,  9,\n",
       "       12,  9, 10, 11,  9,  8,  8, 11,  9,  9,  9,  8,  7, 11,  9, 10, 10,\n",
       "        9, 10, 11], dtype=int64)"
      ]
     },
     "execution_count": 15,
     "metadata": {},
     "output_type": "execute_result"
    }
   ],
   "source": [
    "kNN = KNeighborsClassifier(n_neighbors=9)\n",
    "kNN.fit(X_train, Y_train)\n",
    "pred = kNN.predict(X_test)\n",
    "pred"
   ]
  },
  {
   "cell_type": "code",
   "execution_count": 16,
   "metadata": {},
   "outputs": [
    {
     "data": {
      "text/plain": [
       "0.23086124401913877"
      ]
     },
     "execution_count": 16,
     "metadata": {},
     "output_type": "execute_result"
    }
   ],
   "source": [
    "evaluation = (pred == Y_test).sum() / len(Y_test)\n",
    "evaluation"
   ]
  },
  {
   "cell_type": "code",
   "execution_count": 17,
   "metadata": {},
   "outputs": [
    {
     "name": "stdout",
     "output_type": "stream",
     "text": [
      "              precision    recall  f1-score   support\n",
      "\n",
      "           3       0.00      0.00      0.00         1\n",
      "           4       0.38      0.30      0.33        10\n",
      "           5       0.35      0.35      0.35        26\n",
      "           6       0.27      0.31      0.29        45\n",
      "           7       0.31      0.39      0.35        79\n",
      "           8       0.33      0.34      0.34       117\n",
      "           9       0.20      0.34      0.25       120\n",
      "          10       0.19      0.24      0.21       120\n",
      "          11       0.24      0.18      0.21       111\n",
      "          12       0.08      0.07      0.07        45\n",
      "          13       0.07      0.02      0.03        47\n",
      "          14       0.29      0.07      0.11        28\n",
      "          15       0.00      0.00      0.00        26\n",
      "          16       0.00      0.00      0.00        17\n",
      "          17       0.00      0.00      0.00        10\n",
      "          18       0.00      0.00      0.00         9\n",
      "          19       0.00      0.00      0.00        11\n",
      "          20       0.00      0.00      0.00         4\n",
      "          21       0.00      0.00      0.00         3\n",
      "          22       0.00      0.00      0.00         2\n",
      "          23       0.00      0.00      0.00         4\n",
      "          25       0.00      0.00      0.00         1\n",
      "\n",
      "    accuracy                           0.23       836\n",
      "   macro avg       0.12      0.12      0.12       836\n",
      "weighted avg       0.21      0.23      0.21       836\n",
      "\n"
     ]
    },
    {
     "name": "stderr",
     "output_type": "stream",
     "text": [
      "C:\\Users\\Ali Yaghoubian\\AppData\\Local\\Programs\\Python\\Python37\\lib\\site-packages\\sklearn\\metrics\\_classification.py:1308: UndefinedMetricWarning: Precision and F-score are ill-defined and being set to 0.0 in labels with no predicted samples. Use `zero_division` parameter to control this behavior.\n",
      "  _warn_prf(average, modifier, msg_start, len(result))\n",
      "C:\\Users\\Ali Yaghoubian\\AppData\\Local\\Programs\\Python\\Python37\\lib\\site-packages\\sklearn\\metrics\\_classification.py:1308: UndefinedMetricWarning: Precision and F-score are ill-defined and being set to 0.0 in labels with no predicted samples. Use `zero_division` parameter to control this behavior.\n",
      "  _warn_prf(average, modifier, msg_start, len(result))\n",
      "C:\\Users\\Ali Yaghoubian\\AppData\\Local\\Programs\\Python\\Python37\\lib\\site-packages\\sklearn\\metrics\\_classification.py:1308: UndefinedMetricWarning: Precision and F-score are ill-defined and being set to 0.0 in labels with no predicted samples. Use `zero_division` parameter to control this behavior.\n",
      "  _warn_prf(average, modifier, msg_start, len(result))\n"
     ]
    }
   ],
   "source": [
    "metric = metrics.classification_report(Y_test,pred)\n",
    "print(metric)"
   ]
  }
 ],
 "metadata": {
  "interpreter": {
   "hash": "482738b15dd22d9b11a313ae3a5565a57d6a37c8a6c1f1849215e72b7387ec0c"
  },
  "kernelspec": {
   "display_name": "Python 3.7.9 64-bit",
   "language": "python",
   "name": "python3"
  },
  "language_info": {
   "codemirror_mode": {
    "name": "ipython",
    "version": 3
   },
   "file_extension": ".py",
   "mimetype": "text/x-python",
   "name": "python",
   "nbconvert_exporter": "python",
   "pygments_lexer": "ipython3",
   "version": "3.7.9"
  },
  "orig_nbformat": 4
 },
 "nbformat": 4,
 "nbformat_minor": 2
}
