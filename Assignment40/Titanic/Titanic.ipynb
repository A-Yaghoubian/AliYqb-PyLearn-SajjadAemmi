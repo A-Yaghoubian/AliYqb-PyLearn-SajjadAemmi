{
 "cells": [
  {
   "cell_type": "markdown",
   "metadata": {},
   "source": [
    "My KNN class"
   ]
  },
  {
   "cell_type": "code",
   "execution_count": 114,
   "metadata": {},
   "outputs": [],
   "source": [
    "class KNearestNeighbors:\n",
    "    def __init__(self, k):\n",
    "        self.k = k\n",
    "    \n",
    "    # train    \n",
    "    def fit(self, X_train, Y_train):\n",
    "        self.X_train = X_train\n",
    "        self.Y_train = Y_train\n",
    "        \n",
    "    def euclidianDistance(self, a, b):\n",
    "        d = np.sqrt(np.sum((a - b) ** 2))\n",
    "        return d\n",
    "    \n",
    "    def nearNeighbors(self, X_test):\n",
    "        dists = []\n",
    "        for x_train in self.X_train:\n",
    "            dist = self.euclidianDistance(x_train, X_test)\n",
    "            dists.append(dist)\n",
    "            \n",
    "        index_sorted = np.argsort(dists)\n",
    "        gender_sorted = self.Y_train[index_sorted]\n",
    "        \n",
    "        return gender_sorted[0 : self.k]\n",
    "        \n",
    "    # test    \n",
    "    def predict(self, X_test):\n",
    "        nearestNeighbors = self.nearNeighbors(X_test)\n",
    "        Y_test = np.argmax(np.bincount(nearestNeighbors))\n",
    "        \n",
    "        return Y_test\n",
    "    \n",
    "    # evaluate\n",
    "    def evaluate(self, X_test, Y_test):\n",
    "        pred = []\n",
    "        for x in X_test:\n",
    "            pred.append(self.predict(x))\n",
    "            \n",
    "        correct = 0\n",
    "        for i in range(len(X_test)):\n",
    "            if pred[i] == Y_test[i]:\n",
    "                correct = correct + 1\n",
    "        \n",
    "        answer = correct/len(Y_test)\n",
    "        \n",
    "        return answer "
   ]
  },
  {
   "cell_type": "markdown",
   "metadata": {},
   "source": [
    "My Perceptron class"
   ]
  },
  {
   "cell_type": "code",
   "execution_count": 115,
   "metadata": {},
   "outputs": [],
   "source": [
    "class Perceptron:\n",
    "    def __init__(self, lr_w=0.00001, lr_b=0.01, epochs=3):\n",
    "        self.w = np.random.rand(5, 1)\n",
    "        self.b = np.random.rand(1, 1)\n",
    "        self.lr_w = lr_w\n",
    "        self.lr_b = lr_b\n",
    "        self.epochs = epochs\n",
    "        \n",
    "    def fit(self, X_train, Y_train):        \n",
    "        for epoch in range(self.epochs):\n",
    "            for i in range(X_train.shape[0]):    \n",
    "                x = X_train[i]\n",
    "                y = Y_train[i]\n",
    "                \n",
    "                y_pred = np.matmul(x, self.w) + self.b\n",
    "                e = y - y_pred\n",
    "                \n",
    "                self.w += (self.lr_w * e * X_train[i, :].T).T\n",
    "                self.b += self.lr_b * e\n",
    "\n",
    "    def predict(self, x):\n",
    "        y_pred_answer = np.matmul(x, self.w) + self.b\n",
    "        return y_pred_answer\n",
    "\n",
    "    def evaluate(self, X, Y):\n",
    "        Y_pred = np.matmul(X, self.w) + self.b\n",
    "        Y_pred = np.where(Y_pred < 0.5, 0, 1)\n",
    "        return accuracy_score(Y, Y_pred)\n",
    "    "
   ]
  },
  {
   "cell_type": "markdown",
   "metadata": {},
   "source": [
    "Libraries"
   ]
  },
  {
   "cell_type": "code",
   "execution_count": 116,
   "metadata": {},
   "outputs": [],
   "source": [
    "import numpy as np\n",
    "import pandas as pd\n",
    "import matplotlib.pyplot as plt\n",
    "from sklearn.neighbors import KNeighborsClassifier\n",
    "from sklearn.metrics import accuracy_score\n",
    "import tensorflow as tf\n",
    "from tensorflow.keras.layers import Dense"
   ]
  },
  {
   "cell_type": "markdown",
   "metadata": {},
   "source": [
    "Load train data"
   ]
  },
  {
   "cell_type": "code",
   "execution_count": 117,
   "metadata": {},
   "outputs": [
    {
     "data": {
      "text/html": [
       "<div>\n",
       "<style scoped>\n",
       "    .dataframe tbody tr th:only-of-type {\n",
       "        vertical-align: middle;\n",
       "    }\n",
       "\n",
       "    .dataframe tbody tr th {\n",
       "        vertical-align: top;\n",
       "    }\n",
       "\n",
       "    .dataframe thead th {\n",
       "        text-align: right;\n",
       "    }\n",
       "</style>\n",
       "<table border=\"1\" class=\"dataframe\">\n",
       "  <thead>\n",
       "    <tr style=\"text-align: right;\">\n",
       "      <th></th>\n",
       "      <th>PassengerId</th>\n",
       "      <th>Survived</th>\n",
       "      <th>Pclass</th>\n",
       "      <th>Name</th>\n",
       "      <th>Sex</th>\n",
       "      <th>Age</th>\n",
       "      <th>SibSp</th>\n",
       "      <th>Parch</th>\n",
       "      <th>Ticket</th>\n",
       "      <th>Fare</th>\n",
       "      <th>Cabin</th>\n",
       "      <th>Embarked</th>\n",
       "    </tr>\n",
       "  </thead>\n",
       "  <tbody>\n",
       "    <tr>\n",
       "      <th>0</th>\n",
       "      <td>1</td>\n",
       "      <td>0</td>\n",
       "      <td>3</td>\n",
       "      <td>Braund, Mr. Owen Harris</td>\n",
       "      <td>male</td>\n",
       "      <td>22.0</td>\n",
       "      <td>1</td>\n",
       "      <td>0</td>\n",
       "      <td>A/5 21171</td>\n",
       "      <td>7.25</td>\n",
       "      <td>NaN</td>\n",
       "      <td>S</td>\n",
       "    </tr>\n",
       "  </tbody>\n",
       "</table>\n",
       "</div>"
      ],
      "text/plain": [
       "   PassengerId  Survived  Pclass                     Name   Sex   Age  SibSp  \\\n",
       "0            1         0       3  Braund, Mr. Owen Harris  male  22.0      1   \n",
       "\n",
       "   Parch     Ticket  Fare Cabin Embarked  \n",
       "0      0  A/5 21171  7.25   NaN        S  "
      ]
     },
     "execution_count": 117,
     "metadata": {},
     "output_type": "execute_result"
    }
   ],
   "source": [
    "data_train = pd.read_csv('data/train.csv')\n",
    "data_train.head(1)"
   ]
  },
  {
   "cell_type": "markdown",
   "metadata": {},
   "source": [
    "Prepare train data"
   ]
  },
  {
   "cell_type": "code",
   "execution_count": 118,
   "metadata": {},
   "outputs": [],
   "source": [
    "data_train = data_train.replace([\"female\", \"male\"], [0, 1])\n",
    "data_train = data_train.replace([\"S\", \"C\", \"Q\"], [0, 1, 2])\n",
    "data_train = data_train.fillna(30)\n",
    "\n",
    "X_train = np.array(data_train[[\"Pclass\", \"Sex\", \"Age\", \"SibSp\", \"Parch\"]])\n",
    "Y_train = np.array(data_train[[\"Survived\"]])"
   ]
  },
  {
   "cell_type": "code",
   "execution_count": 119,
   "metadata": {},
   "outputs": [
    {
     "data": {
      "text/plain": [
       "(array([549.,   0.,   0.,   0.,   0.,   0.,   0.,   0.,   0., 342.]),\n",
       " array([0. , 0.1, 0.2, 0.3, 0.4, 0.5, 0.6, 0.7, 0.8, 0.9, 1. ]),\n",
       " <BarContainer object of 10 artists>)"
      ]
     },
     "execution_count": 119,
     "metadata": {},
     "output_type": "execute_result"
    },
    {
     "data": {
      "image/png": "[encoded data removed]",
      "text/plain": [
       "<Figure size 432x288 with 1 Axes>"
      ]
     },
     "metadata": {
      "needs_background": "light"
     },
     "output_type": "display_data"
    }
   ],
   "source": [
    "plt.hist(data_train['Survived'])"
   ]
  },
  {
   "cell_type": "markdown",
   "metadata": {},
   "source": [
    "Load test data"
   ]
  },
  {
   "cell_type": "code",
   "execution_count": 120,
   "metadata": {},
   "outputs": [
    {
     "data": {
      "text/html": [
       "<div>\n",
       "<style scoped>\n",
       "    .dataframe tbody tr th:only-of-type {\n",
       "        vertical-align: middle;\n",
       "    }\n",
       "\n",
       "    .dataframe tbody tr th {\n",
       "        vertical-align: top;\n",
       "    }\n",
       "\n",
       "    .dataframe thead th {\n",
       "        text-align: right;\n",
       "    }\n",
       "</style>\n",
       "<table border=\"1\" class=\"dataframe\">\n",
       "  <thead>\n",
       "    <tr style=\"text-align: right;\">\n",
       "      <th></th>\n",
       "      <th>PassengerId</th>\n",
       "      <th>Pclass</th>\n",
       "      <th>Name</th>\n",
       "      <th>Sex</th>\n",
       "      <th>Age</th>\n",
       "      <th>SibSp</th>\n",
       "      <th>Parch</th>\n",
       "      <th>Ticket</th>\n",
       "      <th>Fare</th>\n",
       "      <th>Cabin</th>\n",
       "      <th>Embarked</th>\n",
       "    </tr>\n",
       "  </thead>\n",
       "  <tbody>\n",
       "    <tr>\n",
       "      <th>0</th>\n",
       "      <td>892</td>\n",
       "      <td>3</td>\n",
       "      <td>Kelly, Mr. James</td>\n",
       "      <td>male</td>\n",
       "      <td>34.5</td>\n",
       "      <td>0</td>\n",
       "      <td>0</td>\n",
       "      <td>330911</td>\n",
       "      <td>7.8292</td>\n",
       "      <td>NaN</td>\n",
       "      <td>Q</td>\n",
       "    </tr>\n",
       "  </tbody>\n",
       "</table>\n",
       "</div>"
      ],
      "text/plain": [
       "   PassengerId  Pclass              Name   Sex   Age  SibSp  Parch  Ticket  \\\n",
       "0          892       3  Kelly, Mr. James  male  34.5      0      0  330911   \n",
       "\n",
       "     Fare Cabin Embarked  \n",
       "0  7.8292   NaN        Q  "
      ]
     },
     "execution_count": 120,
     "metadata": {},
     "output_type": "execute_result"
    }
   ],
   "source": [
    "data_test = pd.read_csv(\"data/test.csv\")\n",
    "data_test.head(1)"
   ]
  },
  {
   "cell_type": "code",
   "execution_count": 121,
   "metadata": {},
   "outputs": [
    {
     "data": {
      "text/html": [
       "<div>\n",
       "<style scoped>\n",
       "    .dataframe tbody tr th:only-of-type {\n",
       "        vertical-align: middle;\n",
       "    }\n",
       "\n",
       "    .dataframe tbody tr th {\n",
       "        vertical-align: top;\n",
       "    }\n",
       "\n",
       "    .dataframe thead th {\n",
       "        text-align: right;\n",
       "    }\n",
       "</style>\n",
       "<table border=\"1\" class=\"dataframe\">\n",
       "  <thead>\n",
       "    <tr style=\"text-align: right;\">\n",
       "      <th></th>\n",
       "      <th>PassengerId</th>\n",
       "      <th>Survived</th>\n",
       "    </tr>\n",
       "  </thead>\n",
       "  <tbody>\n",
       "    <tr>\n",
       "      <th>0</th>\n",
       "      <td>892</td>\n",
       "      <td>0</td>\n",
       "    </tr>\n",
       "  </tbody>\n",
       "</table>\n",
       "</div>"
      ],
      "text/plain": [
       "   PassengerId  Survived\n",
       "0          892         0"
      ]
     },
     "execution_count": 121,
     "metadata": {},
     "output_type": "execute_result"
    }
   ],
   "source": [
    "data_gender_submission = pd.read_csv(\"data/gender_submission.csv\")\n",
    "data_gender_submission.head(1)"
   ]
  },
  {
   "cell_type": "markdown",
   "metadata": {},
   "source": [
    "Prepare test data"
   ]
  },
  {
   "cell_type": "code",
   "execution_count": 122,
   "metadata": {},
   "outputs": [
    {
     "name": "stdout",
     "output_type": "stream",
     "text": [
      "(418, 5) (418, 1)\n"
     ]
    }
   ],
   "source": [
    "data_gender_submission = pd.read_csv(\"data/gender_submission.csv\")\n",
    "data_test = pd.read_csv(\"data/test.csv\")\n",
    "\n",
    "data_test = data_test.replace([\"female\", \"male\"], [0, 1])\n",
    "data_test = data_test.replace([\"S\", \"C\", \"Q\"], [0, 1, 2])\n",
    "data_test = data_test.fillna(30)\n",
    "\n",
    "X_test = np.array(data_test[[\"Pclass\", \"Sex\", \"Age\", \"SibSp\", \"Parch\"]])\n",
    "Y_test = np.array(data_gender_submission[[\"Survived\"]]) \n",
    "\n",
    "print(X_test.shape, Y_test.shape)"
   ]
  },
  {
   "cell_type": "markdown",
   "metadata": {},
   "source": [
    "# KNN"
   ]
  },
  {
   "cell_type": "markdown",
   "metadata": {},
   "source": [
    "Create and Fit"
   ]
  },
  {
   "cell_type": "code",
   "execution_count": 123,
   "metadata": {},
   "outputs": [
    {
     "name": "stderr",
     "output_type": "stream",
     "text": [
      "C:\\Users\\Ali Yaghoubian\\AppData\\Local\\Programs\\Python\\Python37\\lib\\site-packages\\sklearn\\neighbors\\_classification.py:198: DataConversionWarning: A column-vector y was passed when a 1d array was expected. Please change the shape of y to (n_samples,), for example using ravel().\n",
      "  return self._fit(X, y)\n"
     ]
    },
    {
     "data": {
      "text/plain": [
       "KNeighborsClassifier()"
      ]
     },
     "execution_count": 123,
     "metadata": {},
     "output_type": "execute_result"
    }
   ],
   "source": [
    "knn = KNeighborsClassifier(n_neighbors=5) # توابع کلاس آماده sklearn\n",
    "knn.fit(X_train, Y_train)"
   ]
  },
  {
   "cell_type": "markdown",
   "metadata": {},
   "source": [
    "Predict"
   ]
  },
  {
   "cell_type": "code",
   "execution_count": 124,
   "metadata": {},
   "outputs": [
    {
     "data": {
      "text/plain": [
       "(array([262.,   0.,   0.,   0.,   0.,   0.,   0.,   0.,   0., 156.]),\n",
       " array([0. , 0.1, 0.2, 0.3, 0.4, 0.5, 0.6, 0.7, 0.8, 0.9, 1. ]),\n",
       " <BarContainer object of 10 artists>)"
      ]
     },
     "execution_count": 124,
     "metadata": {},
     "output_type": "execute_result"
    },
    {
     "data": {
      "image/png": "[encoded data removed]",
      "text/plain": [
       "<Figure size 432x288 with 1 Axes>"
      ]
     },
     "metadata": {
      "needs_background": "light"
     },
     "output_type": "display_data"
    }
   ],
   "source": [
    "Y_pred = knn.predict(X_test)\n",
    "plt.hist(Y_pred)"
   ]
  },
  {
   "cell_type": "markdown",
   "metadata": {},
   "source": [
    "Accuracy score for KNN"
   ]
  },
  {
   "cell_type": "code",
   "execution_count": 125,
   "metadata": {},
   "outputs": [
    {
     "data": {
      "text/plain": [
       "0.7894736842105263"
      ]
     },
     "execution_count": 125,
     "metadata": {},
     "output_type": "execute_result"
    }
   ],
   "source": [
    "accuracy_KNN = accuracy_score(Y_test, Y_pred)\n",
    "accuracy_KNN"
   ]
  },
  {
   "cell_type": "markdown",
   "metadata": {},
   "source": [
    "# Perceptron"
   ]
  },
  {
   "cell_type": "markdown",
   "metadata": {},
   "source": [
    "Create and Fit"
   ]
  },
  {
   "cell_type": "code",
   "execution_count": 126,
   "metadata": {},
   "outputs": [],
   "source": [
    "perceptron = Perceptron()\n",
    "perceptron.fit(X_train, Y_train)"
   ]
  },
  {
   "cell_type": "markdown",
   "metadata": {},
   "source": [
    "Predict and Evaluate for Perceptron"
   ]
  },
  {
   "cell_type": "code",
   "execution_count": 127,
   "metadata": {},
   "outputs": [
    {
     "data": {
      "text/plain": [
       "0.6028708133971292"
      ]
     },
     "execution_count": 127,
     "metadata": {},
     "output_type": "execute_result"
    }
   ],
   "source": [
    "Y_pred = perceptron.predict(X_test)\n",
    "accuracy_Perceptron = perceptron.evaluate(X_test, Y_test)\n",
    "accuracy_Perceptron"
   ]
  },
  {
   "cell_type": "markdown",
   "metadata": {},
   "source": [
    "# MLP"
   ]
  },
  {
   "cell_type": "markdown",
   "metadata": {},
   "source": [
    "Model"
   ]
  },
  {
   "cell_type": "code",
   "execution_count": 158,
   "metadata": {},
   "outputs": [],
   "source": [
    "model = tf.keras.models.Sequential([\n",
    "    Dense(5, activation='sigmoid'),\n",
    "    Dense(256, activation='relu'),\n",
    "    Dense(256, activation='relu'),\n",
    "    Dense(128, activation='relu'),\n",
    "    Dense(16, activation='relu'),\n",
    "    Dense(2, activation='softmax')\n",
    "])"
   ]
  },
  {
   "cell_type": "code",
   "execution_count": 159,
   "metadata": {},
   "outputs": [],
   "source": [
    "model.compile(optimizer=tf.keras.optimizers.Adam(learning_rate=0.0001),\n",
    "              loss=tf.losses.sparse_categorical_crossentropy,\n",
    "              metrics=[\"accuracy\"])"
   ]
  },
  {
   "cell_type": "markdown",
   "metadata": {},
   "source": [
    "Train"
   ]
  },
  {
   "cell_type": "code",
   "execution_count": 160,
   "metadata": {},
   "outputs": [
    {
     "name": "stdout",
     "output_type": "stream",
     "text": [
      "Epoch 1/200\n",
      "28/28 [==============================] - 1s 2ms/step - loss: 0.6864 - accuracy: 0.5701\n",
      "Epoch 2/200\n",
      "28/28 [==============================] - 0s 3ms/step - loss: 0.6748 - accuracy: 0.6162\n",
      "Epoch 3/200\n",
      "28/28 [==============================] - 0s 3ms/step - loss: 0.6681 - accuracy: 0.6162\n",
      "Epoch 4/200\n",
      "28/28 [==============================] - 0s 3ms/step - loss: 0.6631 - accuracy: 0.6162\n",
      "Epoch 5/200\n",
      "28/28 [==============================] - 0s 3ms/step - loss: 0.6606 - accuracy: 0.6162\n",
      "Epoch 6/200\n",
      "28/28 [==============================] - 0s 3ms/step - loss: 0.6602 - accuracy: 0.6162\n",
      "Epoch 7/200\n",
      "28/28 [==============================] - 0s 3ms/step - loss: 0.6573 - accuracy: 0.6162\n",
      "Epoch 8/200\n",
      "28/28 [==============================] - 0s 3ms/step - loss: 0.6568 - accuracy: 0.6162\n",
      "Epoch 9/200\n",
      "28/28 [==============================] - 0s 3ms/step - loss: 0.6549 - accuracy: 0.6162\n",
      "Epoch 10/200\n",
      "28/28 [==============================] - 0s 3ms/step - loss: 0.6527 - accuracy: 0.6162\n",
      "Epoch 11/200\n",
      "28/28 [==============================] - 0s 2ms/step - loss: 0.6502 - accuracy: 0.6150\n",
      "Epoch 12/200\n",
      "28/28 [==============================] - 0s 3ms/step - loss: 0.6478 - accuracy: 0.6229\n",
      "Epoch 13/200\n",
      "28/28 [==============================] - 0s 5ms/step - loss: 0.6455 - accuracy: 0.6240\n",
      "Epoch 14/200\n",
      "28/28 [==============================] - 0s 3ms/step - loss: 0.6422 - accuracy: 0.6386\n",
      "Epoch 15/200\n",
      "28/28 [==============================] - 0s 3ms/step - loss: 0.6396 - accuracy: 0.6386\n",
      "Epoch 16/200\n",
      "28/28 [==============================] - 0s 3ms/step - loss: 0.6357 - accuracy: 0.6386\n",
      "Epoch 17/200\n",
      "28/28 [==============================] - 0s 2ms/step - loss: 0.6323 - accuracy: 0.6409\n",
      "Epoch 18/200\n",
      "28/28 [==============================] - 0s 3ms/step - loss: 0.6267 - accuracy: 0.6409\n",
      "Epoch 19/200\n",
      "28/28 [==============================] - 0s 2ms/step - loss: 0.6224 - accuracy: 0.6510\n",
      "Epoch 20/200\n",
      "28/28 [==============================] - 0s 2ms/step - loss: 0.6170 - accuracy: 0.6510\n",
      "Epoch 21/200\n",
      "28/28 [==============================] - 0s 2ms/step - loss: 0.6104 - accuracy: 0.6521\n",
      "Epoch 22/200\n",
      "28/28 [==============================] - 0s 3ms/step - loss: 0.6011 - accuracy: 0.6577\n",
      "Epoch 23/200\n",
      "28/28 [==============================] - 0s 3ms/step - loss: 0.5931 - accuracy: 0.6869\n",
      "Epoch 24/200\n",
      "28/28 [==============================] - 0s 3ms/step - loss: 0.5835 - accuracy: 0.6914\n",
      "Epoch 25/200\n",
      "28/28 [==============================] - 0s 2ms/step - loss: 0.5751 - accuracy: 0.7104\n",
      "Epoch 26/200\n",
      "28/28 [==============================] - 0s 3ms/step - loss: 0.5676 - accuracy: 0.7239\n",
      "Epoch 27/200\n",
      "28/28 [==============================] - 0s 2ms/step - loss: 0.5565 - accuracy: 0.7262\n",
      "Epoch 28/200\n",
      "28/28 [==============================] - 0s 2ms/step - loss: 0.5490 - accuracy: 0.7497\n",
      "Epoch 29/200\n",
      "28/28 [==============================] - 0s 3ms/step - loss: 0.5413 - accuracy: 0.7677\n",
      "Epoch 30/200\n",
      "28/28 [==============================] - 0s 3ms/step - loss: 0.5349 - accuracy: 0.7767\n",
      "Epoch 31/200\n",
      "28/28 [==============================] - 0s 3ms/step - loss: 0.5252 - accuracy: 0.7946\n",
      "Epoch 32/200\n",
      "28/28 [==============================] - 0s 3ms/step - loss: 0.5242 - accuracy: 0.7890\n",
      "Epoch 33/200\n",
      "28/28 [==============================] - 0s 2ms/step - loss: 0.5164 - accuracy: 0.8070\n",
      "Epoch 34/200\n",
      "28/28 [==============================] - 0s 2ms/step - loss: 0.5106 - accuracy: 0.8047\n",
      "Epoch 35/200\n",
      "28/28 [==============================] - 0s 2ms/step - loss: 0.5071 - accuracy: 0.8070\n",
      "Epoch 36/200\n",
      "28/28 [==============================] - 0s 3ms/step - loss: 0.5035 - accuracy: 0.8025\n",
      "Epoch 37/200\n",
      "28/28 [==============================] - 0s 3ms/step - loss: 0.4977 - accuracy: 0.8137\n",
      "Epoch 38/200\n",
      "28/28 [==============================] - 0s 2ms/step - loss: 0.4958 - accuracy: 0.8137\n",
      "Epoch 39/200\n",
      "28/28 [==============================] - 0s 2ms/step - loss: 0.4968 - accuracy: 0.8137\n",
      "Epoch 40/200\n",
      "28/28 [==============================] - 0s 3ms/step - loss: 0.4907 - accuracy: 0.8137\n",
      "Epoch 41/200\n",
      "28/28 [==============================] - 0s 3ms/step - loss: 0.4953 - accuracy: 0.8092\n",
      "Epoch 42/200\n",
      "28/28 [==============================] - 0s 2ms/step - loss: 0.4876 - accuracy: 0.8103\n",
      "Epoch 43/200\n",
      "28/28 [==============================] - 0s 3ms/step - loss: 0.4862 - accuracy: 0.8126\n",
      "Epoch 44/200\n",
      "28/28 [==============================] - 0s 2ms/step - loss: 0.4836 - accuracy: 0.8126\n",
      "Epoch 45/200\n",
      "28/28 [==============================] - 0s 2ms/step - loss: 0.4835 - accuracy: 0.8126\n",
      "Epoch 46/200\n",
      "28/28 [==============================] - 0s 3ms/step - loss: 0.4842 - accuracy: 0.8137\n",
      "Epoch 47/200\n",
      "28/28 [==============================] - 0s 3ms/step - loss: 0.4818 - accuracy: 0.8137\n",
      "Epoch 48/200\n",
      "28/28 [==============================] - 0s 2ms/step - loss: 0.4816 - accuracy: 0.8148\n",
      "Epoch 49/200\n",
      "28/28 [==============================] - 0s 3ms/step - loss: 0.4785 - accuracy: 0.8159\n",
      "Epoch 50/200\n",
      "28/28 [==============================] - 0s 2ms/step - loss: 0.4776 - accuracy: 0.8137\n",
      "Epoch 51/200\n",
      "28/28 [==============================] - 0s 2ms/step - loss: 0.4780 - accuracy: 0.8159\n",
      "Epoch 52/200\n",
      "28/28 [==============================] - 0s 2ms/step - loss: 0.4831 - accuracy: 0.8103\n",
      "Epoch 53/200\n",
      "28/28 [==============================] - 0s 2ms/step - loss: 0.4773 - accuracy: 0.8159\n",
      "Epoch 54/200\n",
      "28/28 [==============================] - 0s 2ms/step - loss: 0.4747 - accuracy: 0.8148\n",
      "Epoch 55/200\n",
      "28/28 [==============================] - 0s 2ms/step - loss: 0.4740 - accuracy: 0.8126\n",
      "Epoch 56/200\n",
      "28/28 [==============================] - 0s 2ms/step - loss: 0.4730 - accuracy: 0.8148\n",
      "Epoch 57/200\n",
      "28/28 [==============================] - 0s 2ms/step - loss: 0.4726 - accuracy: 0.8148\n",
      "Epoch 58/200\n",
      "28/28 [==============================] - 0s 2ms/step - loss: 0.4743 - accuracy: 0.8137\n",
      "Epoch 59/200\n",
      "28/28 [==============================] - 0s 2ms/step - loss: 0.4730 - accuracy: 0.8148\n",
      "Epoch 60/200\n",
      "28/28 [==============================] - 0s 2ms/step - loss: 0.4720 - accuracy: 0.8148\n",
      "Epoch 61/200\n",
      "28/28 [==============================] - 0s 2ms/step - loss: 0.4718 - accuracy: 0.8171\n",
      "Epoch 62/200\n",
      "28/28 [==============================] - 0s 2ms/step - loss: 0.4695 - accuracy: 0.8159\n",
      "Epoch 63/200\n",
      "28/28 [==============================] - 0s 2ms/step - loss: 0.4754 - accuracy: 0.8182\n",
      "Epoch 64/200\n",
      "28/28 [==============================] - 0s 2ms/step - loss: 0.4700 - accuracy: 0.8137\n",
      "Epoch 65/200\n",
      "28/28 [==============================] - 0s 2ms/step - loss: 0.4672 - accuracy: 0.8171\n",
      "Epoch 66/200\n",
      "28/28 [==============================] - 0s 2ms/step - loss: 0.4713 - accuracy: 0.8137\n",
      "Epoch 67/200\n",
      "28/28 [==============================] - 0s 2ms/step - loss: 0.4697 - accuracy: 0.8193\n",
      "Epoch 68/200\n",
      "28/28 [==============================] - 0s 2ms/step - loss: 0.4653 - accuracy: 0.8171\n",
      "Epoch 69/200\n",
      "28/28 [==============================] - 0s 2ms/step - loss: 0.4668 - accuracy: 0.8159\n",
      "Epoch 70/200\n",
      "28/28 [==============================] - 0s 2ms/step - loss: 0.4647 - accuracy: 0.8114\n",
      "Epoch 71/200\n",
      "28/28 [==============================] - 0s 2ms/step - loss: 0.4661 - accuracy: 0.8182\n",
      "Epoch 72/200\n",
      "28/28 [==============================] - 0s 2ms/step - loss: 0.4646 - accuracy: 0.8204\n",
      "Epoch 73/200\n",
      "28/28 [==============================] - 0s 2ms/step - loss: 0.4636 - accuracy: 0.8171\n",
      "Epoch 74/200\n",
      "28/28 [==============================] - 0s 2ms/step - loss: 0.4638 - accuracy: 0.8171\n",
      "Epoch 75/200\n",
      "28/28 [==============================] - 0s 2ms/step - loss: 0.4619 - accuracy: 0.8182\n",
      "Epoch 76/200\n",
      "28/28 [==============================] - 0s 2ms/step - loss: 0.4660 - accuracy: 0.8182\n",
      "Epoch 77/200\n",
      "28/28 [==============================] - 0s 2ms/step - loss: 0.4623 - accuracy: 0.8159\n",
      "Epoch 78/200\n",
      "28/28 [==============================] - 0s 2ms/step - loss: 0.4645 - accuracy: 0.8182\n",
      "Epoch 79/200\n",
      "28/28 [==============================] - 0s 2ms/step - loss: 0.4635 - accuracy: 0.8159\n",
      "Epoch 80/200\n",
      "28/28 [==============================] - 0s 2ms/step - loss: 0.4646 - accuracy: 0.8171\n",
      "Epoch 81/200\n",
      "28/28 [==============================] - 0s 2ms/step - loss: 0.4624 - accuracy: 0.8171\n",
      "Epoch 82/200\n",
      "28/28 [==============================] - 0s 2ms/step - loss: 0.4625 - accuracy: 0.8159\n",
      "Epoch 83/200\n",
      "28/28 [==============================] - 0s 3ms/step - loss: 0.4631 - accuracy: 0.8182\n",
      "Epoch 84/200\n",
      "28/28 [==============================] - 0s 2ms/step - loss: 0.4594 - accuracy: 0.8171\n",
      "Epoch 85/200\n",
      "28/28 [==============================] - 0s 2ms/step - loss: 0.4588 - accuracy: 0.8159\n",
      "Epoch 86/200\n",
      "28/28 [==============================] - 0s 2ms/step - loss: 0.4597 - accuracy: 0.8182\n",
      "Epoch 87/200\n",
      "28/28 [==============================] - 0s 2ms/step - loss: 0.4606 - accuracy: 0.8159\n",
      "Epoch 88/200\n",
      "28/28 [==============================] - 0s 2ms/step - loss: 0.4578 - accuracy: 0.8182\n",
      "Epoch 89/200\n",
      "28/28 [==============================] - 0s 2ms/step - loss: 0.4596 - accuracy: 0.8182\n",
      "Epoch 90/200\n",
      "28/28 [==============================] - 0s 2ms/step - loss: 0.4607 - accuracy: 0.8182\n",
      "Epoch 91/200\n",
      "28/28 [==============================] - 0s 2ms/step - loss: 0.4608 - accuracy: 0.8159\n",
      "Epoch 92/200\n",
      "28/28 [==============================] - 0s 2ms/step - loss: 0.4689 - accuracy: 0.8103\n",
      "Epoch 93/200\n",
      "28/28 [==============================] - 0s 2ms/step - loss: 0.4658 - accuracy: 0.8070\n",
      "Epoch 94/200\n",
      "28/28 [==============================] - 0s 2ms/step - loss: 0.4600 - accuracy: 0.8204\n",
      "Epoch 95/200\n",
      "28/28 [==============================] - 0s 2ms/step - loss: 0.4568 - accuracy: 0.8193\n",
      "Epoch 96/200\n",
      "28/28 [==============================] - 0s 2ms/step - loss: 0.4580 - accuracy: 0.8204\n",
      "Epoch 97/200\n",
      "28/28 [==============================] - 0s 2ms/step - loss: 0.4554 - accuracy: 0.8171\n",
      "Epoch 98/200\n",
      "28/28 [==============================] - 0s 3ms/step - loss: 0.4555 - accuracy: 0.8193\n",
      "Epoch 99/200\n",
      "28/28 [==============================] - 0s 2ms/step - loss: 0.4549 - accuracy: 0.8204\n",
      "Epoch 100/200\n",
      "28/28 [==============================] - 0s 2ms/step - loss: 0.4576 - accuracy: 0.8171\n",
      "Epoch 101/200\n",
      "28/28 [==============================] - 0s 3ms/step - loss: 0.4558 - accuracy: 0.8171\n",
      "Epoch 102/200\n",
      "28/28 [==============================] - 0s 2ms/step - loss: 0.4548 - accuracy: 0.8182\n",
      "Epoch 103/200\n",
      "28/28 [==============================] - 0s 2ms/step - loss: 0.4526 - accuracy: 0.8193\n",
      "Epoch 104/200\n",
      "28/28 [==============================] - 0s 2ms/step - loss: 0.4571 - accuracy: 0.8171\n",
      "Epoch 105/200\n",
      "28/28 [==============================] - 0s 2ms/step - loss: 0.4550 - accuracy: 0.8159\n",
      "Epoch 106/200\n",
      "28/28 [==============================] - 0s 2ms/step - loss: 0.4547 - accuracy: 0.8227\n",
      "Epoch 107/200\n",
      "28/28 [==============================] - 0s 2ms/step - loss: 0.4544 - accuracy: 0.8215\n",
      "Epoch 108/200\n",
      "28/28 [==============================] - 0s 2ms/step - loss: 0.4551 - accuracy: 0.8215\n",
      "Epoch 109/200\n",
      "28/28 [==============================] - 0s 2ms/step - loss: 0.4528 - accuracy: 0.8193\n",
      "Epoch 110/200\n",
      "28/28 [==============================] - 0s 2ms/step - loss: 0.4552 - accuracy: 0.8182\n",
      "Epoch 111/200\n",
      "28/28 [==============================] - 0s 2ms/step - loss: 0.4546 - accuracy: 0.8204\n",
      "Epoch 112/200\n",
      "28/28 [==============================] - 0s 2ms/step - loss: 0.4519 - accuracy: 0.8204\n",
      "Epoch 113/200\n",
      "28/28 [==============================] - 0s 2ms/step - loss: 0.4513 - accuracy: 0.8204\n",
      "Epoch 114/200\n",
      "28/28 [==============================] - 0s 2ms/step - loss: 0.4521 - accuracy: 0.8182\n",
      "Epoch 115/200\n",
      "28/28 [==============================] - 0s 2ms/step - loss: 0.4502 - accuracy: 0.8215\n",
      "Epoch 116/200\n",
      "28/28 [==============================] - 0s 2ms/step - loss: 0.4506 - accuracy: 0.8204\n",
      "Epoch 117/200\n",
      "28/28 [==============================] - 0s 2ms/step - loss: 0.4526 - accuracy: 0.8193\n",
      "Epoch 118/200\n",
      "28/28 [==============================] - 0s 2ms/step - loss: 0.4517 - accuracy: 0.8193\n",
      "Epoch 119/200\n",
      "28/28 [==============================] - 0s 2ms/step - loss: 0.4511 - accuracy: 0.8171\n",
      "Epoch 120/200\n",
      "28/28 [==============================] - 0s 4ms/step - loss: 0.4550 - accuracy: 0.8227\n",
      "Epoch 121/200\n",
      "28/28 [==============================] - 0s 3ms/step - loss: 0.4498 - accuracy: 0.8193\n",
      "Epoch 122/200\n",
      "28/28 [==============================] - 0s 3ms/step - loss: 0.4514 - accuracy: 0.8204\n",
      "Epoch 123/200\n",
      "28/28 [==============================] - 0s 2ms/step - loss: 0.4528 - accuracy: 0.8227\n",
      "Epoch 124/200\n",
      "28/28 [==============================] - 0s 3ms/step - loss: 0.4531 - accuracy: 0.8204\n",
      "Epoch 125/200\n",
      "28/28 [==============================] - 0s 2ms/step - loss: 0.4487 - accuracy: 0.8227\n",
      "Epoch 126/200\n",
      "28/28 [==============================] - 0s 3ms/step - loss: 0.4524 - accuracy: 0.8204\n",
      "Epoch 127/200\n",
      "28/28 [==============================] - 0s 2ms/step - loss: 0.4487 - accuracy: 0.8227\n",
      "Epoch 128/200\n",
      "28/28 [==============================] - 0s 3ms/step - loss: 0.4506 - accuracy: 0.8204\n",
      "Epoch 129/200\n",
      "28/28 [==============================] - 0s 2ms/step - loss: 0.4499 - accuracy: 0.8215\n",
      "Epoch 130/200\n",
      "28/28 [==============================] - 0s 2ms/step - loss: 0.4483 - accuracy: 0.8204\n",
      "Epoch 131/200\n",
      "28/28 [==============================] - 0s 3ms/step - loss: 0.4488 - accuracy: 0.8215\n",
      "Epoch 132/200\n",
      "28/28 [==============================] - 0s 3ms/step - loss: 0.4487 - accuracy: 0.8193\n",
      "Epoch 133/200\n",
      "28/28 [==============================] - 0s 3ms/step - loss: 0.4510 - accuracy: 0.8227\n",
      "Epoch 134/200\n",
      "28/28 [==============================] - 0s 2ms/step - loss: 0.4477 - accuracy: 0.8193\n",
      "Epoch 135/200\n",
      "28/28 [==============================] - 0s 2ms/step - loss: 0.4478 - accuracy: 0.8204\n",
      "Epoch 136/200\n",
      "28/28 [==============================] - 0s 2ms/step - loss: 0.4477 - accuracy: 0.8204\n",
      "Epoch 137/200\n",
      "28/28 [==============================] - 0s 2ms/step - loss: 0.4513 - accuracy: 0.8204\n",
      "Epoch 138/200\n",
      "28/28 [==============================] - 0s 2ms/step - loss: 0.4504 - accuracy: 0.8182\n",
      "Epoch 139/200\n",
      "28/28 [==============================] - 0s 2ms/step - loss: 0.4503 - accuracy: 0.8238\n",
      "Epoch 140/200\n",
      "28/28 [==============================] - 0s 2ms/step - loss: 0.4466 - accuracy: 0.8193\n",
      "Epoch 141/200\n",
      "28/28 [==============================] - 0s 2ms/step - loss: 0.4477 - accuracy: 0.8204\n",
      "Epoch 142/200\n",
      "28/28 [==============================] - 0s 2ms/step - loss: 0.4500 - accuracy: 0.8215\n",
      "Epoch 143/200\n",
      "28/28 [==============================] - 0s 2ms/step - loss: 0.4463 - accuracy: 0.8227\n",
      "Epoch 144/200\n",
      "28/28 [==============================] - 0s 2ms/step - loss: 0.4460 - accuracy: 0.8227\n",
      "Epoch 145/200\n",
      "28/28 [==============================] - 0s 2ms/step - loss: 0.4477 - accuracy: 0.8227\n",
      "Epoch 146/200\n",
      "28/28 [==============================] - 0s 2ms/step - loss: 0.4480 - accuracy: 0.8227\n",
      "Epoch 147/200\n",
      "28/28 [==============================] - 0s 2ms/step - loss: 0.4465 - accuracy: 0.8204\n",
      "Epoch 148/200\n",
      "28/28 [==============================] - 0s 2ms/step - loss: 0.4452 - accuracy: 0.8227\n",
      "Epoch 149/200\n",
      "28/28 [==============================] - 0s 2ms/step - loss: 0.4466 - accuracy: 0.8227\n",
      "Epoch 150/200\n",
      "28/28 [==============================] - 0s 2ms/step - loss: 0.4450 - accuracy: 0.8215\n",
      "Epoch 151/200\n",
      "28/28 [==============================] - 0s 2ms/step - loss: 0.4440 - accuracy: 0.8249\n",
      "Epoch 152/200\n",
      "28/28 [==============================] - 0s 2ms/step - loss: 0.4477 - accuracy: 0.8215\n",
      "Epoch 153/200\n",
      "28/28 [==============================] - 0s 3ms/step - loss: 0.4447 - accuracy: 0.8238\n",
      "Epoch 154/200\n",
      "28/28 [==============================] - 0s 2ms/step - loss: 0.4451 - accuracy: 0.8238\n",
      "Epoch 155/200\n",
      "28/28 [==============================] - 0s 3ms/step - loss: 0.4456 - accuracy: 0.8215\n",
      "Epoch 156/200\n",
      "28/28 [==============================] - 0s 2ms/step - loss: 0.4445 - accuracy: 0.8227\n",
      "Epoch 157/200\n",
      "28/28 [==============================] - 0s 2ms/step - loss: 0.4453 - accuracy: 0.8249\n",
      "Epoch 158/200\n",
      "28/28 [==============================] - 0s 2ms/step - loss: 0.4439 - accuracy: 0.8260\n",
      "Epoch 159/200\n",
      "28/28 [==============================] - 0s 2ms/step - loss: 0.4452 - accuracy: 0.8272\n",
      "Epoch 160/200\n",
      "28/28 [==============================] - 0s 2ms/step - loss: 0.4428 - accuracy: 0.8227\n",
      "Epoch 161/200\n",
      "28/28 [==============================] - 0s 2ms/step - loss: 0.4429 - accuracy: 0.8238\n",
      "Epoch 162/200\n",
      "28/28 [==============================] - 0s 2ms/step - loss: 0.4439 - accuracy: 0.8249\n",
      "Epoch 163/200\n",
      "28/28 [==============================] - 0s 2ms/step - loss: 0.4427 - accuracy: 0.8249\n",
      "Epoch 164/200\n",
      "28/28 [==============================] - 0s 2ms/step - loss: 0.4418 - accuracy: 0.8272\n",
      "Epoch 165/200\n",
      "28/28 [==============================] - 0s 2ms/step - loss: 0.4432 - accuracy: 0.8227\n",
      "Epoch 166/200\n",
      "28/28 [==============================] - 0s 2ms/step - loss: 0.4418 - accuracy: 0.8249\n",
      "Epoch 167/200\n",
      "28/28 [==============================] - 0s 2ms/step - loss: 0.4449 - accuracy: 0.8238\n",
      "Epoch 168/200\n",
      "28/28 [==============================] - 0s 2ms/step - loss: 0.4428 - accuracy: 0.8283\n",
      "Epoch 169/200\n",
      "28/28 [==============================] - 0s 2ms/step - loss: 0.4435 - accuracy: 0.8249\n",
      "Epoch 170/200\n",
      "28/28 [==============================] - 0s 2ms/step - loss: 0.4432 - accuracy: 0.8260\n",
      "Epoch 171/200\n",
      "28/28 [==============================] - 0s 2ms/step - loss: 0.4405 - accuracy: 0.8260\n",
      "Epoch 172/200\n",
      "28/28 [==============================] - 0s 2ms/step - loss: 0.4409 - accuracy: 0.8193\n",
      "Epoch 173/200\n",
      "28/28 [==============================] - 0s 2ms/step - loss: 0.4423 - accuracy: 0.8260\n",
      "Epoch 174/200\n",
      "28/28 [==============================] - 0s 2ms/step - loss: 0.4414 - accuracy: 0.8238\n",
      "Epoch 175/200\n",
      "28/28 [==============================] - 0s 2ms/step - loss: 0.4420 - accuracy: 0.8249\n",
      "Epoch 176/200\n",
      "28/28 [==============================] - 0s 2ms/step - loss: 0.4414 - accuracy: 0.8260\n",
      "Epoch 177/200\n",
      "28/28 [==============================] - 0s 2ms/step - loss: 0.4421 - accuracy: 0.8260\n",
      "Epoch 178/200\n",
      "28/28 [==============================] - 0s 2ms/step - loss: 0.4401 - accuracy: 0.8260\n",
      "Epoch 179/200\n",
      "28/28 [==============================] - 0s 2ms/step - loss: 0.4414 - accuracy: 0.8238\n",
      "Epoch 180/200\n",
      "28/28 [==============================] - 0s 2ms/step - loss: 0.4392 - accuracy: 0.8227\n",
      "Epoch 181/200\n",
      "28/28 [==============================] - 0s 2ms/step - loss: 0.4432 - accuracy: 0.8204\n",
      "Epoch 182/200\n",
      "28/28 [==============================] - 0s 2ms/step - loss: 0.4401 - accuracy: 0.8249\n",
      "Epoch 183/200\n",
      "28/28 [==============================] - 0s 1ms/step - loss: 0.4389 - accuracy: 0.8227\n",
      "Epoch 184/200\n",
      "28/28 [==============================] - 0s 2ms/step - loss: 0.4393 - accuracy: 0.8260\n",
      "Epoch 185/200\n",
      "28/28 [==============================] - 0s 1ms/step - loss: 0.4405 - accuracy: 0.8238\n",
      "Epoch 186/200\n",
      "28/28 [==============================] - 0s 2ms/step - loss: 0.4407 - accuracy: 0.8238\n",
      "Epoch 187/200\n",
      "28/28 [==============================] - 0s 2ms/step - loss: 0.4396 - accuracy: 0.8238\n",
      "Epoch 188/200\n",
      "28/28 [==============================] - 0s 3ms/step - loss: 0.4396 - accuracy: 0.8215\n",
      "Epoch 189/200\n",
      "28/28 [==============================] - 0s 3ms/step - loss: 0.4384 - accuracy: 0.8272\n",
      "Epoch 190/200\n",
      "28/28 [==============================] - 0s 2ms/step - loss: 0.4363 - accuracy: 0.8272\n",
      "Epoch 191/200\n",
      "28/28 [==============================] - 0s 2ms/step - loss: 0.4378 - accuracy: 0.8249\n",
      "Epoch 192/200\n",
      "28/28 [==============================] - 0s 2ms/step - loss: 0.4465 - accuracy: 0.8204\n",
      "Epoch 193/200\n",
      "28/28 [==============================] - 0s 2ms/step - loss: 0.4432 - accuracy: 0.8227\n",
      "Epoch 194/200\n",
      "28/28 [==============================] - 0s 2ms/step - loss: 0.4364 - accuracy: 0.8260\n",
      "Epoch 195/200\n",
      "28/28 [==============================] - 0s 2ms/step - loss: 0.4371 - accuracy: 0.8260\n",
      "Epoch 196/200\n",
      "28/28 [==============================] - 0s 2ms/step - loss: 0.4400 - accuracy: 0.8215\n",
      "Epoch 197/200\n",
      "28/28 [==============================] - 0s 2ms/step - loss: 0.4385 - accuracy: 0.8260\n",
      "Epoch 198/200\n",
      "28/28 [==============================] - 0s 2ms/step - loss: 0.4360 - accuracy: 0.8294\n",
      "Epoch 199/200\n",
      "28/28 [==============================] - 0s 2ms/step - loss: 0.4383 - accuracy: 0.8249\n",
      "Epoch 200/200\n",
      "28/28 [==============================] - 0s 2ms/step - loss: 0.4373 - accuracy: 0.8260\n"
     ]
    }
   ],
   "source": [
    "train_output = model.fit(X_train, Y_train, epochs=200)"
   ]
  },
  {
   "cell_type": "code",
   "execution_count": 161,
   "metadata": {},
   "outputs": [
    {
     "data": {
      "image/png": "[encoded data removed]",
      "text/plain": [
       "<Figure size 432x288 with 1 Axes>"
      ]
     },
     "metadata": {
      "needs_background": "light"
     },
     "output_type": "display_data"
    },
    {
     "data": {
      "image/png": "[encoded data removed]",
      "text/plain": [
       "<Figure size 432x288 with 1 Axes>"
      ]
     },
     "metadata": {
      "needs_background": "light"
     },
     "output_type": "display_data"
    }
   ],
   "source": [
    "plt.plot(train_output.history[\"loss\"])\n",
    "plt.show()\n",
    "plt.plot(train_output.history[\"accuracy\"])\n",
    "plt.show()"
   ]
  },
  {
   "cell_type": "markdown",
   "metadata": {},
   "source": [
    "Predict"
   ]
  },
  {
   "cell_type": "code",
   "execution_count": 162,
   "metadata": {},
   "outputs": [
    {
     "name": "stdout",
     "output_type": "stream",
     "text": [
      "[[0.76491725 0.23508276]]\n",
      "0\n"
     ]
    }
   ],
   "source": [
    "jack = np.array([[1, 1, 36, 0, 0]])\n",
    "\n",
    "result = model.predict(jack)\n",
    "print(result)\n",
    "print(np.argmax(result))"
   ]
  },
  {
   "cell_type": "markdown",
   "metadata": {},
   "source": [
    "Evaluate for MLP"
   ]
  },
  {
   "cell_type": "code",
   "execution_count": 163,
   "metadata": {},
   "outputs": [
    {
     "name": "stdout",
     "output_type": "stream",
     "text": [
      "14/14 [==============================] - 0s 1ms/step - loss: 0.2850 - accuracy: 0.9665\n"
     ]
    },
    {
     "data": {
      "text/plain": [
       "[0.2849607467651367, 0.9665071964263916]"
      ]
     },
     "execution_count": 163,
     "metadata": {},
     "output_type": "execute_result"
    }
   ],
   "source": [
    "model.evaluate(X_test, Y_test)"
   ]
  },
  {
   "cell_type": "markdown",
   "metadata": {},
   "source": [
    "Save model"
   ]
  },
  {
   "cell_type": "code",
   "execution_count": 164,
   "metadata": {},
   "outputs": [],
   "source": [
    "model.save(\"My_Titanic.h5\")"
   ]
  },
  {
   "cell_type": "markdown",
   "metadata": {},
   "source": [
    "Load model"
   ]
  },
  {
   "cell_type": "code",
   "execution_count": 165,
   "metadata": {},
   "outputs": [],
   "source": [
    "model = tf.keras.models.load_model(\"My_Titanic.h5\")"
   ]
  }
 ],
 "metadata": {
  "interpreter": {
   "hash": "482738b15dd22d9b11a313ae3a5565a57d6a37c8a6c1f1849215e72b7387ec0c"
  },
  "kernelspec": {
   "display_name": "Python 3.7.9 64-bit",
   "language": "python",
   "name": "python3"
  },
  "language_info": {
   "codemirror_mode": {
    "name": "ipython",
    "version": 3
   },
   "file_extension": ".py",
   "mimetype": "text/x-python",
   "name": "python",
   "nbconvert_exporter": "python",
   "pygments_lexer": "ipython3",
   "version": "3.7.9"
  },
  "orig_nbformat": 4
 },
 "nbformat": 4,
 "nbformat_minor": 2
}
