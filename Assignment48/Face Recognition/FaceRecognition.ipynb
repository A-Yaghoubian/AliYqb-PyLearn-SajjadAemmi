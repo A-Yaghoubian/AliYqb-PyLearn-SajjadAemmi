{
  "nbformat": 4,
  "nbformat_minor": 0,
  "metadata": {
    "colab": {
      "name": "FaceRecognition.ipynb",
      "provenance": []
    },
    "kernelspec": {
      "name": "python3",
      "display_name": "Python 3"
    },
    "language_info": {
      "name": "python"
    },
    "accelerator": "GPU"
  },
  "cells": [
    {
      "cell_type": "code",
      "source": [
        "!pip install wandb"
      ],
      "metadata": {
        "id": "4FmxdDuo0YEf"
      },
      "execution_count": null,
      "outputs": []
    },
    {
      "cell_type": "markdown",
      "source": [
        "Mount Drive"
      ],
      "metadata": {
        "id": "yQ3RvHMdyvhD"
      }
    },
    {
      "cell_type": "code",
      "source": [
        "from google.colab import drive\n",
        "drive.mount('/content/drive')"
      ],
      "metadata": {
        "id": "skEyhn53yzCJ"
      },
      "execution_count": null,
      "outputs": []
    },
    {
      "cell_type": "markdown",
      "source": [
        "Libraries"
      ],
      "metadata": {
        "id": "gVgN0sqjx9MS"
      }
    },
    {
      "cell_type": "code",
      "execution_count": null,
      "metadata": {
        "id": "sKkq1opxt823"
      },
      "outputs": [],
      "source": [
        "import tensorflow as tf\n",
        "from tensorflow.keras.layers import Conv2D, Dense, Flatten, Dropout, MaxPooling2D\n",
        "from tensorflow.keras.preprocessing.image import ImageDataGenerator\n",
        "from tensorflow.keras import Model\n",
        "from tqdm import tqdm\n",
        "import numpy as np\n",
        "import wandb\n",
        "from wandb.keras import WandbCallback"
      ]
    },
    {
      "cell_type": "code",
      "source": [
        "configs = {\n",
        "            \"learning_rate\": 0.001,\n",
        "            \"epochs\": 24,\n",
        "            \"batch_size\": 32,\n",
        "            \"log_step\": 200,\n",
        "            \"val_log_step\": 50\n",
        "           }\n",
        "run = wandb.init(project='Face Recognition', config=configs)\n",
        "config = wandb.config"
      ],
      "metadata": {
        "id": "AL3NBTVx0rSo"
      },
      "execution_count": null,
      "outputs": []
    },
    {
      "cell_type": "markdown",
      "source": [
        "Hyper Parameters"
      ],
      "metadata": {
        "id": "d-bpeJkYyXpb"
      }
    },
    {
      "cell_type": "code",
      "source": [
        "batch_size = 32\n",
        "epochs = 24\n",
        "width = height = 224"
      ],
      "metadata": {
        "id": "iDpnE-W4yQ3a"
      },
      "execution_count": null,
      "outputs": []
    },
    {
      "cell_type": "markdown",
      "source": [
        "Load and Split Data"
      ],
      "metadata": {
        "id": "YfQijGeXydVR"
      }
    },
    {
      "cell_type": "code",
      "source": [
        "PATH = '/content/drive/MyDrive/Dataset/7-7 dataset'\n",
        "\n",
        "idg = ImageDataGenerator(\n",
        "    rescale = 1.0 / 255.0,\n",
        "    horizontal_flip=True,\n",
        "    brightness_range=(0.7, 1.2),\n",
        "    zoom_range=0.2,\n",
        "    validation_split=0.2\n",
        ")\n",
        "\n",
        "train_data = idg.flow_from_directory(\n",
        "    PATH,\n",
        "    class_mode='categorical',\n",
        "    target_size=(width, height),\n",
        "    batch_size=batch_size,\n",
        "    subset='training'\n",
        ")\n",
        "\n",
        "val_data = idg.flow_from_directory(\n",
        "    PATH,\n",
        "    class_mode='categorical',\n",
        "    target_size=(width, height),\n",
        "    batch_size=batch_size,\n",
        "    subset='validation'\n",
        ")"
      ],
      "metadata": {
        "id": "T0bWMLfMyfFs"
      },
      "execution_count": null,
      "outputs": []
    },
    {
      "cell_type": "markdown",
      "source": [
        "AliNet Class"
      ],
      "metadata": {
        "id": "k5GdcYq-069E"
      }
    },
    {
      "cell_type": "code",
      "source": [
        "class AliNet(Model):\n",
        "    def __init__(self):\n",
        "        super().__init__()\n",
        "        \n",
        "        self.conv2d_1 = Conv2D(32, (3, 3), activation='relu', input_shape=(width, height, 3))\n",
        "        self.conv2d_2 = Conv2D(64, (3, 3), activation='relu')\n",
        "        self.conv2d_3 = Conv2D(128, (3, 3), activation='relu')\n",
        "        self.maxpool2d = MaxPooling2D()\n",
        "        self.flatten = Flatten()\n",
        "        self.dense_1 = Dense(256, activation='relu')\n",
        "        self.dense_2 = Dense(128, activation='relu')\n",
        "        self.dense_3 = Dense(14, activation='softmax')\n",
        "        self.dropout = Dropout(0.3)\n",
        "\n",
        "    def call(self, x):\n",
        "        y = self.conv2d_1(x)\n",
        "        y = self.maxpool2d(y)\n",
        "        # y = self.conv2d_2(y)\n",
        "        # y = self.maxpool2d(y)\n",
        "        y = self.conv2d_3(y)\n",
        "        y = self.maxpool2d(y)\n",
        "        y = self.flatten(y)\n",
        "        # y = self.dense_1(y)\n",
        "        # y = self.dropout(y)\n",
        "        y = self.dense_2(y)\n",
        "        y = self.dropout(y)\n",
        "        out = self.dense_3(y)\n",
        "\n",
        "        return out"
      ],
      "metadata": {
        "id": "TqDKsM8M08HB"
      },
      "execution_count": null,
      "outputs": []
    },
    {
      "cell_type": "code",
      "source": [
        "model = AliNet()"
      ],
      "metadata": {
        "id": "HagjPKqY44JZ"
      },
      "execution_count": 8,
      "outputs": []
    },
    {
      "cell_type": "code",
      "source": [
        "optimizer = tf.keras.optimizers.Adam(config.learning_rate)\n",
        "loss_function = tf.keras.losses.CategoricalCrossentropy()"
      ],
      "metadata": {
        "id": "ht2Q_qa247Co"
      },
      "execution_count": 9,
      "outputs": []
    },
    {
      "cell_type": "code",
      "source": [
        "train_loss = tf.keras.metrics.MeanAbsoluteError()\n",
        "val_loss = tf.keras.metrics.MeanAbsoluteError()\n",
        "train_accuracy = tf.keras.metrics.CategoricalAccuracy()\n",
        "val_accuracy = tf.keras.metrics.CategoricalAccuracy()"
      ],
      "metadata": {
        "id": "6O529OJE486p"
      },
      "execution_count": 10,
      "outputs": []
    },
    {
      "cell_type": "markdown",
      "source": [
        "Train Loop"
      ],
      "metadata": {
        "id": "qzE8edV_5pGJ"
      }
    },
    {
      "cell_type": "code",
      "source": [
        "for epoch in range(epochs):\n",
        "    train_accuracy.reset_states()\n",
        "    val_accuracy.reset_states()\n",
        "    train_loss.reset_states()\n",
        "    val_loss.reset_states()\n",
        "    print(\"Epochs:\", epoch)\n",
        "\n",
        "    # Training ----------------------------------------------------------\n",
        "    for idx, (images, labels) in enumerate(tqdm(train_data)):\n",
        "        with tf.GradientTape() as gTape:\n",
        "            predictions = model(images)\n",
        "            loss = loss_function(labels, predictions)\n",
        "\n",
        "            train_loss(labels, predictions)\n",
        "            train_accuracy(labels, predictions)\n",
        "\n",
        "        # محاسبات مشتق ها\n",
        "        gradients = gTape.gradient(loss, model.trainable_variables)\n",
        "\n",
        "        # به روز رسانی وزن ها\n",
        "        optimizer.apply_gradients(zip(gradients, model.trainable_variables))\n",
        "\n",
        "        if len(train_data) <= idx:\n",
        "            break\n",
        "\n",
        "    # Validation --------------------------------------------------------\n",
        "    for idx, (images, labels) in enumerate(tqdm(val_data)):\n",
        "        predictions = model(images)\n",
        "        loss = loss_function(labels, predictions)\n",
        "\n",
        "        val_loss(labels, predictions)\n",
        "        val_accuracy(labels, predictions)\n",
        "\n",
        "        if len(val_data) <= idx:\n",
        "            break\n",
        "\n",
        "    print('Train Accuracy:', train_accuracy.result())\n",
        "    print('Validation Accuracy:', val_accuracy.result())\n",
        "    print('Train Loss:', train_loss.result())\n",
        "    print('Validation Loss:', val_loss.result())\n",
        "\n",
        "    wandb.log({\n",
        "        'epochs': epoch,\n",
        "        'acc': float(train_accuracy.result()),\n",
        "        'loss': np.mean(train_loss.result()),\n",
        "        'val_acc':float(val_accuracy.result()),         \n",
        "        'val_loss': np.mean(val_loss.result())\n",
        "        })"
      ],
      "metadata": {
        "colab": {
          "base_uri": "https://localhost:8080/"
        },
        "id": "gyTnqIKo4_Bt",
        "outputId": "d2fb668d-63f8-4cba-a720-1906a121ac42"
      },
      "execution_count": 11,
      "outputs": [
        {
          "output_type": "stream",
          "name": "stdout",
          "text": [
            "Epochs: 0\n"
          ]
        },
        {
          "output_type": "stream",
          "name": "stderr",
          "text": [
            "100%|██████████| 35/35 [06:11<00:00, 10.62s/it]\n",
            "100%|██████████| 9/9 [03:06<00:00, 20.77s/it]\n"
          ]
        },
        {
          "output_type": "stream",
          "name": "stdout",
          "text": [
            "Train Accuracy: tf.Tensor(0.19607843, shape=(), dtype=float32)\n",
            "Validation Accuracy: tf.Tensor(0.40333334, shape=(), dtype=float32)\n",
            "Train Loss: tf.Tensor(0.12685081, shape=(), dtype=float32)\n",
            "Validation Loss: tf.Tensor(0.10875356, shape=(), dtype=float32)\n",
            "Epochs: 1\n"
          ]
        },
        {
          "output_type": "stream",
          "name": "stderr",
          "text": [
            "100%|██████████| 35/35 [00:37<00:00,  1.06s/it]\n",
            "100%|██████████| 9/9 [00:09<00:00,  1.10s/it]\n"
          ]
        },
        {
          "output_type": "stream",
          "name": "stdout",
          "text": [
            "Train Accuracy: tf.Tensor(0.5900178, shape=(), dtype=float32)\n",
            "Validation Accuracy: tf.Tensor(0.57666665, shape=(), dtype=float32)\n",
            "Train Loss: tf.Tensor(0.08279116, shape=(), dtype=float32)\n",
            "Validation Loss: tf.Tensor(0.07359373, shape=(), dtype=float32)\n",
            "Epochs: 2\n"
          ]
        },
        {
          "output_type": "stream",
          "name": "stderr",
          "text": [
            "100%|██████████| 35/35 [00:36<00:00,  1.05s/it]\n",
            "100%|██████████| 9/9 [00:10<00:00,  1.12s/it]\n"
          ]
        },
        {
          "output_type": "stream",
          "name": "stdout",
          "text": [
            "Train Accuracy: tf.Tensor(0.70944744, shape=(), dtype=float32)\n",
            "Validation Accuracy: tf.Tensor(0.52, shape=(), dtype=float32)\n",
            "Train Loss: tf.Tensor(0.059009537, shape=(), dtype=float32)\n",
            "Validation Loss: tf.Tensor(0.082139716, shape=(), dtype=float32)\n",
            "Epochs: 3\n"
          ]
        },
        {
          "output_type": "stream",
          "name": "stderr",
          "text": [
            "100%|██████████| 35/35 [00:37<00:00,  1.06s/it]\n",
            "100%|██████████| 9/9 [00:09<00:00,  1.09s/it]\n"
          ]
        },
        {
          "output_type": "stream",
          "name": "stdout",
          "text": [
            "Train Accuracy: tf.Tensor(0.73707664, shape=(), dtype=float32)\n",
            "Validation Accuracy: tf.Tensor(0.57, shape=(), dtype=float32)\n",
            "Train Loss: tf.Tensor(0.055114366, shape=(), dtype=float32)\n",
            "Validation Loss: tf.Tensor(0.07187477, shape=(), dtype=float32)\n",
            "Epochs: 4\n"
          ]
        },
        {
          "output_type": "stream",
          "name": "stderr",
          "text": [
            "100%|██████████| 35/35 [00:37<00:00,  1.06s/it]\n",
            "100%|██████████| 9/9 [00:09<00:00,  1.08s/it]\n"
          ]
        },
        {
          "output_type": "stream",
          "name": "stdout",
          "text": [
            "Train Accuracy: tf.Tensor(0.8217469, shape=(), dtype=float32)\n",
            "Validation Accuracy: tf.Tensor(0.74333334, shape=(), dtype=float32)\n",
            "Train Loss: tf.Tensor(0.03939928, shape=(), dtype=float32)\n",
            "Validation Loss: tf.Tensor(0.050914623, shape=(), dtype=float32)\n",
            "Epochs: 5\n"
          ]
        },
        {
          "output_type": "stream",
          "name": "stderr",
          "text": [
            "100%|██████████| 35/35 [00:37<00:00,  1.06s/it]\n",
            "100%|██████████| 9/9 [00:09<00:00,  1.09s/it]\n"
          ]
        },
        {
          "output_type": "stream",
          "name": "stdout",
          "text": [
            "Train Accuracy: tf.Tensor(0.89215684, shape=(), dtype=float32)\n",
            "Validation Accuracy: tf.Tensor(0.77, shape=(), dtype=float32)\n",
            "Train Loss: tf.Tensor(0.024479391, shape=(), dtype=float32)\n",
            "Validation Loss: tf.Tensor(0.043012448, shape=(), dtype=float32)\n",
            "Epochs: 6\n"
          ]
        },
        {
          "output_type": "stream",
          "name": "stderr",
          "text": [
            "100%|██████████| 35/35 [00:37<00:00,  1.06s/it]\n",
            "100%|██████████| 9/9 [00:10<00:00,  1.11s/it]\n"
          ]
        },
        {
          "output_type": "stream",
          "name": "stdout",
          "text": [
            "Train Accuracy: tf.Tensor(0.8778966, shape=(), dtype=float32)\n",
            "Validation Accuracy: tf.Tensor(0.79, shape=(), dtype=float32)\n",
            "Train Loss: tf.Tensor(0.027779486, shape=(), dtype=float32)\n",
            "Validation Loss: tf.Tensor(0.038193166, shape=(), dtype=float32)\n",
            "Epochs: 7\n"
          ]
        },
        {
          "output_type": "stream",
          "name": "stderr",
          "text": [
            "100%|██████████| 35/35 [00:37<00:00,  1.06s/it]\n",
            "100%|██████████| 9/9 [00:09<00:00,  1.09s/it]\n"
          ]
        },
        {
          "output_type": "stream",
          "name": "stdout",
          "text": [
            "Train Accuracy: tf.Tensor(0.93315506, shape=(), dtype=float32)\n",
            "Validation Accuracy: tf.Tensor(0.7733333, shape=(), dtype=float32)\n",
            "Train Loss: tf.Tensor(0.018894956, shape=(), dtype=float32)\n",
            "Validation Loss: tf.Tensor(0.0391222, shape=(), dtype=float32)\n",
            "Epochs: 8\n"
          ]
        },
        {
          "output_type": "stream",
          "name": "stderr",
          "text": [
            "100%|██████████| 35/35 [00:37<00:00,  1.06s/it]\n",
            "100%|██████████| 9/9 [00:09<00:00,  1.01s/it]\n"
          ]
        },
        {
          "output_type": "stream",
          "name": "stdout",
          "text": [
            "Train Accuracy: tf.Tensor(0.9465241, shape=(), dtype=float32)\n",
            "Validation Accuracy: tf.Tensor(0.8142857, shape=(), dtype=float32)\n",
            "Train Loss: tf.Tensor(0.013481055, shape=(), dtype=float32)\n",
            "Validation Loss: tf.Tensor(0.03351452, shape=(), dtype=float32)\n",
            "Epochs: 9\n"
          ]
        },
        {
          "output_type": "stream",
          "name": "stderr",
          "text": [
            "100%|██████████| 35/35 [00:37<00:00,  1.06s/it]\n",
            "100%|██████████| 9/9 [00:09<00:00,  1.10s/it]\n"
          ]
        },
        {
          "output_type": "stream",
          "name": "stdout",
          "text": [
            "Train Accuracy: tf.Tensor(0.9527629, shape=(), dtype=float32)\n",
            "Validation Accuracy: tf.Tensor(0.83666664, shape=(), dtype=float32)\n",
            "Train Loss: tf.Tensor(0.01373268, shape=(), dtype=float32)\n",
            "Validation Loss: tf.Tensor(0.0316738, shape=(), dtype=float32)\n",
            "Epochs: 10\n"
          ]
        },
        {
          "output_type": "stream",
          "name": "stderr",
          "text": [
            "100%|██████████| 35/35 [00:37<00:00,  1.06s/it]\n",
            "100%|██████████| 9/9 [00:09<00:00,  1.11s/it]\n"
          ]
        },
        {
          "output_type": "stream",
          "name": "stdout",
          "text": [
            "Train Accuracy: tf.Tensor(0.95187163, shape=(), dtype=float32)\n",
            "Validation Accuracy: tf.Tensor(0.82666665, shape=(), dtype=float32)\n",
            "Train Loss: tf.Tensor(0.011424357, shape=(), dtype=float32)\n",
            "Validation Loss: tf.Tensor(0.031801574, shape=(), dtype=float32)\n",
            "Epochs: 11\n"
          ]
        },
        {
          "output_type": "stream",
          "name": "stderr",
          "text": [
            "100%|██████████| 35/35 [00:36<00:00,  1.05s/it]\n",
            "100%|██████████| 9/9 [00:09<00:00,  1.10s/it]\n"
          ]
        },
        {
          "output_type": "stream",
          "name": "stdout",
          "text": [
            "Train Accuracy: tf.Tensor(0.9670232, shape=(), dtype=float32)\n",
            "Validation Accuracy: tf.Tensor(0.80333334, shape=(), dtype=float32)\n",
            "Train Loss: tf.Tensor(0.010070321, shape=(), dtype=float32)\n",
            "Validation Loss: tf.Tensor(0.0319365, shape=(), dtype=float32)\n",
            "Epochs: 12\n"
          ]
        },
        {
          "output_type": "stream",
          "name": "stderr",
          "text": [
            "100%|██████████| 35/35 [00:37<00:00,  1.06s/it]\n",
            "100%|██████████| 9/9 [00:09<00:00,  1.10s/it]\n"
          ]
        },
        {
          "output_type": "stream",
          "name": "stdout",
          "text": [
            "Train Accuracy: tf.Tensor(0.9661319, shape=(), dtype=float32)\n",
            "Validation Accuracy: tf.Tensor(0.80333334, shape=(), dtype=float32)\n",
            "Train Loss: tf.Tensor(0.0095678065, shape=(), dtype=float32)\n",
            "Validation Loss: tf.Tensor(0.03433582, shape=(), dtype=float32)\n",
            "Epochs: 13\n"
          ]
        },
        {
          "output_type": "stream",
          "name": "stderr",
          "text": [
            "100%|██████████| 35/35 [00:37<00:00,  1.07s/it]\n",
            "100%|██████████| 9/9 [00:09<00:00,  1.10s/it]\n"
          ]
        },
        {
          "output_type": "stream",
          "name": "stdout",
          "text": [
            "Train Accuracy: tf.Tensor(0.96256685, shape=(), dtype=float32)\n",
            "Validation Accuracy: tf.Tensor(0.81666666, shape=(), dtype=float32)\n",
            "Train Loss: tf.Tensor(0.009898757, shape=(), dtype=float32)\n",
            "Validation Loss: tf.Tensor(0.032795258, shape=(), dtype=float32)\n",
            "Epochs: 14\n"
          ]
        },
        {
          "output_type": "stream",
          "name": "stderr",
          "text": [
            "100%|██████████| 35/35 [00:36<00:00,  1.06s/it]\n",
            "100%|██████████| 9/9 [00:09<00:00,  1.10s/it]\n"
          ]
        },
        {
          "output_type": "stream",
          "name": "stdout",
          "text": [
            "Train Accuracy: tf.Tensor(0.95187163, shape=(), dtype=float32)\n",
            "Validation Accuracy: tf.Tensor(0.76, shape=(), dtype=float32)\n",
            "Train Loss: tf.Tensor(0.012086532, shape=(), dtype=float32)\n",
            "Validation Loss: tf.Tensor(0.037830878, shape=(), dtype=float32)\n",
            "Epochs: 15\n"
          ]
        },
        {
          "output_type": "stream",
          "name": "stderr",
          "text": [
            "100%|██████████| 35/35 [00:37<00:00,  1.07s/it]\n",
            "100%|██████████| 9/9 [00:09<00:00,  1.10s/it]\n"
          ]
        },
        {
          "output_type": "stream",
          "name": "stdout",
          "text": [
            "Train Accuracy: tf.Tensor(0.95365417, shape=(), dtype=float32)\n",
            "Validation Accuracy: tf.Tensor(0.81333333, shape=(), dtype=float32)\n",
            "Train Loss: tf.Tensor(0.010953659, shape=(), dtype=float32)\n",
            "Validation Loss: tf.Tensor(0.03172249, shape=(), dtype=float32)\n",
            "Epochs: 16\n"
          ]
        },
        {
          "output_type": "stream",
          "name": "stderr",
          "text": [
            "100%|██████████| 35/35 [00:37<00:00,  1.06s/it]\n",
            "100%|██████████| 9/9 [00:09<00:00,  1.09s/it]\n"
          ]
        },
        {
          "output_type": "stream",
          "name": "stdout",
          "text": [
            "Train Accuracy: tf.Tensor(0.96791446, shape=(), dtype=float32)\n",
            "Validation Accuracy: tf.Tensor(0.79333335, shape=(), dtype=float32)\n",
            "Train Loss: tf.Tensor(0.008292294, shape=(), dtype=float32)\n",
            "Validation Loss: tf.Tensor(0.032781657, shape=(), dtype=float32)\n",
            "Epochs: 17\n"
          ]
        },
        {
          "output_type": "stream",
          "name": "stderr",
          "text": [
            "100%|██████████| 35/35 [00:37<00:00,  1.07s/it]\n",
            "100%|██████████| 9/9 [00:09<00:00,  1.03s/it]\n"
          ]
        },
        {
          "output_type": "stream",
          "name": "stdout",
          "text": [
            "Train Accuracy: tf.Tensor(0.9786096, shape=(), dtype=float32)\n",
            "Validation Accuracy: tf.Tensor(0.76785713, shape=(), dtype=float32)\n",
            "Train Loss: tf.Tensor(0.006876447, shape=(), dtype=float32)\n",
            "Validation Loss: tf.Tensor(0.035651207, shape=(), dtype=float32)\n",
            "Epochs: 18\n"
          ]
        },
        {
          "output_type": "stream",
          "name": "stderr",
          "text": [
            "100%|██████████| 35/35 [00:37<00:00,  1.06s/it]\n",
            "100%|██████████| 9/9 [00:09<00:00,  1.11s/it]\n"
          ]
        },
        {
          "output_type": "stream",
          "name": "stdout",
          "text": [
            "Train Accuracy: tf.Tensor(0.9714795, shape=(), dtype=float32)\n",
            "Validation Accuracy: tf.Tensor(0.83666664, shape=(), dtype=float32)\n",
            "Train Loss: tf.Tensor(0.007166262, shape=(), dtype=float32)\n",
            "Validation Loss: tf.Tensor(0.02604642, shape=(), dtype=float32)\n",
            "Epochs: 19\n"
          ]
        },
        {
          "output_type": "stream",
          "name": "stderr",
          "text": [
            "100%|██████████| 35/35 [00:37<00:00,  1.06s/it]\n",
            "100%|██████████| 9/9 [00:09<00:00,  1.10s/it]\n"
          ]
        },
        {
          "output_type": "stream",
          "name": "stdout",
          "text": [
            "Train Accuracy: tf.Tensor(0.9821747, shape=(), dtype=float32)\n",
            "Validation Accuracy: tf.Tensor(0.8333333, shape=(), dtype=float32)\n",
            "Train Loss: tf.Tensor(0.006341139, shape=(), dtype=float32)\n",
            "Validation Loss: tf.Tensor(0.028925337, shape=(), dtype=float32)\n",
            "Epochs: 20\n"
          ]
        },
        {
          "output_type": "stream",
          "name": "stderr",
          "text": [
            "100%|██████████| 35/35 [00:37<00:00,  1.06s/it]\n",
            "100%|██████████| 9/9 [00:09<00:00,  1.08s/it]\n"
          ]
        },
        {
          "output_type": "stream",
          "name": "stdout",
          "text": [
            "Train Accuracy: tf.Tensor(0.9768271, shape=(), dtype=float32)\n",
            "Validation Accuracy: tf.Tensor(0.8333333, shape=(), dtype=float32)\n",
            "Train Loss: tf.Tensor(0.0053869863, shape=(), dtype=float32)\n",
            "Validation Loss: tf.Tensor(0.027297227, shape=(), dtype=float32)\n",
            "Epochs: 21\n"
          ]
        },
        {
          "output_type": "stream",
          "name": "stderr",
          "text": [
            "100%|██████████| 35/35 [00:37<00:00,  1.06s/it]\n",
            "100%|██████████| 9/9 [00:09<00:00,  1.09s/it]\n"
          ]
        },
        {
          "output_type": "stream",
          "name": "stdout",
          "text": [
            "Train Accuracy: tf.Tensor(0.9768271, shape=(), dtype=float32)\n",
            "Validation Accuracy: tf.Tensor(0.80333334, shape=(), dtype=float32)\n",
            "Train Loss: tf.Tensor(0.00613341, shape=(), dtype=float32)\n",
            "Validation Loss: tf.Tensor(0.029845448, shape=(), dtype=float32)\n",
            "Epochs: 22\n"
          ]
        },
        {
          "output_type": "stream",
          "name": "stderr",
          "text": [
            "100%|██████████| 35/35 [00:37<00:00,  1.06s/it]\n",
            "100%|██████████| 9/9 [00:09<00:00,  1.09s/it]\n"
          ]
        },
        {
          "output_type": "stream",
          "name": "stdout",
          "text": [
            "Train Accuracy: tf.Tensor(0.9768271, shape=(), dtype=float32)\n",
            "Validation Accuracy: tf.Tensor(0.89, shape=(), dtype=float32)\n",
            "Train Loss: tf.Tensor(0.005021341, shape=(), dtype=float32)\n",
            "Validation Loss: tf.Tensor(0.020482942, shape=(), dtype=float32)\n",
            "Epochs: 23\n"
          ]
        },
        {
          "output_type": "stream",
          "name": "stderr",
          "text": [
            "100%|██████████| 35/35 [00:37<00:00,  1.07s/it]\n",
            "100%|██████████| 9/9 [00:09<00:00,  1.09s/it]"
          ]
        },
        {
          "output_type": "stream",
          "name": "stdout",
          "text": [
            "Train Accuracy: tf.Tensor(0.9821747, shape=(), dtype=float32)\n",
            "Validation Accuracy: tf.Tensor(0.84, shape=(), dtype=float32)\n",
            "Train Loss: tf.Tensor(0.0046032723, shape=(), dtype=float32)\n",
            "Validation Loss: tf.Tensor(0.024605714, shape=(), dtype=float32)\n"
          ]
        },
        {
          "output_type": "stream",
          "name": "stderr",
          "text": [
            "\n"
          ]
        }
      ]
    },
    {
      "cell_type": "markdown",
      "source": [
        "Save Model"
      ],
      "metadata": {
        "id": "HMXLmHhh8XWR"
      }
    },
    {
      "cell_type": "code",
      "source": [
        "model.save('AliFaceRecognition.h5')\n",
        "model.save_weights(filepath='faceRecognition', save_format='HDF5')"
      ],
      "metadata": {
        "id": "Z5axjRjn8ZMn"
      },
      "execution_count": null,
      "outputs": []
    }
  ]
}