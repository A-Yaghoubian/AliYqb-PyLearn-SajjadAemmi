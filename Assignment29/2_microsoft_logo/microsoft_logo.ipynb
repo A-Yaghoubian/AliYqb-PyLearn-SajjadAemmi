{
 "cells": [
  {
   "cell_type": "code",
   "execution_count": 14,
   "metadata": {},
   "outputs": [],
   "source": [
    "import cv2\n",
    "import matplotlib.pyplot as plt\n",
    "import numpy as np"
   ]
  },
  {
   "cell_type": "code",
   "execution_count": 28,
   "metadata": {},
   "outputs": [
    {
     "data": {
      "text/plain": [
       "<matplotlib.image.AxesImage at 0x1f2d3496908>"
      ]
     },
     "execution_count": 28,
     "metadata": {},
     "output_type": "execute_result"
    },
    {
     "data": {
      "image/png": "[encoded data removed]",
      "text/plain": [
       "<Figure size 432x288 with 1 Axes>"
      ]
     },
     "metadata": {
      "needs_background": "light"
     },
     "output_type": "display_data"
    }
   ],
   "source": [
    "logo = np.ones((600, 1200, 3), dtype='uint8')\n",
    "for i in range(600):\n",
    "    for j in range(1200):\n",
    "        logo[i, j] = (80, 80, 80)\n",
    "        \n",
    "plt.imshow(logo)"
   ]
  },
  {
   "cell_type": "code",
   "execution_count": 29,
   "metadata": {},
   "outputs": [],
   "source": [
    "# red\n",
    "logo[200:300, 200:300] = (246, 83, 20)\n",
    "\n",
    "# blue\n",
    "logo[310:410, 200:300] = (0, 161, 241)\n",
    "\n",
    "# green\n",
    "logo[200:300, 310:410] = (124, 187, 0)\n",
    "\n",
    "# yellow\n",
    "logo[310:410, 310:410] = (255, 187, 0)"
   ]
  },
  {
   "cell_type": "code",
   "execution_count": 30,
   "metadata": {},
   "outputs": [
    {
     "data": {
      "text/plain": [
       "True"
      ]
     },
     "execution_count": 30,
     "metadata": {},
     "output_type": "execute_result"
    }
   ],
   "source": [
    "# text\n",
    "cv2.putText(logo, \"Microsoft\", (450, 350), cv2.FONT_HERSHEY_SIMPLEX, 3.8, (255, 255, 255), 12)\n",
    "logo = cv2.cvtColor(logo, cv2.COLOR_RGB2BGR)\n",
    "cv2.imwrite('logo.jpg', logo)"
   ]
  }
 ],
 "metadata": {
  "interpreter": {
   "hash": "482738b15dd22d9b11a313ae3a5565a57d6a37c8a6c1f1849215e72b7387ec0c"
  },
  "kernelspec": {
   "display_name": "Python 3.7.9 64-bit",
   "language": "python",
   "name": "python3"
  },
  "language_info": {
   "codemirror_mode": {
    "name": "ipython",
    "version": 3
   },
   "file_extension": ".py",
   "mimetype": "text/x-python",
   "name": "python",
   "nbconvert_exporter": "python",
   "pygments_lexer": "ipython3",
   "version": "3.7.9"
  },
  "orig_nbformat": 4
 },
 "nbformat": 4,
 "nbformat_minor": 2
}
