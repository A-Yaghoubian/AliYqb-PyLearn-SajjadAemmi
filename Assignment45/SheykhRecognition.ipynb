{
  "cells": [
    {
      "cell_type": "code",
      "execution_count": null,
      "metadata": {
        "id": "GK_qHbjNuryR"
      },
      "outputs": [],
      "source": [
        "!pip install wandb"
      ]
    },
    {
      "cell_type": "markdown",
      "metadata": {
        "id": "XoKdH75Eu5Ul"
      },
      "source": [
        "Libraries"
      ]
    },
    {
      "cell_type": "code",
      "execution_count": null,
      "metadata": {
        "id": "CDqAa_Cru4YJ"
      },
      "outputs": [],
      "source": [
        "import numpy as np\n",
        "import matplotlib.pyplot as plt\n",
        "import tensorflow as tf\n",
        "from tensorflow.keras import layers\n",
        "from tensorflow.keras.preprocessing.image import ImageDataGenerator\n",
        "import cv2\n",
        "import wandb\n",
        "from wandb.keras import WandbCallback\n",
        "from sklearn.metrics import confusion_matrix"
      ]
    },
    {
      "cell_type": "code",
      "execution_count": 13,
      "metadata": {
        "colab": {
          "base_uri": "https://localhost:8080/",
          "height": 474,
          "referenced_widgets": [
            "64e99ad9dcbc43709dd47ed924527460"
          ]
        },
        "id": "GBvYmG8Q53BB",
        "outputId": "886ddbf0-0495-4275-965d-3968e55a866f"
      },
      "outputs": [
        {
          "output_type": "display_data",
          "data": {
            "text/plain": [
              "<IPython.core.display.HTML object>"
            ],
            "text/html": [
              "Finishing last run (ID:3d0n37n9) before initializing another..."
            ]
          },
          "metadata": {}
        },
        {
          "output_type": "stream",
          "name": "stdout",
          "text": [
            "\n"
          ]
        },
        {
          "output_type": "display_data",
          "data": {
            "text/plain": [
              "<IPython.core.display.HTML object>"
            ],
            "text/html": [
              "Waiting for W&B process to finish... <strong style=\"color:green\">(success).</strong>"
            ]
          },
          "metadata": {}
        },
        {
          "output_type": "display_data",
          "data": {
            "text/plain": [
              "VBox(children=(Label(value='0.001 MB of 0.001 MB uploaded (0.000 MB deduped)\\r'), FloatProgress(value=1.0, max…"
            ],
            "application/vnd.jupyter.widget-view+json": {
              "version_major": 2,
              "version_minor": 0,
              "model_id": "64e99ad9dcbc43709dd47ed924527460"
            }
          },
          "metadata": {}
        },
        {
          "output_type": "display_data",
          "data": {
            "text/plain": [
              "<IPython.core.display.HTML object>"
            ],
            "text/html": [
              "<style>\n",
              "    table.wandb td:nth-child(1) { padding: 0 10px; text-align: right }\n",
              "    .wandb-row { display: flex; flex-direction: row; flex-wrap: wrap; width: 100% }\n",
              "    .wandb-col { display: flex; flex-direction: column; flex-basis: 100%; flex: 1; padding: 10px; }\n",
              "    </style>\n",
              "<div class=\"wandb-row\"><div class=\"wandb-col\"><h3>Run history:</h3><br/><table class=\"wandb\"><tr><td>accuracy</td><td>▁▅▆▇▇█▇█████████████</td></tr><tr><td>epoch</td><td>▁▁▂▂▂▃▃▄▄▄▅▅▅▆▆▇▇▇██</td></tr><tr><td>loss</td><td>█▅▄▃▃▂▂▂▂▂▂▂▁▁▁▁▁▁▁▁</td></tr><tr><td>val_accuracy</td><td>▁▆▆▆▆▆▆▇▆▆▇▇▇▆█▆█▇▆▇</td></tr><tr><td>val_loss</td><td>█▃▂▂▂▃▂▂▂▃▂▂▃▃▂▃▁▃▄▂</td></tr></table><br/></div><div class=\"wandb-col\"><h3>Run summary:</h3><br/><table class=\"wandb\"><tr><td>accuracy</td><td>0.98592</td></tr><tr><td>best_epoch</td><td>16</td></tr><tr><td>best_val_loss</td><td>0.18872</td></tr><tr><td>epoch</td><td>19</td></tr><tr><td>loss</td><td>0.08302</td></tr><tr><td>val_accuracy</td><td>0.89796</td></tr><tr><td>val_loss</td><td>0.24447</td></tr></table><br/></div></div>"
            ]
          },
          "metadata": {}
        },
        {
          "output_type": "display_data",
          "data": {
            "text/plain": [
              "<IPython.core.display.HTML object>"
            ],
            "text/html": [
              "Synced <strong style=\"color:#cdcd00\">dulcet-haze-2</strong>: <a href=\"https://wandb.ai/aliyaghoubian/Sheykh%20Recognition/runs/3d0n37n9\" target=\"_blank\">https://wandb.ai/aliyaghoubian/Sheykh%20Recognition/runs/3d0n37n9</a><br/>Synced 5 W&B file(s), 1 media file(s), 0 artifact file(s) and 1 other file(s)"
            ]
          },
          "metadata": {}
        },
        {
          "output_type": "display_data",
          "data": {
            "text/plain": [
              "<IPython.core.display.HTML object>"
            ],
            "text/html": [
              "Find logs at: <code>./wandb/run-20220317_082046-3d0n37n9/logs</code>"
            ]
          },
          "metadata": {}
        },
        {
          "output_type": "display_data",
          "data": {
            "text/plain": [
              "<IPython.core.display.HTML object>"
            ],
            "text/html": [
              "Successfully finished last run (ID:3d0n37n9). Initializing new run:<br/>"
            ]
          },
          "metadata": {}
        },
        {
          "output_type": "display_data",
          "data": {
            "text/plain": [
              "<IPython.core.display.HTML object>"
            ],
            "text/html": [
              "Tracking run with wandb version 0.12.11"
            ]
          },
          "metadata": {}
        },
        {
          "output_type": "display_data",
          "data": {
            "text/plain": [
              "<IPython.core.display.HTML object>"
            ],
            "text/html": [
              "Run data is saved locally in <code>/content/wandb/run-20220317_082740-3dn70gtw</code>"
            ]
          },
          "metadata": {}
        },
        {
          "output_type": "display_data",
          "data": {
            "text/plain": [
              "<IPython.core.display.HTML object>"
            ],
            "text/html": [
              "Syncing run <strong><a href=\"https://wandb.ai/aliyaghoubian/Sheykh%20Recognition/runs/3dn70gtw\" target=\"_blank\">pleasant-paper-3</a></strong> to <a href=\"https://wandb.ai/aliyaghoubian/Sheykh%20Recognition\" target=\"_blank\">Weights & Biases</a> (<a href=\"https://wandb.me/run\" target=\"_blank\">docs</a>)<br/>"
            ]
          },
          "metadata": {}
        },
        {
          "output_type": "execute_result",
          "data": {
            "text/html": [
              "<button onClick=\"this.nextSibling.style.display='block';this.style.display='none';\">Display W&B run</button><iframe src=\"https://wandb.ai/aliyaghoubian/Sheykh%20Recognition/runs/3dn70gtw?jupyter=true\" style=\"border:none;width:100%;height:420px;display:none;\"></iframe>"
            ],
            "text/plain": [
              "<wandb.sdk.wandb_run.Run at 0x7f304b331450>"
            ]
          },
          "metadata": {},
          "execution_count": 13
        }
      ],
      "source": [
        "wandb.init(project=\"Sheykh Recognition\")"
      ]
    },
    {
      "cell_type": "code",
      "execution_count": null,
      "metadata": {
        "colab": {
          "base_uri": "https://localhost:8080/"
        },
        "id": "OxtPHcF6vmIt",
        "outputId": "40c6d0e3-7975-4229-984a-0d3b2927e6db"
      },
      "outputs": [
        {
          "name": "stdout",
          "output_type": "stream",
          "text": [
            "Found 284 images belonging to 2 classes.\n",
            "Found 49 images belonging to 2 classes.\n"
          ]
        }
      ],
      "source": [
        "train_dataset_path = \"/content/drive/MyDrive/Dataset/Sheykh/Train\"\n",
        "width = height = 224\n",
        "batchSize = 32\n",
        "\n",
        "idg = ImageDataGenerator(\n",
        "    rescale=1./255,\n",
        "\n",
        "    # Augmentation\n",
        "    horizontal_flip=True,\n",
        "    brightness_range=(0.7, 1.3),\n",
        "    rotation_range=15,\n",
        "    zoom_range=0.2,\n",
        "    shear_range=0.1,\n",
        "\n",
        "    validation_split=0.15\n",
        ")\n",
        "\n",
        "train_data = idg.flow_from_directory(\n",
        "    train_dataset_path,\n",
        "    target_size=(width, height),\n",
        "    class_mode=\"categorical\",\n",
        "    batch_size=batchSize,\n",
        "    subset=\"training\"\n",
        ")\n",
        "\n",
        "val_data = idg.flow_from_directory(\n",
        "    train_dataset_path,\n",
        "    target_size=(width, height),\n",
        "    class_mode=\"categorical\",\n",
        "    batch_size=batchSize,\n",
        "    subset=\"validation\"\n",
        ")"
      ]
    },
    {
      "cell_type": "markdown",
      "metadata": {
        "id": "1NoD7Y282Vx1"
      },
      "source": [
        "Model"
      ]
    },
    {
      "cell_type": "code",
      "execution_count": null,
      "metadata": {
        "id": "EOTi1FpA2Pnn"
      },
      "outputs": [],
      "source": [
        "base_model = tf.keras.applications.ResNet50V2(\n",
        "    include_top=False,\n",
        "    weights=\"imagenet\",\n",
        "    input_shape=(width, height, 3),\n",
        "    pooling=\"avg\"\n",
        ")\n",
        "\n",
        "for layer in base_model.layers[:-4]:\n",
        "    layer.trainable = False\n",
        "\n",
        "model = tf.keras.models.Sequential([\n",
        "    base_model,\n",
        "\n",
        "    # layers.Flatten(),\n",
        "    # layers.Dense(1024, activation=\"relu\"),\n",
        "    layers.Dense(2, activation=\"softmax\")\n",
        "])"
      ]
    },
    {
      "cell_type": "code",
      "execution_count": null,
      "metadata": {
        "id": "qX3ZJkwC2a-F"
      },
      "outputs": [],
      "source": [
        "model.compile(\n",
        "    optimizer=tf.keras.optimizers.Adam(),\n",
        "    loss=tf.keras.losses.categorical_crossentropy,\n",
        "    metrics=[\"accuracy\"]\n",
        ")"
      ]
    },
    {
      "cell_type": "code",
      "execution_count": null,
      "metadata": {
        "colab": {
          "background_save": true,
          "base_uri": "https://localhost:8080/"
        },
        "id": "fdxzX2Q32eKC",
        "outputId": "7ae83a39-5c60-41fe-fdf6-493f2134caff"
      },
      "outputs": [
        {
          "name": "stdout",
          "output_type": "stream",
          "text": [
            "Epoch 1/20\n",
            "9/9 [==============================] - 25s 2s/step - loss: 0.7744 - accuracy: 0.5458 - val_loss: 0.6252 - val_accuracy: 0.6531 - _timestamp: 1647505310.0000 - _runtime: 64.0000\n",
            "Epoch 2/20\n",
            "9/9 [==============================] - 12s 1s/step - loss: 0.4858 - accuracy: 0.7817 - val_loss: 0.3243 - val_accuracy: 0.8571 - _timestamp: 1647505323.0000 - _runtime: 77.0000\n",
            "Epoch 3/20\n",
            "9/9 [==============================] - 11s 1s/step - loss: 0.3521 - accuracy: 0.8732 - val_loss: 0.2714 - val_accuracy: 0.8776 - _timestamp: 1647505334.0000 - _runtime: 88.0000\n",
            "Epoch 4/20\n",
            "9/9 [==============================] - 11s 1s/step - loss: 0.2908 - accuracy: 0.8979 - val_loss: 0.2530 - val_accuracy: 0.8776 - _timestamp: 1647505345.0000 - _runtime: 99.0000\n",
            "Epoch 5/20\n",
            "9/9 [==============================] - 10s 1s/step - loss: 0.2282 - accuracy: 0.9296 - val_loss: 0.2645 - val_accuracy: 0.8776 - _timestamp: 1647505355.0000 - _runtime: 109.0000\n",
            "Epoch 6/20\n",
            "9/9 [==============================] - 10s 1s/step - loss: 0.1754 - accuracy: 0.9613 - val_loss: 0.3266 - val_accuracy: 0.8367 - _timestamp: 1647505365.0000 - _runtime: 119.0000\n",
            "Epoch 7/20\n",
            "9/9 [==============================] - 10s 1s/step - loss: 0.1744 - accuracy: 0.9472 - val_loss: 0.2399 - val_accuracy: 0.8776 - _timestamp: 1647505375.0000 - _runtime: 129.0000\n",
            "Epoch 8/20\n",
            "9/9 [==============================] - 10s 1s/step - loss: 0.1451 - accuracy: 0.9648 - val_loss: 0.2376 - val_accuracy: 0.9184 - _timestamp: 1647505385.0000 - _runtime: 139.0000\n",
            "Epoch 9/20\n",
            "9/9 [==============================] - 10s 1s/step - loss: 0.1306 - accuracy: 0.9789 - val_loss: 0.2708 - val_accuracy: 0.8776 - _timestamp: 1647505396.0000 - _runtime: 150.0000\n",
            "Epoch 10/20\n",
            "9/9 [==============================] - 10s 1s/step - loss: 0.1305 - accuracy: 0.9718 - val_loss: 0.2936 - val_accuracy: 0.8776 - _timestamp: 1647505406.0000 - _runtime: 160.0000\n",
            "Epoch 11/20\n",
            "9/9 [==============================] - 10s 1s/step - loss: 0.1331 - accuracy: 0.9577 - val_loss: 0.2418 - val_accuracy: 0.8980 - _timestamp: 1647505416.0000 - _runtime: 170.0000\n",
            "Epoch 12/20\n",
            "9/9 [==============================] - 10s 1s/step - loss: 0.1209 - accuracy: 0.9754 - val_loss: 0.2593 - val_accuracy: 0.9184 - _timestamp: 1647505426.0000 - _runtime: 180.0000\n",
            "Epoch 13/20\n",
            "9/9 [==============================] - 10s 1s/step - loss: 0.1113 - accuracy: 0.9718 - val_loss: 0.3088 - val_accuracy: 0.8980 - _timestamp: 1647505436.0000 - _runtime: 190.0000\n",
            "Epoch 14/20\n",
            "9/9 [==============================] - 10s 1s/step - loss: 0.1135 - accuracy: 0.9683 - val_loss: 0.2867 - val_accuracy: 0.8776 - _timestamp: 1647505446.0000 - _runtime: 200.0000\n",
            "Epoch 15/20\n",
            "9/9 [==============================] - 10s 1s/step - loss: 0.0911 - accuracy: 0.9894 - val_loss: 0.2507 - val_accuracy: 0.9388 - _timestamp: 1647505456.0000 - _runtime: 210.0000\n",
            "Epoch 16/20\n",
            "9/9 [==============================] - 10s 1s/step - loss: 0.0868 - accuracy: 0.9754 - val_loss: 0.3026 - val_accuracy: 0.8776 - _timestamp: 1647505465.0000 - _runtime: 219.0000\n",
            "Epoch 17/20\n",
            "9/9 [==============================] - 10s 1s/step - loss: 0.0802 - accuracy: 0.9789 - val_loss: 0.1887 - val_accuracy: 0.9388 - _timestamp: 1647505475.0000 - _runtime: 229.0000\n",
            "Epoch 18/20\n",
            "9/9 [==============================] - 10s 1s/step - loss: 0.0807 - accuracy: 0.9683 - val_loss: 0.3390 - val_accuracy: 0.8980 - _timestamp: 1647505486.0000 - _runtime: 240.0000\n",
            "Epoch 19/20\n",
            "9/9 [==============================] - 10s 1s/step - loss: 0.0705 - accuracy: 0.9824 - val_loss: 0.3705 - val_accuracy: 0.8367 - _timestamp: 1647505495.0000 - _runtime: 249.0000\n",
            "Epoch 20/20\n",
            "9/9 [==============================] - 10s 1s/step - loss: 0.0830 - accuracy: 0.9859 - val_loss: 0.2445 - val_accuracy: 0.8980 - _timestamp: 1647505505.0000 - _runtime: 259.0000\n"
          ]
        },
        {
          "data": {
            "text/plain": [
              "<keras.callbacks.History at 0x7f30c01046d0>"
            ]
          },
          "execution_count": null,
          "metadata": {},
          "output_type": "execute_result"
        }
      ],
      "source": [
        "model.fit(train_data, validation_data=val_data, epochs=20, callbacks=[WandbCallback()])"
      ]
    },
    {
      "cell_type": "markdown",
      "metadata": {
        "id": "YcYS7Ynv988p"
      },
      "source": [
        "Save"
      ]
    },
    {
      "cell_type": "code",
      "execution_count": 9,
      "metadata": {
        "id": "Ep5Cddtx99-G"
      },
      "outputs": [],
      "source": [
        "model.save('sheykhRecognition_model.h5')"
      ]
    },
    {
      "cell_type": "markdown",
      "metadata": {
        "id": "jIpxCBQf2jbk"
      },
      "source": [
        "Test"
      ]
    },
    {
      "cell_type": "code",
      "execution_count": 10,
      "metadata": {
        "colab": {
          "base_uri": "https://localhost:8080/"
        },
        "id": "p9ZA_LpN2g3j",
        "outputId": "cc0e9eb2-51e6-425a-d2a1-ce3a4754b7ed"
      },
      "outputs": [
        {
          "output_type": "stream",
          "name": "stdout",
          "text": [
            "Found 56 images belonging to 2 classes.\n"
          ]
        }
      ],
      "source": [
        "test_dataset_path = \"/content/drive/MyDrive/Dataset/Sheykh/Test\"\n",
        "width = height = 224\n",
        "batchSize = 32\n",
        "\n",
        "idg = ImageDataGenerator(\n",
        "    rescale=1./255\n",
        ")\n",
        "\n",
        "test_data = idg.flow_from_directory(\n",
        "    test_dataset_path,\n",
        "    target_size=(width, height),\n",
        "    class_mode=\"categorical\",\n",
        "    batch_size=batchSize\n",
        ")"
      ]
    },
    {
      "cell_type": "code",
      "execution_count": 11,
      "metadata": {
        "colab": {
          "base_uri": "https://localhost:8080/"
        },
        "id": "GTraOtoh3hSP",
        "outputId": "3731794e-9053-475d-a670-5ff5457bfb38"
      },
      "outputs": [
        {
          "output_type": "stream",
          "name": "stdout",
          "text": [
            "2/2 [==============================] - 2s 2s/step - loss: 0.0568 - accuracy: 1.0000\n"
          ]
        },
        {
          "output_type": "execute_result",
          "data": {
            "text/plain": [
              "[0.05675332620739937, 1.0]"
            ]
          },
          "metadata": {},
          "execution_count": 11
        }
      ],
      "source": [
        "model.evaluate(test_data)"
      ]
    },
    {
      "cell_type": "markdown",
      "metadata": {
        "id": "_AYQ_ve76lEN"
      },
      "source": [
        "Confusion Matrix"
      ]
    },
    {
      "cell_type": "code",
      "execution_count": 12,
      "metadata": {
        "colab": {
          "base_uri": "https://localhost:8080/",
          "height": 286
        },
        "id": "PR9CJllW6kYL",
        "outputId": "3a8fa4ce-8083-4a26-e74e-cad563d0d7a6"
      },
      "outputs": [
        {
          "output_type": "execute_result",
          "data": {
            "text/plain": [
              "<matplotlib.colorbar.Colorbar at 0x7f304b1e9ed0>"
            ]
          },
          "metadata": {},
          "execution_count": 12
        },
        {
          "output_type": "display_data",
          "data": {
            "text/plain": [
              "<Figure size 432x288 with 2 Axes>"
            ],
            "image/png": "[encoded data removed]"
          },
          "metadata": {
            "needs_background": "light"
          }
        }
      ],
      "source": [
        "Y_pred = []\n",
        "\n",
        "for path in test_data.filepaths:\n",
        "    image = cv2.imread(path)\n",
        "    image = cv2.cvtColor(image, cv2.COLOR_BGR2RGB)\n",
        "    image = cv2.resize(image, (width, height))\n",
        "    image = image / 255\n",
        "    image = image.reshape(1, width, height, 3)\n",
        "    Y_pred.append(np.argmax(model.predict(image)))\n",
        "\n",
        "conf_mat = confusion_matrix(test_data.classes, Y_pred)\n",
        "plt.imshow(conf_mat)\n",
        "plt.colorbar()"
      ]
    },
    {
      "cell_type": "markdown",
      "metadata": {
        "id": "UN9uACGN6xHV"
      },
      "source": [
        "Inference"
      ]
    },
    {
      "cell_type": "code",
      "execution_count": 18,
      "metadata": {
        "colab": {
          "base_uri": "https://localhost:8080/"
        },
        "id": "kvL6ZG5J6vuE",
        "outputId": "fa36526a-47ce-4abe-f4dd-014aeb4d9a34"
      },
      "outputs": [
        {
          "output_type": "stream",
          "name": "stdout",
          "text": [
            "Sheykh\n"
          ]
        }
      ],
      "source": [
        "image = cv2.imread(\"/content/h2.jpg\")\n",
        "image = cv2.cvtColor(image, cv2.COLOR_BGR2RGB) # cv2 bar khalaf tf\n",
        "image = cv2.resize(image, (width, height))\n",
        "image = image / 255 # normalize\n",
        "image = image.reshape(1, width, height, 3) # 3d -> 4d (batch_size)\n",
        "\n",
        "result = model.predict(image)\n",
        "\n",
        "pred = np.argmax(result)\n",
        "if pred == 0:\n",
        "    print(\"Normal People\")\n",
        "elif pred == 1:\n",
        "    print(\"Sheykh\")"
      ]
    }
  ],
  "metadata": {
    "accelerator": "GPU",
    "colab": {
      "collapsed_sections": [],
      "name": "SheykhRecognition.ipynb",
      "provenance": []
    },
    "kernelspec": {
      "display_name": "Python 3",
      "name": "python3"
    },
    "language_info": {
      "name": "python"
    },
    "widgets": {
      "application/vnd.jupyter.widget-state+json": {}
    }
  },
  "nbformat": 4,
  "nbformat_minor": 0
}