{
 "cells": [
  {
   "cell_type": "code",
   "execution_count": 77,
   "id": "51b5a6c9-fb8a-4fae-bc6f-7052da31c9b2",
   "metadata": {},
   "outputs": [],
   "source": [
    "import numpy as np\n",
    "from scipy import stats\n",
    "import matplotlib.pyplot as plt\n",
    "from sklearn.metrics import r2_score\n",
    "import pandas\n",
    "from sklearn import linear_model\n",
    "from sklearn.preprocessing import StandardScaler\n",
    "from sklearn import tree\n",
    "import pydotplus\n",
    "from sklearn.tree import DecisionTreeClassifier\n",
    "import matplotlib.image as pltimg"
   ]
  },
  {
   "cell_type": "code",
   "execution_count": 2,
   "id": "423a5af9",
   "metadata": {},
   "outputs": [],
   "source": [
    "speed = [99, 86, 87, 88, 111, 86, 103, 87, 94, 78, 77, 85, 86] # car speed"
   ]
  },
  {
   "cell_type": "code",
   "execution_count": 10,
   "id": "41deca98",
   "metadata": {},
   "outputs": [],
   "source": [
    "mean = np.mean(speed) # average\n",
    "median = np.median(speed) # middle after sort \n",
    "mode = stats.mode(speed) # most value"
   ]
  },
  {
   "cell_type": "code",
   "execution_count": 11,
   "id": "4b6a0359",
   "metadata": {},
   "outputs": [
    {
     "name": "stdout",
     "output_type": "stream",
     "text": [
      "89.76923076923077\n",
      "87.0\n",
      "ModeResult(mode=array([86]), count=array([3]))\n"
     ]
    }
   ],
   "source": [
    "print(mean)\n",
    "print(median)\n",
    "print(mode)"
   ]
  },
  {
   "cell_type": "code",
   "execution_count": 12,
   "id": "c17454ac",
   "metadata": {},
   "outputs": [],
   "source": [
    "# Standard Deviation --> σ\n",
    "\n",
    "speed_pack1 = [86, 87, 88, 86, 87, 85, 86]\n",
    "speed_pack2 = [32, 111, 138, 28, 59, 77, 97] # wider range\n",
    "\n",
    "x1 = np.std(speed_pack1)\n",
    "x2 = np.std(speed_pack2)"
   ]
  },
  {
   "cell_type": "code",
   "execution_count": 13,
   "id": "7ca1f166",
   "metadata": {},
   "outputs": [
    {
     "name": "stdout",
     "output_type": "stream",
     "text": [
      "0.9035079029052513\n",
      "37.84501153334721\n"
     ]
    }
   ],
   "source": [
    "print(x1)\n",
    "print(x2)"
   ]
  },
  {
   "cell_type": "code",
   "execution_count": 14,
   "id": "c3f87fd6",
   "metadata": {},
   "outputs": [],
   "source": [
    "# Variance = (standard deviation) ^ 2 --> σ2\n",
    "\n",
    "y1 = np.var(speed_pack1)\n",
    "y2 = np.var(speed_pack2)"
   ]
  },
  {
   "cell_type": "code",
   "execution_count": 15,
   "id": "3709e641",
   "metadata": {},
   "outputs": [
    {
     "name": "stdout",
     "output_type": "stream",
     "text": [
      "0.8163265306122449\n",
      "1432.2448979591834\n"
     ]
    }
   ],
   "source": [
    "print(y1)\n",
    "print(y2)"
   ]
  },
  {
   "cell_type": "code",
   "execution_count": 21,
   "id": "dd25a3fe",
   "metadata": {},
   "outputs": [],
   "source": [
    "# Percentiles\n",
    "\n",
    "ages = [5, 31, 43, 48, 50, 41, 7, 11, 15, 39, 80, 82, 32, 2, 8, 6, 25, 36, 27, 61, 31]\n",
    "\n",
    "p = np.percentile(ages, 75)"
   ]
  },
  {
   "cell_type": "code",
   "execution_count": 22,
   "id": "13da5810",
   "metadata": {},
   "outputs": [
    {
     "name": "stdout",
     "output_type": "stream",
     "text": [
      "43.0\n"
     ]
    }
   ],
   "source": [
    "print(p)"
   ]
  },
  {
   "cell_type": "code",
   "execution_count": 32,
   "id": "84f7e2de",
   "metadata": {},
   "outputs": [
    {
     "name": "stdout",
     "output_type": "stream",
     "text": [
      "[1.27690938 1.5181008  2.78800299 ... 1.301172   3.78091489 4.30884312]\n"
     ]
    }
   ],
   "source": [
    "num = np.random.uniform(0.0, 5.0, 100000) # Create an array containing 250 random floats between 0 and 5\n",
    "print(num)"
   ]
  },
  {
   "cell_type": "code",
   "execution_count": 33,
   "id": "41c9b56b",
   "metadata": {},
   "outputs": [
    {
     "data": {
      "text/plain": [
       "<function matplotlib.pyplot.show(close=None, block=None)>"
      ]
     },
     "execution_count": 33,
     "metadata": {},
     "output_type": "execute_result"
    },
    {
     "data": {
      "image/png": "[encoded data removed]",
      "text/plain": [
       "<Figure size 432x288 with 1 Axes>"
      ]
     },
     "metadata": {
      "needs_background": "light"
     },
     "output_type": "display_data"
    }
   ],
   "source": [
    "# Histogram\n",
    "\n",
    "plt.hist(num, 100)\n",
    "plt.show"
   ]
  },
  {
   "cell_type": "code",
   "execution_count": 34,
   "metadata": {},
   "outputs": [
    {
     "data": {
      "image/png": "[encoded data removed]",
      "text/plain": [
       "<Figure size 432x288 with 1 Axes>"
      ]
     },
     "metadata": {
      "needs_background": "light"
     },
     "output_type": "display_data"
    }
   ],
   "source": [
    "# Normal Data Distribution\n",
    "\n",
    "x = np.random.normal(5.0, 1.0, 100000)\n",
    "\n",
    "plt.hist(x, 100)\n",
    "plt.show()\n",
    "\n",
    "# most values are between 4.0 and 6.0, with a top at approximately 5.0"
   ]
  },
  {
   "cell_type": "code",
   "execution_count": 35,
   "id": "4f682653",
   "metadata": {},
   "outputs": [
    {
     "data": {
      "text/plain": [
       "<function matplotlib.pyplot.show(close=None, block=None)>"
      ]
     },
     "execution_count": 35,
     "metadata": {},
     "output_type": "execute_result"
    },
    {
     "data": {
      "image/png": "[encoded data removed]",
      "text/plain": [
       "<Figure size 432x288 with 1 Axes>"
      ]
     },
     "metadata": {
      "needs_background": "light"
     },
     "output_type": "display_data"
    }
   ],
   "source": [
    "# Scatter Plot\n",
    "\n",
    "x = [5, 7, 8, 7, 2, 17, 2, 9, 4, 11, 12, 9, 6] # age of each car\n",
    "y = [99, 86, 87, 88, 111, 86, 103, 87, 94, 78, 77, 85, 86] # speed of each car\n",
    "\n",
    "plt.scatter(x, y)\n",
    "plt.show\n",
    "\n",
    "# two fastest cars were both 2 years old, and the slowest car was 12 years old"
   ]
  },
  {
   "cell_type": "code",
   "execution_count": 36,
   "id": "907239bc",
   "metadata": {},
   "outputs": [
    {
     "data": {
      "text/plain": [
       "<function matplotlib.pyplot.show(close=None, block=None)>"
      ]
     },
     "execution_count": 36,
     "metadata": {},
     "output_type": "execute_result"
    },
    {
     "data": {
      "image/png": "[encoded data removed]",
      "text/plain": [
       "<Figure size 432x288 with 1 Axes>"
      ]
     },
     "metadata": {
      "needs_background": "light"
     },
     "output_type": "display_data"
    }
   ],
   "source": [
    "x = np.random.normal(5.0, 1.0, 1000)\n",
    "y = np.random.normal(10.0, 2.0, 1000)\n",
    "\n",
    "plt.scatter(x, y)\n",
    "plt.show"
   ]
  },
  {
   "cell_type": "code",
   "execution_count": 40,
   "id": "d0ff99dd",
   "metadata": {},
   "outputs": [
    {
     "name": "stdout",
     "output_type": "stream",
     "text": [
      "-1.7512877115526118 103.10596026490066 -0.758591524376155 0.002646873922456106 0.453536157607742\n"
     ]
    },
    {
     "data": {
      "image/png": "[encoded data removed]",
      "text/plain": [
       "<Figure size 432x288 with 1 Axes>"
      ]
     },
     "metadata": {
      "needs_background": "light"
     },
     "output_type": "display_data"
    }
   ],
   "source": [
    "# Linear Regression\n",
    "\n",
    "x = [5, 7, 8, 7, 2, 17, 2, 9, 4, 11, 12, 9, 6] # age of each car\n",
    "y = [99, 86, 87, 88, 111, 86, 103, 87, 94, 78, 77, 85, 86] # speed of each car\n",
    "\n",
    "slope, intercept, r, p, std_err = stats.linregress(x, y)\n",
    "\n",
    "print(slope, intercept, r, p, std_err)\n",
    "# The r value ranges from -1 to 1, where 0 means no relationship, and 1 (and -1) means 100% related.\n",
    "\n",
    "def myFunc(x) :\n",
    "    return slope * x + intercept\n",
    "\n",
    "myModel = list(map(myFunc, x))\n",
    "\n",
    "# print(myModel)\n",
    "\n",
    "plt.scatter(x, y)\n",
    "plt.plot(x, myModel)\n",
    "plt.show()"
   ]
  },
  {
   "cell_type": "code",
   "execution_count": 41,
   "id": "3ddeba28",
   "metadata": {},
   "outputs": [
    {
     "data": {
      "image/png": "[encoded data removed]",
      "text/plain": [
       "<Figure size 432x288 with 1 Axes>"
      ]
     },
     "metadata": {
      "needs_background": "light"
     },
     "output_type": "display_data"
    }
   ],
   "source": [
    "# Bad Fit for Linear Regression\n",
    "\n",
    "x = [89, 43, 36, 36, 95, 10, 66, 34, 38, 20, 26, 29, 48, 64, 6, 5, 36, 66, 72, 40]\n",
    "y = [21, 46, 3, 35, 67, 95, 53, 72, 58, 10, 26, 34, 90, 33, 38, 20, 56, 2, 47, 15]\n",
    "\n",
    "slope, intercept, r, p, std_err = stats.linregress(x, y)\n",
    "\n",
    "def myfunc(x):\n",
    "  return slope * x + intercept\n",
    "\n",
    "mymodel = list(map(myfunc, x))\n",
    "\n",
    "plt.scatter(x, y)\n",
    "plt.plot(x, mymodel)\n",
    "plt.show()"
   ]
  },
  {
   "cell_type": "code",
   "execution_count": 42,
   "id": "973c9406",
   "metadata": {},
   "outputs": [
    {
     "data": {
      "image/png": "[encoded data removed]",
      "text/plain": [
       "<Figure size 432x288 with 1 Axes>"
      ]
     },
     "metadata": {
      "needs_background": "light"
     },
     "output_type": "display_data"
    }
   ],
   "source": [
    "# Polynomial Regression\n",
    "\n",
    "x = [1, 2, 3, 5, 6, 7, 8, 9, 10, 12, 13, 14, 15, 16, 18, 19, 21, 22]\n",
    "y = [100, 90, 80, 60, 60, 55, 60, 65, 70, 70, 75, 76, 78, 79, 90, 99, 99, 100]\n",
    "\n",
    "mymodel = np.poly1d(np.polyfit(x, y, 3))\n",
    "\n",
    "myline = np.linspace(1, 22, 100)\n",
    "\n",
    "plt.scatter(x, y)\n",
    "plt.plot(myline, mymodel(myline))\n",
    "plt.show()"
   ]
  },
  {
   "cell_type": "code",
   "execution_count": 44,
   "id": "c53b0089",
   "metadata": {},
   "outputs": [
    {
     "name": "stdout",
     "output_type": "stream",
     "text": [
      "0.9432150416451026\n"
     ]
    }
   ],
   "source": [
    "# R-Squared\n",
    "\n",
    "print(r2_score(y, mymodel(x))) # The r-squared value ranges from 0 to 1, where 0 means no relationship, and 1 means 100% related."
   ]
  },
  {
   "cell_type": "code",
   "execution_count": 45,
   "id": "75a16e78",
   "metadata": {},
   "outputs": [
    {
     "name": "stdout",
     "output_type": "stream",
     "text": [
      "88.87331269697978\n"
     ]
    }
   ],
   "source": [
    "speed = mymodel(17)\n",
    "print(speed)"
   ]
  },
  {
   "cell_type": "code",
   "execution_count": 46,
   "id": "2b1e9bb2",
   "metadata": {},
   "outputs": [
    {
     "name": "stdout",
     "output_type": "stream",
     "text": [
      "0.009952707566680652\n"
     ]
    },
    {
     "data": {
      "image/png": "[encoded data removed]",
      "text/plain": [
       "<Figure size 432x288 with 1 Axes>"
      ]
     },
     "metadata": {
      "needs_background": "light"
     },
     "output_type": "display_data"
    }
   ],
   "source": [
    "# Bad Fit for Polynomial Regression\n",
    "\n",
    "x = [89, 43, 36, 36, 95, 10, 66, 34, 38, 20, 26, 29, 48, 64, 6, 5, 36, 66, 72, 40]\n",
    "y = [21, 46, 3, 35, 67, 95, 53, 72, 58, 10, 26, 34, 90, 33, 38, 20, 56, 2, 47, 15]\n",
    "\n",
    "mymodel = np.poly1d(np.polyfit(x, y, 3))\n",
    "\n",
    "myline = np.linspace(2, 95, 100)\n",
    "\n",
    "print(r2_score(y, mymodel(x)))\n",
    "\n",
    "plt.scatter(x, y)\n",
    "plt.plot(myline, mymodel(myline))\n",
    "plt.show()"
   ]
  },
  {
   "cell_type": "code",
   "execution_count": 53,
   "id": "ccbb52af",
   "metadata": {},
   "outputs": [],
   "source": [
    "# Multiple Regression\n",
    "\n",
    "df = pandas.read_csv(\"cars.csv\")\n",
    "\n",
    "X = df[['Weight', 'Volume']] # X = list of the independent values\n",
    "y = df['CO2'] # y = dependent values\n"
   ]
  },
  {
   "cell_type": "code",
   "execution_count": 54,
   "id": "a9cf2aed",
   "metadata": {},
   "outputs": [
    {
     "data": {
      "text/plain": [
       "LinearRegression()"
      ]
     },
     "execution_count": 54,
     "metadata": {},
     "output_type": "execute_result"
    }
   ],
   "source": [
    "regr = linear_model.LinearRegression()\n",
    "regr.fit(X, y)"
   ]
  },
  {
   "cell_type": "code",
   "execution_count": 55,
   "id": "8e0fbe69",
   "metadata": {},
   "outputs": [
    {
     "name": "stderr",
     "output_type": "stream",
     "text": [
      "C:\\Users\\Ali Yaghoubian\\AppData\\Local\\Programs\\Python\\Python37\\lib\\site-packages\\sklearn\\base.py:442: UserWarning: X does not have valid feature names, but LinearRegression was fitted with feature names\n",
      "  \"X does not have valid feature names, but\"\n"
     ]
    }
   ],
   "source": [
    "# Predict the CO2 emission of a car where the weight is 2300 kg and the volume is 1300 cm3 :\n",
    "\n",
    "predictedCO2 = regr.predict([[2300, 1300]])"
   ]
  },
  {
   "cell_type": "code",
   "execution_count": 56,
   "id": "aa421dba",
   "metadata": {},
   "outputs": [
    {
     "name": "stdout",
     "output_type": "stream",
     "text": [
      "[107.2087328]\n"
     ]
    }
   ],
   "source": [
    "print(predictedCO2)"
   ]
  },
  {
   "cell_type": "code",
   "execution_count": 57,
   "id": "d57b3709",
   "metadata": {},
   "outputs": [
    {
     "name": "stdout",
     "output_type": "stream",
     "text": [
      "[0.00755095 0.00780526]\n"
     ]
    }
   ],
   "source": [
    "# The coefficient is a factor that describes the relationship with an unknown variable.\n",
    "\n",
    "print(regr.coef_)\n",
    "\n",
    "# These values tell us that if the weight increase by 1kg, the CO2 emission increases by 0.00755095g.\n",
    "# And if the engine size (Volume) increases by 1 cm3, the CO2 emission increases by 0.00780526 g."
   ]
  },
  {
   "cell_type": "code",
   "execution_count": 58,
   "id": "15bb58e2",
   "metadata": {},
   "outputs": [
    {
     "name": "stdout",
     "output_type": "stream",
     "text": [
      "[114.75968007]\n"
     ]
    },
    {
     "name": "stderr",
     "output_type": "stream",
     "text": [
      "C:\\Users\\Ali Yaghoubian\\AppData\\Local\\Programs\\Python\\Python37\\lib\\site-packages\\sklearn\\base.py:442: UserWarning: X does not have valid feature names, but LinearRegression was fitted with feature names\n",
      "  \"X does not have valid feature names, but\"\n"
     ]
    }
   ],
   "source": [
    "# Test coefficient\n",
    "\n",
    "predictedCO2 = regr.predict([[3300, 1300]])\n",
    "\n",
    "print(predictedCO2)\n",
    "\n",
    "# 107.2087328 + (1000 * 0.00755095) = 114.75968"
   ]
  },
  {
   "cell_type": "code",
   "execution_count": 60,
   "id": "18da3475",
   "metadata": {},
   "outputs": [],
   "source": [
    "# Scale\n",
    "# The standardization method uses this formula: z = (x - u) / s\n",
    "# Where z is the new value, x is the original value, u is the mean and s is the standard deviation."
   ]
  },
  {
   "cell_type": "code",
   "execution_count": 67,
   "id": "18a235ad",
   "metadata": {},
   "outputs": [
    {
     "name": "stdout",
     "output_type": "stream",
     "text": [
      "[107.2087328]\n"
     ]
    },
    {
     "name": "stderr",
     "output_type": "stream",
     "text": [
      "C:\\Users\\Ali Yaghoubian\\AppData\\Local\\Programs\\Python\\Python37\\lib\\site-packages\\sklearn\\base.py:442: UserWarning: X does not have valid feature names, but StandardScaler was fitted with feature names\n",
      "  \"X does not have valid feature names, but\"\n"
     ]
    }
   ],
   "source": [
    "scale = StandardScaler()\n",
    "\n",
    "df = pandas.read_csv(\"cars2.csv\")\n",
    "\n",
    "X = df[['Weight', 'Volume']]\n",
    "y = df['CO2']\n",
    "\n",
    "scaledX = scale.fit_transform(X)\n",
    "\n",
    "# print(X)\n",
    "# print(scaledX[0])\n",
    "\n",
    "regr = linear_model.LinearRegression()\n",
    "regr.fit(scaledX, y)\n",
    "\n",
    "scaled = scale.transform([[2300, 1.3]])\n",
    "\n",
    "predictedCO2 = regr.predict([scaled[0]])\n",
    "print(predictedCO2)"
   ]
  },
  {
   "cell_type": "code",
   "execution_count": 68,
   "id": "53ae5c79",
   "metadata": {},
   "outputs": [],
   "source": [
    "# Train/Test\n",
    "\n",
    "# 80% for training, and 20% for testing"
   ]
  },
  {
   "cell_type": "code",
   "execution_count": 69,
   "id": "024f0044",
   "metadata": {},
   "outputs": [
    {
     "data": {
      "image/png": "[encoded data removed]",
      "text/plain": [
       "<Figure size 432x288 with 1 Axes>"
      ]
     },
     "metadata": {
      "needs_background": "light"
     },
     "output_type": "display_data"
    }
   ],
   "source": [
    "np.random.seed(2)\n",
    "\n",
    "x = np.random.normal(3, 1, 100) # number of minutes before making a purchase\n",
    "y = np.random.normal(150, 40, 100) / x # amount of money spent on the purchase\n",
    "\n",
    "plt.scatter(x, y)\n",
    "plt.show()"
   ]
  },
  {
   "cell_type": "code",
   "execution_count": 70,
   "id": "8e94bd9d",
   "metadata": {},
   "outputs": [],
   "source": [
    "# Split Into Train/Test\n",
    "\n",
    "train_x = x[:80]\n",
    "train_y = y[:80]\n",
    "\n",
    "test_x = x[80:]\n",
    "test_y = y[80:]"
   ]
  },
  {
   "cell_type": "code",
   "execution_count": 71,
   "id": "f74c3744",
   "metadata": {},
   "outputs": [
    {
     "data": {
      "image/png": "[encoded data removed]",
      "text/plain": [
       "<Figure size 432x288 with 1 Axes>"
      ]
     },
     "metadata": {
      "needs_background": "light"
     },
     "output_type": "display_data"
    }
   ],
   "source": [
    "plt.scatter(train_x, train_y)\n",
    "plt.show()"
   ]
  },
  {
   "cell_type": "code",
   "execution_count": 72,
   "id": "f51d7801",
   "metadata": {},
   "outputs": [
    {
     "data": {
      "image/png": "[encoded data removed]",
      "text/plain": [
       "<Figure size 432x288 with 1 Axes>"
      ]
     },
     "metadata": {
      "needs_background": "light"
     },
     "output_type": "display_data"
    }
   ],
   "source": [
    "plt.scatter(test_x, test_y)\n",
    "plt.show()"
   ]
  },
  {
   "cell_type": "code",
   "execution_count": 73,
   "id": "d9164125",
   "metadata": {},
   "outputs": [
    {
     "data": {
      "image/png": "[encoded data removed]",
      "text/plain": [
       "<Figure size 432x288 with 1 Axes>"
      ]
     },
     "metadata": {
      "needs_background": "light"
     },
     "output_type": "display_data"
    }
   ],
   "source": [
    "mymodel = np.poly1d(np.polyfit(train_x, train_y, 4))\n",
    "\n",
    "myline = np.linspace(0, 6, 100)\n",
    "\n",
    "plt.scatter(train_x, train_y)\n",
    "plt.plot(myline, mymodel(myline))\n",
    "plt.show()"
   ]
  },
  {
   "cell_type": "code",
   "execution_count": 74,
   "id": "d8568f1c",
   "metadata": {},
   "outputs": [
    {
     "name": "stdout",
     "output_type": "stream",
     "text": [
      "0.7988645544629795\n"
     ]
    }
   ],
   "source": [
    "r2 = r2_score(train_y, mymodel(train_x))\n",
    "print(r2)"
   ]
  },
  {
   "cell_type": "code",
   "execution_count": 75,
   "id": "cc6893e5",
   "metadata": {},
   "outputs": [
    {
     "name": "stdout",
     "output_type": "stream",
     "text": [
      "0.8086921460343666\n"
     ]
    }
   ],
   "source": [
    "r2 = r2_score(test_y, mymodel(test_x))\n",
    "print(r2)"
   ]
  },
  {
   "cell_type": "code",
   "execution_count": 76,
   "id": "4d1c9c51",
   "metadata": {},
   "outputs": [
    {
     "name": "stdout",
     "output_type": "stream",
     "text": [
      "22.879625918120155\n"
     ]
    }
   ],
   "source": [
    "print(mymodel(5))\n",
    "# The example predicted the customer to spend 22.88 dollar in 5 minutes"
   ]
  },
  {
   "cell_type": "code",
   "execution_count": 78,
   "id": "c0c9e1fc",
   "metadata": {},
   "outputs": [],
   "source": [
    "# Decision Tree"
   ]
  },
  {
   "cell_type": "code",
   "execution_count": null,
   "id": "d57b9221",
   "metadata": {},
   "outputs": [],
   "source": [
    "df = pandas.read_csv('shows.csv')\n",
    "\n",
    "print(df)"
   ]
  },
  {
   "cell_type": "code",
   "execution_count": null,
   "id": "c47adbe1",
   "metadata": {},
   "outputs": [],
   "source": [
    "d = {'UK': 0, 'USA': 1, 'N': 2}\n",
    "df['Nationality'] = df['Nationality'].map(d)\n",
    "d = {'YES': 1, 'NO': 0}\n",
    "df['Go'] = df['Go'].map(d)\n",
    "\n",
    "print(df)"
   ]
  },
  {
   "cell_type": "code",
   "execution_count": null,
   "id": "5ee4d097",
   "metadata": {},
   "outputs": [],
   "source": [
    "features = ['Age', 'Experience', 'Rank', 'Nationality']\n",
    "\n",
    "X = df[features]\n",
    "y = df['Go']\n",
    "\n",
    "print(X)\n",
    "print(y)"
   ]
  },
  {
   "cell_type": "code",
   "execution_count": null,
   "id": "0e5052c2",
   "metadata": {},
   "outputs": [],
   "source": [
    "dtree = DecisionTreeClassifier()\n",
    "dtree = dtree.fit(X, y)\n",
    "data = tree.export_graphviz(dtree, out_file=None, feature_names=features)\n",
    "graph = pydotplus.graph_from_dot_data(data)\n",
    "graph.write_png('mydecisiontree.png')\n",
    "\n",
    "img=pltimg.imread('mydecisiontree.png')\n",
    "imgplot = plt.imshow(img)\n",
    "plt.show()"
   ]
  },
  {
   "cell_type": "code",
   "execution_count": null,
   "id": "a9664c5e",
   "metadata": {},
   "outputs": [],
   "source": [
    "print(dtree.predict([[40, 10, 7, 1]]))\n",
    "\n",
    "print(dtree.predict([[40, 10, 6, 1]]))"
   ]
  }
 ],
 "metadata": {
  "kernelspec": {
   "display_name": "Python 3 (ipykernel)",
   "language": "python",
   "name": "python3"
  },
  "language_info": {
   "codemirror_mode": {
    "name": "ipython",
    "version": 3
   },
   "file_extension": ".py",
   "mimetype": "text/x-python",
   "name": "python",
   "nbconvert_exporter": "python",
   "pygments_lexer": "ipython3",
   "version": "3.7.9"
  }
 },
 "nbformat": 4,
 "nbformat_minor": 5
}
