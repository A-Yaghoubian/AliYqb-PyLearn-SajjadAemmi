{
 "cells": [
  {
   "cell_type": "code",
   "execution_count": 13,
   "metadata": {},
   "outputs": [],
   "source": [
    "import cv2\n",
    "import matplotlib.pyplot as plt"
   ]
  },
  {
   "cell_type": "code",
   "execution_count": 14,
   "metadata": {},
   "outputs": [
    {
     "data": {
      "text/plain": [
       "<matplotlib.image.AxesImage at 0x1c801929248>"
      ]
     },
     "execution_count": 14,
     "metadata": {},
     "output_type": "execute_result"
    },
    {
     "data": {
      "image/png": "[encoded data removed]",
      "text/plain": [
       "<Figure size 432x288 with 1 Axes>"
      ]
     },
     "metadata": {
      "needs_background": "light"
     },
     "output_type": "display_data"
    }
   ],
   "source": [
    "raw_img = cv2.imread('heart.jpg', cv2.IMREAD_GRAYSCALE)\n",
    "\n",
    "_ , img = cv2.threshold(raw_img, 127, 255, cv2.THRESH_BINARY)\n",
    "\n",
    "plt.imshow(img, cmap='gray')"
   ]
  },
  {
   "cell_type": "code",
   "execution_count": 15,
   "metadata": {},
   "outputs": [],
   "source": [
    "final_row_contours = []\n",
    "final_column_contours = []\n",
    "\n",
    "rows, cols = img.shape"
   ]
  },
  {
   "cell_type": "code",
   "execution_count": 16,
   "metadata": {},
   "outputs": [
    {
     "name": "stdout",
     "output_type": "stream",
     "text": [
      "[[52, 75], [52, 110], [53, 70], [53, 114], [54, 67], [54, 117], [55, 65], [55, 119], [56, 64], [56, 121], [57, 62], [57, 122], [58, 61], [58, 123], [59, 60], [59, 124], [60, 59], [60, 125], [61, 58], [61, 126], [62, 57], [62, 127], [63, 57], [63, 127], [64, 56], [64, 128], [65, 56], [65, 128], [66, 55], [66, 129], [67, 55], [67, 129], [68, 54], [68, 130], [69, 54], [69, 130], [70, 54], [70, 130], [71, 54], [71, 130], [72, 54], [72, 130], [73, 54], [73, 130], [74, 54], [74, 130], [75, 54], [75, 130], [76, 54], [76, 130], [77, 54], [77, 130], [78, 54], [78, 130], [79, 54], [79, 130], [80, 54], [80, 130], [81, 55], [81, 129], [82, 55], [82, 129], [83, 55], [83, 129], [84, 56], [84, 128], [85, 56], [85, 128], [86, 56], [86, 128], [87, 57], [87, 127], [88, 57], [88, 127], [89, 58], [89, 126], [90, 58], [90, 126], [91, 59], [91, 125], [92, 60], [92, 124], [93, 60], [93, 124], [94, 61], [94, 123], [95, 62], [95, 122], [96, 62], [96, 122], [97, 63], [97, 121], [98, 64], [98, 120], [99, 65], [99, 119], [100, 66], [100, 118], [101, 67], [101, 118], [102, 67], [102, 117], [103, 68], [103, 116], [104, 69], [104, 115], [105, 70], [105, 114], [106, 71], [106, 113], [107, 72], [107, 112], [108, 73], [108, 111], [109, 75], [109, 109], [110, 76], [110, 108], [111, 77], [111, 107], [112, 78], [112, 106], [113, 79], [113, 105], [114, 80], [114, 104], [115, 81], [115, 103], [116, 82], [116, 102], [117, 83], [117, 101], [118, 84], [118, 100], [119, 85], [119, 99], [120, 87], [120, 97], [121, 88], [121, 96], [122, 89], [122, 95], [123, 90], [123, 94], [124, 91], [124, 93]]\n"
     ]
    }
   ],
   "source": [
    "for i in range(rows):\n",
    "    contour_in_the_row = False # There is not contours in the rows\n",
    "    contours = []\n",
    "    \n",
    "    for j in range(cols):\n",
    "        if contour_in_the_row is False:\n",
    "            if img[i, j] > 200:\n",
    "                contour_in_the_row = True # First point of object\n",
    "                contours.append([i, j])\n",
    "        \n",
    "        elif contour_in_the_row is True:\n",
    "            if img[i, j] < 50:\n",
    "                contour_in_the_row = False # Last point of object\n",
    "                contours.append([i, j])\n",
    "                \n",
    "    if len(contours) != 0: # Something is finded\n",
    "        final_row_contours.append(contours[0])\n",
    "        final_row_contours.append(contours[-1])\n",
    "        \n",
    "print(final_row_contours)"
   ]
  },
  {
   "cell_type": "code",
   "execution_count": 17,
   "metadata": {},
   "outputs": [
    {
     "name": "stdout",
     "output_type": "stream",
     "text": [
      "[[68, 54], [81, 54], [66, 55], [84, 55], [64, 56], [87, 56], [62, 57], [89, 57], [61, 58], [91, 58], [60, 59], [92, 59], [59, 60], [94, 60], [58, 61], [95, 61], [57, 62], [97, 62], [57, 63], [98, 63], [56, 64], [99, 64], [55, 65], [100, 65], [55, 66], [101, 66], [54, 67], [103, 67], [54, 68], [104, 68], [54, 69], [105, 69], [53, 70], [106, 70], [53, 71], [107, 71], [53, 72], [108, 72], [53, 73], [109, 73], [53, 74], [109, 74], [52, 75], [110, 75], [52, 76], [111, 76], [52, 77], [112, 77], [52, 78], [113, 78], [52, 79], [114, 79], [52, 80], [115, 80], [53, 81], [116, 81], [53, 82], [117, 82], [53, 83], [118, 83], [53, 84], [119, 84], [54, 85], [120, 85], [54, 86], [120, 86], [55, 87], [121, 87], [56, 88], [122, 88], [57, 89], [123, 89], [58, 90], [124, 90], [60, 91], [125, 91], [60, 92], [125, 92], [58, 93], [124, 93], [56, 94], [123, 94], [55, 95], [122, 95], [55, 96], [121, 96], [54, 97], [120, 97], [54, 98], [120, 98], [53, 99], [119, 99], [53, 100], [118, 100], [53, 101], [117, 101], [52, 102], [116, 102], [52, 103], [115, 103], [52, 104], [114, 104], [52, 105], [113, 105], [52, 106], [112, 106], [52, 107], [111, 107], [52, 108], [110, 108], [52, 109], [109, 109], [53, 110], [109, 110], [53, 111], [108, 111], [53, 112], [107, 112], [53, 113], [106, 113], [54, 114], [105, 114], [54, 115], [104, 115], [54, 116], [103, 116], [55, 117], [102, 117], [55, 118], [100, 118], [56, 119], [99, 119], [56, 120], [98, 120], [57, 121], [97, 121], [58, 122], [95, 122], [59, 123], [94, 123], [60, 124], [92, 124], [61, 125], [91, 125], [62, 126], [89, 126], [64, 127], [87, 127], [66, 128], [84, 128], [68, 129], [81, 129]]\n"
     ]
    }
   ],
   "source": [
    "for j in range(cols):\n",
    "    contour_in_the_row = False # There is not contours in the rows\n",
    "    contours = []\n",
    "    \n",
    "    for i in range(rows):\n",
    "        if contour_in_the_row is False:\n",
    "            if img[i, j] > 200:\n",
    "                contour_in_the_row = True # First point of object\n",
    "                contours.append([i, j])\n",
    "        \n",
    "        elif contour_in_the_row is True:\n",
    "            if img[i, j] < 50:\n",
    "                contour_in_the_row = False # Last point of object\n",
    "                contours.append([i, j])\n",
    "                \n",
    "    if len(contours) != 0: # Something is finded\n",
    "        final_column_contours.append(contours[0])\n",
    "        final_column_contours.append(contours[-1])\n",
    "        \n",
    "print(final_column_contours)"
   ]
  },
  {
   "cell_type": "code",
   "execution_count": 22,
   "metadata": {},
   "outputs": [
    {
     "data": {
      "text/plain": [
       "<matplotlib.image.AxesImage at 0x1c808d90808>"
      ]
     },
     "execution_count": 22,
     "metadata": {},
     "output_type": "execute_result"
    },
    {
     "data": {
      "image/png": "[encoded data removed]",
      "text/plain": [
       "<Figure size 432x288 with 1 Axes>"
      ]
     },
     "metadata": {
      "needs_background": "light"
     },
     "output_type": "display_data"
    }
   ],
   "source": [
    "cv2.drawContours(img, contours, -1, (127, 127, 127), thickness=1, lineType=cv2.LINE_AA)\n",
    "\n",
    "cv2.imwrite('final.jpg', img)\n",
    "plt.imshow(img, cmap='gray')"
   ]
  }
 ],
 "metadata": {
  "interpreter": {
   "hash": "482738b15dd22d9b11a313ae3a5565a57d6a37c8a6c1f1849215e72b7387ec0c"
  },
  "kernelspec": {
   "display_name": "Python 3.7.9 64-bit",
   "language": "python",
   "name": "python3"
  },
  "language_info": {
   "codemirror_mode": {
    "name": "ipython",
    "version": 3
   },
   "file_extension": ".py",
   "mimetype": "text/x-python",
   "name": "python",
   "nbconvert_exporter": "python",
   "pygments_lexer": "ipython3",
   "version": "3.7.9"
  },
  "orig_nbformat": 4
 },
 "nbformat": 4,
 "nbformat_minor": 2
}
