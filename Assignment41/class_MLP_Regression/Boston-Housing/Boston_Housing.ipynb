{
 "cells": [
  {
   "cell_type": "code",
   "execution_count": 2,
   "metadata": {},
   "outputs": [],
   "source": [
    "import tensorflow as tf\n",
    "from tensorflow.keras.layers import Dense\n",
    "import numpy as np\n",
    "import wandb\n",
    "from wandb.keras import WandbCallback"
   ]
  },
  {
   "cell_type": "code",
   "execution_count": null,
   "metadata": {},
   "outputs": [],
   "source": [
    "wandb.init(project=\"Boston Housing\")"
   ]
  },
  {
   "cell_type": "code",
   "execution_count": null,
   "metadata": {},
   "outputs": [],
   "source": [
    "config = wandb.config\n",
    "config.learning_rate = 0.001"
   ]
  },
  {
   "cell_type": "markdown",
   "metadata": {},
   "source": [
    "### Data"
   ]
  },
  {
   "cell_type": "code",
   "execution_count": 3,
   "metadata": {},
   "outputs": [],
   "source": [
    "boston_dataset = tf.keras.datasets.boston_housing\n",
    "(X_train, Y_train), (X_test, Y_test) = boston_dataset.load_data()"
   ]
  },
  {
   "cell_type": "code",
   "execution_count": 4,
   "metadata": {},
   "outputs": [
    {
     "name": "stdout",
     "output_type": "stream",
     "text": [
      "(404, 13) (404, 1)\n"
     ]
    }
   ],
   "source": [
    "Y_train = Y_train.reshape(-1, 1)\n",
    "print(X_train.shape, Y_train.shape)"
   ]
  },
  {
   "cell_type": "code",
   "execution_count": 5,
   "metadata": {},
   "outputs": [
    {
     "name": "stdout",
     "output_type": "stream",
     "text": [
      "(102, 13) (102, 1)\n"
     ]
    }
   ],
   "source": [
    "Y_test = Y_test.reshape(-1, 1)\n",
    "print(X_test.shape, Y_test.shape)"
   ]
  },
  {
   "cell_type": "markdown",
   "metadata": {},
   "source": [
    "## Model"
   ]
  },
  {
   "cell_type": "code",
   "execution_count": 9,
   "metadata": {},
   "outputs": [],
   "source": [
    "model = tf.keras.models.Sequential([\n",
    "    Dense(24, input_dim=13, activation='sigmoid'), # Hidden Layer 1 # input_dim moshakhas konande input layer ast\n",
    "    Dense(8, activation='sigmoid'), # HL2\n",
    "    Dense(4, activation='sigmoid'), # HL3\n",
    "    Dense(1, activation='linear') # Output Layer\n",
    "])"
   ]
  },
  {
   "cell_type": "code",
   "execution_count": 10,
   "metadata": {},
   "outputs": [],
   "source": [
    "model.compile(\n",
    "    optimizer=tf.keras.optimizers.Adam(learning_rate=config.learning_rate),\n",
    "    loss=tf.keras.losses.MeanSquaredError()\n",
    ")"
   ]
  },
  {
   "cell_type": "code",
   "execution_count": 11,
   "metadata": {},
   "outputs": [
    {
     "name": "stdout",
     "output_type": "stream",
     "text": [
      "Model: \"sequential_1\"\n",
      "_________________________________________________________________\n",
      " Layer (type)                Output Shape              Param #   \n",
      "=================================================================\n",
      " dense_4 (Dense)             (None, 8)                 112       \n",
      "                                                                 \n",
      " dense_5 (Dense)             (None, 8)                 72        \n",
      "                                                                 \n",
      " dense_6 (Dense)             (None, 4)                 36        \n",
      "                                                                 \n",
      " dense_7 (Dense)             (None, 1)                 5         \n",
      "                                                                 \n",
      "=================================================================\n",
      "Total params: 225\n",
      "Trainable params: 225\n",
      "Non-trainable params: 0\n",
      "_________________________________________________________________\n"
     ]
    }
   ],
   "source": [
    "model.summary()"
   ]
  },
  {
   "cell_type": "markdown",
   "metadata": {},
   "source": [
    "- param laye aval = (13 * 8) w + 8 b = 112\n",
    "- param laye badi = (8 * 8) w + 8 b = 72\n",
    "- param laye badi = (8 * 4) w + 4 = 36\n",
    "- param laye akhar = 4 ta w darim va yeki bias = 5"
   ]
  },
  {
   "cell_type": "markdown",
   "metadata": {},
   "source": [
    "## Train"
   ]
  },
  {
   "cell_type": "code",
   "execution_count": 12,
   "metadata": {},
   "outputs": [
    {
     "name": "stdout",
     "output_type": "stream",
     "text": [
      "Epoch 1/32\n",
      "13/13 [==============================] - 2s 6ms/step - loss: 550.9857\n",
      "Epoch 2/32\n",
      "13/13 [==============================] - 0s 6ms/step - loss: 493.3609\n",
      "Epoch 3/32\n",
      "13/13 [==============================] - 0s 3ms/step - loss: 437.3031\n",
      "Epoch 4/32\n",
      "13/13 [==============================] - 0s 3ms/step - loss: 384.7303\n",
      "Epoch 5/32\n",
      "13/13 [==============================] - 0s 5ms/step - loss: 337.5227\n",
      "Epoch 6/32\n",
      "13/13 [==============================] - 0s 3ms/step - loss: 296.5101\n",
      "Epoch 7/32\n",
      "13/13 [==============================] - 0s 4ms/step - loss: 260.7116\n",
      "Epoch 8/32\n",
      "13/13 [==============================] - 0s 3ms/step - loss: 229.3204\n",
      "Epoch 9/32\n",
      "13/13 [==============================] - 0s 2ms/step - loss: 202.0858\n",
      "Epoch 10/32\n",
      "13/13 [==============================] - 0s 5ms/step - loss: 178.6416\n",
      "Epoch 11/32\n",
      "13/13 [==============================] - 0s 2ms/step - loss: 158.7946\n",
      "Epoch 12/32\n",
      "13/13 [==============================] - 0s 2ms/step - loss: 142.5462\n",
      "Epoch 13/32\n",
      "13/13 [==============================] - 0s 2ms/step - loss: 129.6078\n",
      "Epoch 14/32\n",
      "13/13 [==============================] - 0s 2ms/step - loss: 119.4409\n",
      "Epoch 15/32\n",
      "13/13 [==============================] - 0s 3ms/step - loss: 111.4818\n",
      "Epoch 16/32\n",
      "13/13 [==============================] - 0s 3ms/step - loss: 105.2660\n",
      "Epoch 17/32\n",
      "13/13 [==============================] - 0s 2ms/step - loss: 100.4369\n",
      "Epoch 18/32\n",
      "13/13 [==============================] - 0s 3ms/step - loss: 96.8061\n",
      "Epoch 19/32\n",
      "13/13 [==============================] - 0s 3ms/step - loss: 93.9102\n",
      "Epoch 20/32\n",
      "13/13 [==============================] - 0s 3ms/step - loss: 91.6249\n",
      "Epoch 21/32\n",
      "13/13 [==============================] - 0s 2ms/step - loss: 89.9250\n",
      "Epoch 22/32\n",
      "13/13 [==============================] - 0s 2ms/step - loss: 88.6406\n",
      "Epoch 23/32\n",
      "13/13 [==============================] - 0s 4ms/step - loss: 87.7063\n",
      "Epoch 24/32\n",
      "13/13 [==============================] - 0s 2ms/step - loss: 86.9584\n",
      "Epoch 25/32\n",
      "13/13 [==============================] - 0s 2ms/step - loss: 86.4030\n",
      "Epoch 26/32\n",
      "13/13 [==============================] - 0s 2ms/step - loss: 85.9740\n",
      "Epoch 27/32\n",
      "13/13 [==============================] - 0s 3ms/step - loss: 85.6219\n",
      "Epoch 28/32\n",
      "13/13 [==============================] - 0s 2ms/step - loss: 85.3254\n",
      "Epoch 29/32\n",
      "13/13 [==============================] - 0s 2ms/step - loss: 85.1241\n",
      "Epoch 30/32\n",
      "13/13 [==============================] - 0s 2ms/step - loss: 84.9368\n",
      "Epoch 31/32\n",
      "13/13 [==============================] - 0s 2ms/step - loss: 84.8169\n",
      "Epoch 32/32\n",
      "13/13 [==============================] - 0s 3ms/step - loss: 84.7374\n"
     ]
    },
    {
     "data": {
      "text/plain": [
       "<keras.callbacks.History at 0x2e248cf6808>"
      ]
     },
     "execution_count": 12,
     "metadata": {},
     "output_type": "execute_result"
    }
   ],
   "source": [
    "model.fit(X_train, Y_train, epochs=1000, callbacks=[WandbCallback()])"
   ]
  },
  {
   "cell_type": "markdown",
   "metadata": {},
   "source": [
    "akharin loss age 84 hastesh bayad bekhater MSE jazresh ro begirim va dar nahayat yani dar har qeymat khone hodod 9 hezar dollar darim eshtebah migim"
   ]
  },
  {
   "cell_type": "markdown",
   "metadata": {},
   "source": [
    "## Evaluate"
   ]
  },
  {
   "cell_type": "code",
   "execution_count": null,
   "metadata": {},
   "outputs": [],
   "source": [
    "model.evaluate(X_test, Y_test)"
   ]
  },
  {
   "cell_type": "markdown",
   "metadata": {},
   "source": [
    "## Inference"
   ]
  },
  {
   "cell_type": "code",
   "execution_count": null,
   "metadata": {},
   "outputs": [],
   "source": [
    "my_house = np.array([[0.00632, 18.0, 2.31, 0.0, 0.538, 6.575, 65.2, 4.0900, 1.0, 296.0, 15.3, 396.90, 4.98]])\n",
    "\n",
    "model.predict(my_house)"
   ]
  }
 ],
 "metadata": {
  "interpreter": {
   "hash": "482738b15dd22d9b11a313ae3a5565a57d6a37c8a6c1f1849215e72b7387ec0c"
  },
  "kernelspec": {
   "display_name": "Python 3.7.9 64-bit",
   "language": "python",
   "name": "python3"
  },
  "language_info": {
   "codemirror_mode": {
    "name": "ipython",
    "version": 3
   },
   "file_extension": ".py",
   "mimetype": "text/x-python",
   "name": "python",
   "nbconvert_exporter": "python",
   "pygments_lexer": "ipython3",
   "version": "3.7.9"
  },
  "orig_nbformat": 4
 },
 "nbformat": 4,
 "nbformat_minor": 2
}
